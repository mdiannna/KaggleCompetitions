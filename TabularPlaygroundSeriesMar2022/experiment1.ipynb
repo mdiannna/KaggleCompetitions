{
 "cells": [
  {
   "cell_type": "markdown",
   "id": "6918849a",
   "metadata": {},
   "source": [
    "# Solution for the Tabular Playground Series-Mar 2022 Kaggle competition\n",
    "\n",
    "link: https://www.kaggle.com/c/tabular-playground-series-mar-2022"
   ]
  },
  {
   "cell_type": "code",
   "execution_count": 2,
   "id": "8db986d8",
   "metadata": {
    "ExecuteTime": {
     "end_time": "2022-03-17T09:28:49.524530Z",
     "start_time": "2022-03-17T09:28:48.594099Z"
    }
   },
   "outputs": [],
   "source": [
    "import pandas as pd\n",
    "import numpy as np\n",
    "import matplotlib.pyplot as plt"
   ]
  },
  {
   "cell_type": "markdown",
   "id": "07f8a6fc",
   "metadata": {},
   "source": [
    "**Note: the competition is scored with MAE (Mean Absolute Error) metric!**"
   ]
  },
  {
   "cell_type": "markdown",
   "id": "a763cdf6",
   "metadata": {},
   "source": [
    "## Loading Data"
   ]
  },
  {
   "cell_type": "code",
   "execution_count": 3,
   "id": "71b98045",
   "metadata": {
    "ExecuteTime": {
     "end_time": "2022-03-17T09:28:50.177941Z",
     "start_time": "2022-03-17T09:28:49.526999Z"
    }
   },
   "outputs": [
    {
     "data": {
      "text/html": [
       "<div>\n",
       "<style scoped>\n",
       "    .dataframe tbody tr th:only-of-type {\n",
       "        vertical-align: middle;\n",
       "    }\n",
       "\n",
       "    .dataframe tbody tr th {\n",
       "        vertical-align: top;\n",
       "    }\n",
       "\n",
       "    .dataframe thead th {\n",
       "        text-align: right;\n",
       "    }\n",
       "</style>\n",
       "<table border=\"1\" class=\"dataframe\">\n",
       "  <thead>\n",
       "    <tr style=\"text-align: right;\">\n",
       "      <th></th>\n",
       "      <th>row_id</th>\n",
       "      <th>time</th>\n",
       "      <th>x</th>\n",
       "      <th>y</th>\n",
       "      <th>direction</th>\n",
       "      <th>congestion</th>\n",
       "    </tr>\n",
       "  </thead>\n",
       "  <tbody>\n",
       "    <tr>\n",
       "      <th>0</th>\n",
       "      <td>0</td>\n",
       "      <td>1991-04-01 00:00:00</td>\n",
       "      <td>0</td>\n",
       "      <td>0</td>\n",
       "      <td>EB</td>\n",
       "      <td>70</td>\n",
       "    </tr>\n",
       "    <tr>\n",
       "      <th>1</th>\n",
       "      <td>1</td>\n",
       "      <td>1991-04-01 00:00:00</td>\n",
       "      <td>0</td>\n",
       "      <td>0</td>\n",
       "      <td>NB</td>\n",
       "      <td>49</td>\n",
       "    </tr>\n",
       "    <tr>\n",
       "      <th>2</th>\n",
       "      <td>2</td>\n",
       "      <td>1991-04-01 00:00:00</td>\n",
       "      <td>0</td>\n",
       "      <td>0</td>\n",
       "      <td>SB</td>\n",
       "      <td>24</td>\n",
       "    </tr>\n",
       "    <tr>\n",
       "      <th>3</th>\n",
       "      <td>3</td>\n",
       "      <td>1991-04-01 00:00:00</td>\n",
       "      <td>0</td>\n",
       "      <td>1</td>\n",
       "      <td>EB</td>\n",
       "      <td>18</td>\n",
       "    </tr>\n",
       "    <tr>\n",
       "      <th>4</th>\n",
       "      <td>4</td>\n",
       "      <td>1991-04-01 00:00:00</td>\n",
       "      <td>0</td>\n",
       "      <td>1</td>\n",
       "      <td>NB</td>\n",
       "      <td>60</td>\n",
       "    </tr>\n",
       "  </tbody>\n",
       "</table>\n",
       "</div>"
      ],
      "text/plain": [
       "   row_id                 time  x  y direction  congestion\n",
       "0       0  1991-04-01 00:00:00  0  0        EB          70\n",
       "1       1  1991-04-01 00:00:00  0  0        NB          49\n",
       "2       2  1991-04-01 00:00:00  0  0        SB          24\n",
       "3       3  1991-04-01 00:00:00  0  1        EB          18\n",
       "4       4  1991-04-01 00:00:00  0  1        NB          60"
      ]
     },
     "execution_count": 3,
     "metadata": {},
     "output_type": "execute_result"
    }
   ],
   "source": [
    "df_train = pd.read_csv('dataset/train.csv')\n",
    "df_train.head()"
   ]
  },
  {
   "cell_type": "code",
   "execution_count": 4,
   "id": "091cefea",
   "metadata": {
    "ExecuteTime": {
     "end_time": "2022-03-17T09:28:50.203795Z",
     "start_time": "2022-03-17T09:28:50.180846Z"
    }
   },
   "outputs": [
    {
     "data": {
      "text/html": [
       "<div>\n",
       "<style scoped>\n",
       "    .dataframe tbody tr th:only-of-type {\n",
       "        vertical-align: middle;\n",
       "    }\n",
       "\n",
       "    .dataframe tbody tr th {\n",
       "        vertical-align: top;\n",
       "    }\n",
       "\n",
       "    .dataframe thead th {\n",
       "        text-align: right;\n",
       "    }\n",
       "</style>\n",
       "<table border=\"1\" class=\"dataframe\">\n",
       "  <thead>\n",
       "    <tr style=\"text-align: right;\">\n",
       "      <th></th>\n",
       "      <th>row_id</th>\n",
       "      <th>time</th>\n",
       "      <th>x</th>\n",
       "      <th>y</th>\n",
       "      <th>direction</th>\n",
       "      <th>congestion</th>\n",
       "    </tr>\n",
       "  </thead>\n",
       "  <tbody>\n",
       "    <tr>\n",
       "      <th>0</th>\n",
       "      <td>0</td>\n",
       "      <td>1991-04-01 00:00:00</td>\n",
       "      <td>0</td>\n",
       "      <td>0</td>\n",
       "      <td>EB</td>\n",
       "      <td>70</td>\n",
       "    </tr>\n",
       "    <tr>\n",
       "      <th>1</th>\n",
       "      <td>1</td>\n",
       "      <td>1991-04-01 00:00:00</td>\n",
       "      <td>0</td>\n",
       "      <td>0</td>\n",
       "      <td>NB</td>\n",
       "      <td>49</td>\n",
       "    </tr>\n",
       "    <tr>\n",
       "      <th>2</th>\n",
       "      <td>2</td>\n",
       "      <td>1991-04-01 00:00:00</td>\n",
       "      <td>0</td>\n",
       "      <td>0</td>\n",
       "      <td>SB</td>\n",
       "      <td>24</td>\n",
       "    </tr>\n",
       "    <tr>\n",
       "      <th>3</th>\n",
       "      <td>3</td>\n",
       "      <td>1991-04-01 00:00:00</td>\n",
       "      <td>0</td>\n",
       "      <td>1</td>\n",
       "      <td>EB</td>\n",
       "      <td>18</td>\n",
       "    </tr>\n",
       "    <tr>\n",
       "      <th>4</th>\n",
       "      <td>4</td>\n",
       "      <td>1991-04-01 00:00:00</td>\n",
       "      <td>0</td>\n",
       "      <td>1</td>\n",
       "      <td>NB</td>\n",
       "      <td>60</td>\n",
       "    </tr>\n",
       "    <tr>\n",
       "      <th>...</th>\n",
       "      <td>...</td>\n",
       "      <td>...</td>\n",
       "      <td>...</td>\n",
       "      <td>...</td>\n",
       "      <td>...</td>\n",
       "      <td>...</td>\n",
       "    </tr>\n",
       "    <tr>\n",
       "      <th>848830</th>\n",
       "      <td>848830</td>\n",
       "      <td>1991-09-30 11:40:00</td>\n",
       "      <td>2</td>\n",
       "      <td>3</td>\n",
       "      <td>NB</td>\n",
       "      <td>54</td>\n",
       "    </tr>\n",
       "    <tr>\n",
       "      <th>848831</th>\n",
       "      <td>848831</td>\n",
       "      <td>1991-09-30 11:40:00</td>\n",
       "      <td>2</td>\n",
       "      <td>3</td>\n",
       "      <td>NE</td>\n",
       "      <td>28</td>\n",
       "    </tr>\n",
       "    <tr>\n",
       "      <th>848832</th>\n",
       "      <td>848832</td>\n",
       "      <td>1991-09-30 11:40:00</td>\n",
       "      <td>2</td>\n",
       "      <td>3</td>\n",
       "      <td>SB</td>\n",
       "      <td>68</td>\n",
       "    </tr>\n",
       "    <tr>\n",
       "      <th>848833</th>\n",
       "      <td>848833</td>\n",
       "      <td>1991-09-30 11:40:00</td>\n",
       "      <td>2</td>\n",
       "      <td>3</td>\n",
       "      <td>SW</td>\n",
       "      <td>17</td>\n",
       "    </tr>\n",
       "    <tr>\n",
       "      <th>848834</th>\n",
       "      <td>848834</td>\n",
       "      <td>1991-09-30 11:40:00</td>\n",
       "      <td>2</td>\n",
       "      <td>3</td>\n",
       "      <td>WB</td>\n",
       "      <td>24</td>\n",
       "    </tr>\n",
       "  </tbody>\n",
       "</table>\n",
       "<p>848835 rows × 6 columns</p>\n",
       "</div>"
      ],
      "text/plain": [
       "        row_id                 time  x  y direction  congestion\n",
       "0            0  1991-04-01 00:00:00  0  0        EB          70\n",
       "1            1  1991-04-01 00:00:00  0  0        NB          49\n",
       "2            2  1991-04-01 00:00:00  0  0        SB          24\n",
       "3            3  1991-04-01 00:00:00  0  1        EB          18\n",
       "4            4  1991-04-01 00:00:00  0  1        NB          60\n",
       "...        ...                  ... .. ..       ...         ...\n",
       "848830  848830  1991-09-30 11:40:00  2  3        NB          54\n",
       "848831  848831  1991-09-30 11:40:00  2  3        NE          28\n",
       "848832  848832  1991-09-30 11:40:00  2  3        SB          68\n",
       "848833  848833  1991-09-30 11:40:00  2  3        SW          17\n",
       "848834  848834  1991-09-30 11:40:00  2  3        WB          24\n",
       "\n",
       "[848835 rows x 6 columns]"
      ]
     },
     "execution_count": 4,
     "metadata": {},
     "output_type": "execute_result"
    }
   ],
   "source": [
    "df_train"
   ]
  },
  {
   "cell_type": "code",
   "execution_count": 5,
   "id": "a4d48b2a",
   "metadata": {
    "ExecuteTime": {
     "end_time": "2022-03-17T09:28:50.234877Z",
     "start_time": "2022-03-17T09:28:50.206716Z"
    }
   },
   "outputs": [
    {
     "data": {
      "text/html": [
       "<div>\n",
       "<style scoped>\n",
       "    .dataframe tbody tr th:only-of-type {\n",
       "        vertical-align: middle;\n",
       "    }\n",
       "\n",
       "    .dataframe tbody tr th {\n",
       "        vertical-align: top;\n",
       "    }\n",
       "\n",
       "    .dataframe thead th {\n",
       "        text-align: right;\n",
       "    }\n",
       "</style>\n",
       "<table border=\"1\" class=\"dataframe\">\n",
       "  <thead>\n",
       "    <tr style=\"text-align: right;\">\n",
       "      <th></th>\n",
       "      <th>row_id</th>\n",
       "      <th>time</th>\n",
       "      <th>x</th>\n",
       "      <th>y</th>\n",
       "      <th>direction</th>\n",
       "    </tr>\n",
       "  </thead>\n",
       "  <tbody>\n",
       "    <tr>\n",
       "      <th>0</th>\n",
       "      <td>848835</td>\n",
       "      <td>1991-09-30 12:00:00</td>\n",
       "      <td>0</td>\n",
       "      <td>0</td>\n",
       "      <td>EB</td>\n",
       "    </tr>\n",
       "    <tr>\n",
       "      <th>1</th>\n",
       "      <td>848836</td>\n",
       "      <td>1991-09-30 12:00:00</td>\n",
       "      <td>0</td>\n",
       "      <td>0</td>\n",
       "      <td>NB</td>\n",
       "    </tr>\n",
       "    <tr>\n",
       "      <th>2</th>\n",
       "      <td>848837</td>\n",
       "      <td>1991-09-30 12:00:00</td>\n",
       "      <td>0</td>\n",
       "      <td>0</td>\n",
       "      <td>SB</td>\n",
       "    </tr>\n",
       "    <tr>\n",
       "      <th>3</th>\n",
       "      <td>848838</td>\n",
       "      <td>1991-09-30 12:00:00</td>\n",
       "      <td>0</td>\n",
       "      <td>1</td>\n",
       "      <td>EB</td>\n",
       "    </tr>\n",
       "    <tr>\n",
       "      <th>4</th>\n",
       "      <td>848839</td>\n",
       "      <td>1991-09-30 12:00:00</td>\n",
       "      <td>0</td>\n",
       "      <td>1</td>\n",
       "      <td>NB</td>\n",
       "    </tr>\n",
       "  </tbody>\n",
       "</table>\n",
       "</div>"
      ],
      "text/plain": [
       "   row_id                 time  x  y direction\n",
       "0  848835  1991-09-30 12:00:00  0  0        EB\n",
       "1  848836  1991-09-30 12:00:00  0  0        NB\n",
       "2  848837  1991-09-30 12:00:00  0  0        SB\n",
       "3  848838  1991-09-30 12:00:00  0  1        EB\n",
       "4  848839  1991-09-30 12:00:00  0  1        NB"
      ]
     },
     "execution_count": 5,
     "metadata": {},
     "output_type": "execute_result"
    }
   ],
   "source": [
    "df_test = pd.read_csv('dataset/test.csv')\n",
    "df_test.head()"
   ]
  },
  {
   "cell_type": "code",
   "execution_count": 6,
   "id": "335f9d44",
   "metadata": {
    "ExecuteTime": {
     "end_time": "2022-03-17T09:28:50.260115Z",
     "start_time": "2022-03-17T09:28:50.238749Z"
    }
   },
   "outputs": [
    {
     "data": {
      "text/html": [
       "<div>\n",
       "<style scoped>\n",
       "    .dataframe tbody tr th:only-of-type {\n",
       "        vertical-align: middle;\n",
       "    }\n",
       "\n",
       "    .dataframe tbody tr th {\n",
       "        vertical-align: top;\n",
       "    }\n",
       "\n",
       "    .dataframe thead th {\n",
       "        text-align: right;\n",
       "    }\n",
       "</style>\n",
       "<table border=\"1\" class=\"dataframe\">\n",
       "  <thead>\n",
       "    <tr style=\"text-align: right;\">\n",
       "      <th></th>\n",
       "      <th>row_id</th>\n",
       "      <th>congestion</th>\n",
       "    </tr>\n",
       "  </thead>\n",
       "  <tbody>\n",
       "    <tr>\n",
       "      <th>0</th>\n",
       "      <td>848835</td>\n",
       "      <td>0.0</td>\n",
       "    </tr>\n",
       "    <tr>\n",
       "      <th>1</th>\n",
       "      <td>848836</td>\n",
       "      <td>0.0</td>\n",
       "    </tr>\n",
       "    <tr>\n",
       "      <th>2</th>\n",
       "      <td>848837</td>\n",
       "      <td>0.0</td>\n",
       "    </tr>\n",
       "    <tr>\n",
       "      <th>3</th>\n",
       "      <td>848838</td>\n",
       "      <td>0.0</td>\n",
       "    </tr>\n",
       "    <tr>\n",
       "      <th>4</th>\n",
       "      <td>848839</td>\n",
       "      <td>0.0</td>\n",
       "    </tr>\n",
       "  </tbody>\n",
       "</table>\n",
       "</div>"
      ],
      "text/plain": [
       "   row_id  congestion\n",
       "0  848835         0.0\n",
       "1  848836         0.0\n",
       "2  848837         0.0\n",
       "3  848838         0.0\n",
       "4  848839         0.0"
      ]
     },
     "execution_count": 6,
     "metadata": {},
     "output_type": "execute_result"
    }
   ],
   "source": [
    "df_submission_example = pd.read_csv('dataset/sample_submission.csv')\n",
    "df_submission_example.head()"
   ]
  },
  {
   "cell_type": "markdown",
   "id": "036e13ce",
   "metadata": {},
   "source": [
    "## Data exploration"
   ]
  },
  {
   "cell_type": "markdown",
   "id": "74a62672",
   "metadata": {},
   "source": [
    "### Checking missing data:"
   ]
  },
  {
   "cell_type": "code",
   "execution_count": 7,
   "id": "080aedd7",
   "metadata": {
    "ExecuteTime": {
     "end_time": "2022-03-17T09:28:50.396694Z",
     "start_time": "2022-03-17T09:28:50.264549Z"
    }
   },
   "outputs": [
    {
     "data": {
      "text/plain": [
       "row_id        False\n",
       "time          False\n",
       "x             False\n",
       "y             False\n",
       "direction     False\n",
       "congestion    False\n",
       "dtype: bool"
      ]
     },
     "execution_count": 7,
     "metadata": {},
     "output_type": "execute_result"
    }
   ],
   "source": [
    "# checking missing data:\n",
    "df_train.isnull().any()"
   ]
  },
  {
   "cell_type": "code",
   "execution_count": 8,
   "id": "f0789d30",
   "metadata": {
    "ExecuteTime": {
     "end_time": "2022-03-17T09:28:50.420145Z",
     "start_time": "2022-03-17T09:28:50.401869Z"
    }
   },
   "outputs": [
    {
     "data": {
      "text/plain": [
       "row_id       False\n",
       "time         False\n",
       "x            False\n",
       "y            False\n",
       "direction    False\n",
       "dtype: bool"
      ]
     },
     "execution_count": 8,
     "metadata": {},
     "output_type": "execute_result"
    }
   ],
   "source": [
    "df_test.isnull().any()"
   ]
  },
  {
   "cell_type": "code",
   "execution_count": 9,
   "id": "66af226f",
   "metadata": {
    "ExecuteTime": {
     "end_time": "2022-03-17T09:28:50.758851Z",
     "start_time": "2022-03-17T09:28:50.426228Z"
    }
   },
   "outputs": [
    {
     "data": {
      "text/plain": [
       "(array([  3173.,  28562.,  95478., 156096., 176929., 163676., 130937.,\n",
       "         73880.,  17647.,   2457.]),\n",
       " array([  0.,  10.,  20.,  30.,  40.,  50.,  60.,  70.,  80.,  90., 100.]),\n",
       " <a list of 10 Patch objects>)"
      ]
     },
     "execution_count": 9,
     "metadata": {},
     "output_type": "execute_result"
    },
    {
     "data": {
      "image/png": "[encoded data removed]",
      "text/plain": [
       "<Figure size 432x288 with 1 Axes>"
      ]
     },
     "metadata": {
      "needs_background": "light"
     },
     "output_type": "display_data"
    }
   ],
   "source": [
    "plt.hist(df_train['congestion'])"
   ]
  },
  {
   "cell_type": "markdown",
   "id": "922c18d4",
   "metadata": {
    "ExecuteTime": {
     "end_time": "2022-03-14T18:42:30.768609Z",
     "start_time": "2022-03-14T18:42:30.669630Z"
    }
   },
   "source": [
    "it can be observed that the distribution is almost normal"
   ]
  },
  {
   "cell_type": "markdown",
   "id": "a1bd5a81",
   "metadata": {},
   "source": [
    "### Checking data types & converting"
   ]
  },
  {
   "cell_type": "code",
   "execution_count": 10,
   "id": "3dd2f193",
   "metadata": {
    "ExecuteTime": {
     "end_time": "2022-03-17T09:28:50.778595Z",
     "start_time": "2022-03-17T09:28:50.763123Z"
    }
   },
   "outputs": [
    {
     "data": {
      "text/plain": [
       "row_id         int64\n",
       "time          object\n",
       "x              int64\n",
       "y              int64\n",
       "direction     object\n",
       "congestion     int64\n",
       "dtype: object"
      ]
     },
     "execution_count": 10,
     "metadata": {},
     "output_type": "execute_result"
    }
   ],
   "source": [
    "df_train.dtypes"
   ]
  },
  {
   "cell_type": "markdown",
   "id": "7da84298",
   "metadata": {},
   "source": [
    "### Converting data types and encoding columns which are not numeric:"
   ]
  },
  {
   "cell_type": "code",
   "execution_count": 11,
   "id": "ac0d014c",
   "metadata": {
    "ExecuteTime": {
     "end_time": "2022-03-17T09:28:50.938408Z",
     "start_time": "2022-03-17T09:28:50.783597Z"
    }
   },
   "outputs": [
    {
     "data": {
      "text/html": [
       "<div>\n",
       "<style scoped>\n",
       "    .dataframe tbody tr th:only-of-type {\n",
       "        vertical-align: middle;\n",
       "    }\n",
       "\n",
       "    .dataframe tbody tr th {\n",
       "        vertical-align: top;\n",
       "    }\n",
       "\n",
       "    .dataframe thead th {\n",
       "        text-align: right;\n",
       "    }\n",
       "</style>\n",
       "<table border=\"1\" class=\"dataframe\">\n",
       "  <thead>\n",
       "    <tr style=\"text-align: right;\">\n",
       "      <th></th>\n",
       "      <th>row_id</th>\n",
       "      <th>time</th>\n",
       "      <th>x</th>\n",
       "      <th>y</th>\n",
       "      <th>direction</th>\n",
       "      <th>congestion</th>\n",
       "      <th>EB</th>\n",
       "      <th>NB</th>\n",
       "      <th>NE</th>\n",
       "      <th>NW</th>\n",
       "      <th>SB</th>\n",
       "      <th>SE</th>\n",
       "      <th>SW</th>\n",
       "      <th>WB</th>\n",
       "    </tr>\n",
       "  </thead>\n",
       "  <tbody>\n",
       "    <tr>\n",
       "      <th>0</th>\n",
       "      <td>0</td>\n",
       "      <td>1991-04-01 00:00:00</td>\n",
       "      <td>0</td>\n",
       "      <td>0</td>\n",
       "      <td>EB</td>\n",
       "      <td>70</td>\n",
       "      <td>1</td>\n",
       "      <td>0</td>\n",
       "      <td>0</td>\n",
       "      <td>0</td>\n",
       "      <td>0</td>\n",
       "      <td>0</td>\n",
       "      <td>0</td>\n",
       "      <td>0</td>\n",
       "    </tr>\n",
       "    <tr>\n",
       "      <th>1</th>\n",
       "      <td>1</td>\n",
       "      <td>1991-04-01 00:00:00</td>\n",
       "      <td>0</td>\n",
       "      <td>0</td>\n",
       "      <td>NB</td>\n",
       "      <td>49</td>\n",
       "      <td>0</td>\n",
       "      <td>1</td>\n",
       "      <td>0</td>\n",
       "      <td>0</td>\n",
       "      <td>0</td>\n",
       "      <td>0</td>\n",
       "      <td>0</td>\n",
       "      <td>0</td>\n",
       "    </tr>\n",
       "    <tr>\n",
       "      <th>2</th>\n",
       "      <td>2</td>\n",
       "      <td>1991-04-01 00:00:00</td>\n",
       "      <td>0</td>\n",
       "      <td>0</td>\n",
       "      <td>SB</td>\n",
       "      <td>24</td>\n",
       "      <td>0</td>\n",
       "      <td>0</td>\n",
       "      <td>0</td>\n",
       "      <td>0</td>\n",
       "      <td>1</td>\n",
       "      <td>0</td>\n",
       "      <td>0</td>\n",
       "      <td>0</td>\n",
       "    </tr>\n",
       "    <tr>\n",
       "      <th>3</th>\n",
       "      <td>3</td>\n",
       "      <td>1991-04-01 00:00:00</td>\n",
       "      <td>0</td>\n",
       "      <td>1</td>\n",
       "      <td>EB</td>\n",
       "      <td>18</td>\n",
       "      <td>1</td>\n",
       "      <td>0</td>\n",
       "      <td>0</td>\n",
       "      <td>0</td>\n",
       "      <td>0</td>\n",
       "      <td>0</td>\n",
       "      <td>0</td>\n",
       "      <td>0</td>\n",
       "    </tr>\n",
       "    <tr>\n",
       "      <th>4</th>\n",
       "      <td>4</td>\n",
       "      <td>1991-04-01 00:00:00</td>\n",
       "      <td>0</td>\n",
       "      <td>1</td>\n",
       "      <td>NB</td>\n",
       "      <td>60</td>\n",
       "      <td>0</td>\n",
       "      <td>1</td>\n",
       "      <td>0</td>\n",
       "      <td>0</td>\n",
       "      <td>0</td>\n",
       "      <td>0</td>\n",
       "      <td>0</td>\n",
       "      <td>0</td>\n",
       "    </tr>\n",
       "  </tbody>\n",
       "</table>\n",
       "</div>"
      ],
      "text/plain": [
       "   row_id                 time  x  y direction  congestion  EB  NB  NE  NW  \\\n",
       "0       0  1991-04-01 00:00:00  0  0        EB          70   1   0   0   0   \n",
       "1       1  1991-04-01 00:00:00  0  0        NB          49   0   1   0   0   \n",
       "2       2  1991-04-01 00:00:00  0  0        SB          24   0   0   0   0   \n",
       "3       3  1991-04-01 00:00:00  0  1        EB          18   1   0   0   0   \n",
       "4       4  1991-04-01 00:00:00  0  1        NB          60   0   1   0   0   \n",
       "\n",
       "   SB  SE  SW  WB  \n",
       "0   0   0   0   0  \n",
       "1   0   0   0   0  \n",
       "2   1   0   0   0  \n",
       "3   0   0   0   0  \n",
       "4   0   0   0   0  "
      ]
     },
     "execution_count": 11,
     "metadata": {},
     "output_type": "execute_result"
    }
   ],
   "source": [
    "df_train = pd.concat([df_train, pd.get_dummies(df_train['direction'])], axis=1)\n",
    "df_train.head()"
   ]
  },
  {
   "cell_type": "code",
   "execution_count": 12,
   "id": "7ad57b25",
   "metadata": {
    "ExecuteTime": {
     "end_time": "2022-03-17T09:28:51.105441Z",
     "start_time": "2022-03-17T09:28:50.941316Z"
    }
   },
   "outputs": [],
   "source": [
    "df_train = df_train.drop(columns='direction')"
   ]
  },
  {
   "cell_type": "code",
   "execution_count": 13,
   "id": "407a53a3",
   "metadata": {
    "ExecuteTime": {
     "end_time": "2022-03-17T09:28:51.140902Z",
     "start_time": "2022-03-17T09:28:51.108320Z"
    }
   },
   "outputs": [
    {
     "data": {
      "text/html": [
       "<div>\n",
       "<style scoped>\n",
       "    .dataframe tbody tr th:only-of-type {\n",
       "        vertical-align: middle;\n",
       "    }\n",
       "\n",
       "    .dataframe tbody tr th {\n",
       "        vertical-align: top;\n",
       "    }\n",
       "\n",
       "    .dataframe thead th {\n",
       "        text-align: right;\n",
       "    }\n",
       "</style>\n",
       "<table border=\"1\" class=\"dataframe\">\n",
       "  <thead>\n",
       "    <tr style=\"text-align: right;\">\n",
       "      <th></th>\n",
       "      <th>row_id</th>\n",
       "      <th>time</th>\n",
       "      <th>x</th>\n",
       "      <th>y</th>\n",
       "      <th>congestion</th>\n",
       "      <th>EB</th>\n",
       "      <th>NB</th>\n",
       "      <th>NE</th>\n",
       "      <th>NW</th>\n",
       "      <th>SB</th>\n",
       "      <th>SE</th>\n",
       "      <th>SW</th>\n",
       "      <th>WB</th>\n",
       "    </tr>\n",
       "  </thead>\n",
       "  <tbody>\n",
       "    <tr>\n",
       "      <th>0</th>\n",
       "      <td>0</td>\n",
       "      <td>1991-04-01 00:00:00</td>\n",
       "      <td>0</td>\n",
       "      <td>0</td>\n",
       "      <td>70</td>\n",
       "      <td>1</td>\n",
       "      <td>0</td>\n",
       "      <td>0</td>\n",
       "      <td>0</td>\n",
       "      <td>0</td>\n",
       "      <td>0</td>\n",
       "      <td>0</td>\n",
       "      <td>0</td>\n",
       "    </tr>\n",
       "    <tr>\n",
       "      <th>1</th>\n",
       "      <td>1</td>\n",
       "      <td>1991-04-01 00:00:00</td>\n",
       "      <td>0</td>\n",
       "      <td>0</td>\n",
       "      <td>49</td>\n",
       "      <td>0</td>\n",
       "      <td>1</td>\n",
       "      <td>0</td>\n",
       "      <td>0</td>\n",
       "      <td>0</td>\n",
       "      <td>0</td>\n",
       "      <td>0</td>\n",
       "      <td>0</td>\n",
       "    </tr>\n",
       "    <tr>\n",
       "      <th>2</th>\n",
       "      <td>2</td>\n",
       "      <td>1991-04-01 00:00:00</td>\n",
       "      <td>0</td>\n",
       "      <td>0</td>\n",
       "      <td>24</td>\n",
       "      <td>0</td>\n",
       "      <td>0</td>\n",
       "      <td>0</td>\n",
       "      <td>0</td>\n",
       "      <td>1</td>\n",
       "      <td>0</td>\n",
       "      <td>0</td>\n",
       "      <td>0</td>\n",
       "    </tr>\n",
       "    <tr>\n",
       "      <th>3</th>\n",
       "      <td>3</td>\n",
       "      <td>1991-04-01 00:00:00</td>\n",
       "      <td>0</td>\n",
       "      <td>1</td>\n",
       "      <td>18</td>\n",
       "      <td>1</td>\n",
       "      <td>0</td>\n",
       "      <td>0</td>\n",
       "      <td>0</td>\n",
       "      <td>0</td>\n",
       "      <td>0</td>\n",
       "      <td>0</td>\n",
       "      <td>0</td>\n",
       "    </tr>\n",
       "    <tr>\n",
       "      <th>4</th>\n",
       "      <td>4</td>\n",
       "      <td>1991-04-01 00:00:00</td>\n",
       "      <td>0</td>\n",
       "      <td>1</td>\n",
       "      <td>60</td>\n",
       "      <td>0</td>\n",
       "      <td>1</td>\n",
       "      <td>0</td>\n",
       "      <td>0</td>\n",
       "      <td>0</td>\n",
       "      <td>0</td>\n",
       "      <td>0</td>\n",
       "      <td>0</td>\n",
       "    </tr>\n",
       "    <tr>\n",
       "      <th>...</th>\n",
       "      <td>...</td>\n",
       "      <td>...</td>\n",
       "      <td>...</td>\n",
       "      <td>...</td>\n",
       "      <td>...</td>\n",
       "      <td>...</td>\n",
       "      <td>...</td>\n",
       "      <td>...</td>\n",
       "      <td>...</td>\n",
       "      <td>...</td>\n",
       "      <td>...</td>\n",
       "      <td>...</td>\n",
       "      <td>...</td>\n",
       "    </tr>\n",
       "    <tr>\n",
       "      <th>848830</th>\n",
       "      <td>848830</td>\n",
       "      <td>1991-09-30 11:40:00</td>\n",
       "      <td>2</td>\n",
       "      <td>3</td>\n",
       "      <td>54</td>\n",
       "      <td>0</td>\n",
       "      <td>1</td>\n",
       "      <td>0</td>\n",
       "      <td>0</td>\n",
       "      <td>0</td>\n",
       "      <td>0</td>\n",
       "      <td>0</td>\n",
       "      <td>0</td>\n",
       "    </tr>\n",
       "    <tr>\n",
       "      <th>848831</th>\n",
       "      <td>848831</td>\n",
       "      <td>1991-09-30 11:40:00</td>\n",
       "      <td>2</td>\n",
       "      <td>3</td>\n",
       "      <td>28</td>\n",
       "      <td>0</td>\n",
       "      <td>0</td>\n",
       "      <td>1</td>\n",
       "      <td>0</td>\n",
       "      <td>0</td>\n",
       "      <td>0</td>\n",
       "      <td>0</td>\n",
       "      <td>0</td>\n",
       "    </tr>\n",
       "    <tr>\n",
       "      <th>848832</th>\n",
       "      <td>848832</td>\n",
       "      <td>1991-09-30 11:40:00</td>\n",
       "      <td>2</td>\n",
       "      <td>3</td>\n",
       "      <td>68</td>\n",
       "      <td>0</td>\n",
       "      <td>0</td>\n",
       "      <td>0</td>\n",
       "      <td>0</td>\n",
       "      <td>1</td>\n",
       "      <td>0</td>\n",
       "      <td>0</td>\n",
       "      <td>0</td>\n",
       "    </tr>\n",
       "    <tr>\n",
       "      <th>848833</th>\n",
       "      <td>848833</td>\n",
       "      <td>1991-09-30 11:40:00</td>\n",
       "      <td>2</td>\n",
       "      <td>3</td>\n",
       "      <td>17</td>\n",
       "      <td>0</td>\n",
       "      <td>0</td>\n",
       "      <td>0</td>\n",
       "      <td>0</td>\n",
       "      <td>0</td>\n",
       "      <td>0</td>\n",
       "      <td>1</td>\n",
       "      <td>0</td>\n",
       "    </tr>\n",
       "    <tr>\n",
       "      <th>848834</th>\n",
       "      <td>848834</td>\n",
       "      <td>1991-09-30 11:40:00</td>\n",
       "      <td>2</td>\n",
       "      <td>3</td>\n",
       "      <td>24</td>\n",
       "      <td>0</td>\n",
       "      <td>0</td>\n",
       "      <td>0</td>\n",
       "      <td>0</td>\n",
       "      <td>0</td>\n",
       "      <td>0</td>\n",
       "      <td>0</td>\n",
       "      <td>1</td>\n",
       "    </tr>\n",
       "  </tbody>\n",
       "</table>\n",
       "<p>848835 rows × 13 columns</p>\n",
       "</div>"
      ],
      "text/plain": [
       "        row_id                 time  x  y  congestion  EB  NB  NE  NW  SB  SE  \\\n",
       "0            0  1991-04-01 00:00:00  0  0          70   1   0   0   0   0   0   \n",
       "1            1  1991-04-01 00:00:00  0  0          49   0   1   0   0   0   0   \n",
       "2            2  1991-04-01 00:00:00  0  0          24   0   0   0   0   1   0   \n",
       "3            3  1991-04-01 00:00:00  0  1          18   1   0   0   0   0   0   \n",
       "4            4  1991-04-01 00:00:00  0  1          60   0   1   0   0   0   0   \n",
       "...        ...                  ... .. ..         ...  ..  ..  ..  ..  ..  ..   \n",
       "848830  848830  1991-09-30 11:40:00  2  3          54   0   1   0   0   0   0   \n",
       "848831  848831  1991-09-30 11:40:00  2  3          28   0   0   1   0   0   0   \n",
       "848832  848832  1991-09-30 11:40:00  2  3          68   0   0   0   0   1   0   \n",
       "848833  848833  1991-09-30 11:40:00  2  3          17   0   0   0   0   0   0   \n",
       "848834  848834  1991-09-30 11:40:00  2  3          24   0   0   0   0   0   0   \n",
       "\n",
       "        SW  WB  \n",
       "0        0   0  \n",
       "1        0   0  \n",
       "2        0   0  \n",
       "3        0   0  \n",
       "4        0   0  \n",
       "...     ..  ..  \n",
       "848830   0   0  \n",
       "848831   0   0  \n",
       "848832   0   0  \n",
       "848833   1   0  \n",
       "848834   0   1  \n",
       "\n",
       "[848835 rows x 13 columns]"
      ]
     },
     "execution_count": 13,
     "metadata": {},
     "output_type": "execute_result"
    }
   ],
   "source": [
    "df_train"
   ]
  },
  {
   "cell_type": "code",
   "execution_count": 14,
   "id": "cdfbcdad",
   "metadata": {
    "ExecuteTime": {
     "end_time": "2022-03-17T09:28:51.186259Z",
     "start_time": "2022-03-17T09:28:51.143530Z"
    }
   },
   "outputs": [
    {
     "data": {
      "text/html": [
       "<div>\n",
       "<style scoped>\n",
       "    .dataframe tbody tr th:only-of-type {\n",
       "        vertical-align: middle;\n",
       "    }\n",
       "\n",
       "    .dataframe tbody tr th {\n",
       "        vertical-align: top;\n",
       "    }\n",
       "\n",
       "    .dataframe thead th {\n",
       "        text-align: right;\n",
       "    }\n",
       "</style>\n",
       "<table border=\"1\" class=\"dataframe\">\n",
       "  <thead>\n",
       "    <tr style=\"text-align: right;\">\n",
       "      <th></th>\n",
       "      <th>row_id</th>\n",
       "      <th>time</th>\n",
       "      <th>x</th>\n",
       "      <th>y</th>\n",
       "      <th>EB</th>\n",
       "      <th>NB</th>\n",
       "      <th>NE</th>\n",
       "      <th>NW</th>\n",
       "      <th>SB</th>\n",
       "      <th>SE</th>\n",
       "      <th>SW</th>\n",
       "      <th>WB</th>\n",
       "    </tr>\n",
       "  </thead>\n",
       "  <tbody>\n",
       "    <tr>\n",
       "      <th>0</th>\n",
       "      <td>848835</td>\n",
       "      <td>1991-09-30 12:00:00</td>\n",
       "      <td>0</td>\n",
       "      <td>0</td>\n",
       "      <td>1</td>\n",
       "      <td>0</td>\n",
       "      <td>0</td>\n",
       "      <td>0</td>\n",
       "      <td>0</td>\n",
       "      <td>0</td>\n",
       "      <td>0</td>\n",
       "      <td>0</td>\n",
       "    </tr>\n",
       "    <tr>\n",
       "      <th>1</th>\n",
       "      <td>848836</td>\n",
       "      <td>1991-09-30 12:00:00</td>\n",
       "      <td>0</td>\n",
       "      <td>0</td>\n",
       "      <td>0</td>\n",
       "      <td>1</td>\n",
       "      <td>0</td>\n",
       "      <td>0</td>\n",
       "      <td>0</td>\n",
       "      <td>0</td>\n",
       "      <td>0</td>\n",
       "      <td>0</td>\n",
       "    </tr>\n",
       "    <tr>\n",
       "      <th>2</th>\n",
       "      <td>848837</td>\n",
       "      <td>1991-09-30 12:00:00</td>\n",
       "      <td>0</td>\n",
       "      <td>0</td>\n",
       "      <td>0</td>\n",
       "      <td>0</td>\n",
       "      <td>0</td>\n",
       "      <td>0</td>\n",
       "      <td>1</td>\n",
       "      <td>0</td>\n",
       "      <td>0</td>\n",
       "      <td>0</td>\n",
       "    </tr>\n",
       "    <tr>\n",
       "      <th>3</th>\n",
       "      <td>848838</td>\n",
       "      <td>1991-09-30 12:00:00</td>\n",
       "      <td>0</td>\n",
       "      <td>1</td>\n",
       "      <td>1</td>\n",
       "      <td>0</td>\n",
       "      <td>0</td>\n",
       "      <td>0</td>\n",
       "      <td>0</td>\n",
       "      <td>0</td>\n",
       "      <td>0</td>\n",
       "      <td>0</td>\n",
       "    </tr>\n",
       "    <tr>\n",
       "      <th>4</th>\n",
       "      <td>848839</td>\n",
       "      <td>1991-09-30 12:00:00</td>\n",
       "      <td>0</td>\n",
       "      <td>1</td>\n",
       "      <td>0</td>\n",
       "      <td>1</td>\n",
       "      <td>0</td>\n",
       "      <td>0</td>\n",
       "      <td>0</td>\n",
       "      <td>0</td>\n",
       "      <td>0</td>\n",
       "      <td>0</td>\n",
       "    </tr>\n",
       "  </tbody>\n",
       "</table>\n",
       "</div>"
      ],
      "text/plain": [
       "   row_id                 time  x  y  EB  NB  NE  NW  SB  SE  SW  WB\n",
       "0  848835  1991-09-30 12:00:00  0  0   1   0   0   0   0   0   0   0\n",
       "1  848836  1991-09-30 12:00:00  0  0   0   1   0   0   0   0   0   0\n",
       "2  848837  1991-09-30 12:00:00  0  0   0   0   0   0   1   0   0   0\n",
       "3  848838  1991-09-30 12:00:00  0  1   1   0   0   0   0   0   0   0\n",
       "4  848839  1991-09-30 12:00:00  0  1   0   1   0   0   0   0   0   0"
      ]
     },
     "execution_count": 14,
     "metadata": {},
     "output_type": "execute_result"
    }
   ],
   "source": [
    "df_test = pd.concat([df_test, pd.get_dummies(df_test['direction'])], axis=1)\n",
    "df_test = df_test.drop(columns='direction')\n",
    "df_test.head()"
   ]
  },
  {
   "cell_type": "code",
   "execution_count": 15,
   "id": "2d422330",
   "metadata": {
    "ExecuteTime": {
     "end_time": "2022-03-17T09:28:51.193445Z",
     "start_time": "2022-03-17T09:28:51.189549Z"
    }
   },
   "outputs": [],
   "source": [
    "### TODO: split time in another columns"
   ]
  },
  {
   "cell_type": "code",
   "execution_count": 16,
   "id": "f56922bc",
   "metadata": {
    "ExecuteTime": {
     "end_time": "2022-03-17T09:28:51.404669Z",
     "start_time": "2022-03-17T09:28:51.197778Z"
    }
   },
   "outputs": [],
   "source": [
    "# convert str to datetime:\n",
    "df_train['time'] = pd.to_datetime(df_train['time'])\n",
    "df_test['time'] = pd.to_datetime(df_test['time'])"
   ]
  },
  {
   "cell_type": "code",
   "execution_count": 17,
   "id": "15a925fb",
   "metadata": {
    "ExecuteTime": {
     "end_time": "2022-03-17T09:28:54.784197Z",
     "start_time": "2022-03-17T09:28:51.407451Z"
    }
   },
   "outputs": [],
   "source": [
    "df_train['only_date'] = [d.date() for d in df_train['time']]\n",
    "df_test['only_date'] = [d.date() for d in df_test['time']]"
   ]
  },
  {
   "cell_type": "code",
   "execution_count": 18,
   "id": "886fca7e",
   "metadata": {
    "ExecuteTime": {
     "end_time": "2022-03-17T09:28:58.117048Z",
     "start_time": "2022-03-17T09:28:54.788234Z"
    }
   },
   "outputs": [],
   "source": [
    "df_train['only_time'] = [d.time() for d in df_train['time']]\n",
    "df_test['only_time'] = [d.time() for d in df_test['time']]"
   ]
  },
  {
   "cell_type": "code",
   "execution_count": 19,
   "id": "61341cbc",
   "metadata": {
    "ExecuteTime": {
     "end_time": "2022-03-17T09:28:58.189712Z",
     "start_time": "2022-03-17T09:28:58.124614Z"
    }
   },
   "outputs": [
    {
     "data": {
      "text/html": [
       "<div>\n",
       "<style scoped>\n",
       "    .dataframe tbody tr th:only-of-type {\n",
       "        vertical-align: middle;\n",
       "    }\n",
       "\n",
       "    .dataframe tbody tr th {\n",
       "        vertical-align: top;\n",
       "    }\n",
       "\n",
       "    .dataframe thead th {\n",
       "        text-align: right;\n",
       "    }\n",
       "</style>\n",
       "<table border=\"1\" class=\"dataframe\">\n",
       "  <thead>\n",
       "    <tr style=\"text-align: right;\">\n",
       "      <th></th>\n",
       "      <th>row_id</th>\n",
       "      <th>time</th>\n",
       "      <th>x</th>\n",
       "      <th>y</th>\n",
       "      <th>congestion</th>\n",
       "      <th>EB</th>\n",
       "      <th>NB</th>\n",
       "      <th>NE</th>\n",
       "      <th>NW</th>\n",
       "      <th>SB</th>\n",
       "      <th>SE</th>\n",
       "      <th>SW</th>\n",
       "      <th>WB</th>\n",
       "      <th>only_date</th>\n",
       "      <th>only_time</th>\n",
       "    </tr>\n",
       "  </thead>\n",
       "  <tbody>\n",
       "    <tr>\n",
       "      <th>0</th>\n",
       "      <td>0</td>\n",
       "      <td>1991-04-01 00:00:00</td>\n",
       "      <td>0</td>\n",
       "      <td>0</td>\n",
       "      <td>70</td>\n",
       "      <td>1</td>\n",
       "      <td>0</td>\n",
       "      <td>0</td>\n",
       "      <td>0</td>\n",
       "      <td>0</td>\n",
       "      <td>0</td>\n",
       "      <td>0</td>\n",
       "      <td>0</td>\n",
       "      <td>1991-04-01</td>\n",
       "      <td>00:00:00</td>\n",
       "    </tr>\n",
       "    <tr>\n",
       "      <th>1</th>\n",
       "      <td>1</td>\n",
       "      <td>1991-04-01 00:00:00</td>\n",
       "      <td>0</td>\n",
       "      <td>0</td>\n",
       "      <td>49</td>\n",
       "      <td>0</td>\n",
       "      <td>1</td>\n",
       "      <td>0</td>\n",
       "      <td>0</td>\n",
       "      <td>0</td>\n",
       "      <td>0</td>\n",
       "      <td>0</td>\n",
       "      <td>0</td>\n",
       "      <td>1991-04-01</td>\n",
       "      <td>00:00:00</td>\n",
       "    </tr>\n",
       "    <tr>\n",
       "      <th>2</th>\n",
       "      <td>2</td>\n",
       "      <td>1991-04-01 00:00:00</td>\n",
       "      <td>0</td>\n",
       "      <td>0</td>\n",
       "      <td>24</td>\n",
       "      <td>0</td>\n",
       "      <td>0</td>\n",
       "      <td>0</td>\n",
       "      <td>0</td>\n",
       "      <td>1</td>\n",
       "      <td>0</td>\n",
       "      <td>0</td>\n",
       "      <td>0</td>\n",
       "      <td>1991-04-01</td>\n",
       "      <td>00:00:00</td>\n",
       "    </tr>\n",
       "    <tr>\n",
       "      <th>3</th>\n",
       "      <td>3</td>\n",
       "      <td>1991-04-01 00:00:00</td>\n",
       "      <td>0</td>\n",
       "      <td>1</td>\n",
       "      <td>18</td>\n",
       "      <td>1</td>\n",
       "      <td>0</td>\n",
       "      <td>0</td>\n",
       "      <td>0</td>\n",
       "      <td>0</td>\n",
       "      <td>0</td>\n",
       "      <td>0</td>\n",
       "      <td>0</td>\n",
       "      <td>1991-04-01</td>\n",
       "      <td>00:00:00</td>\n",
       "    </tr>\n",
       "    <tr>\n",
       "      <th>4</th>\n",
       "      <td>4</td>\n",
       "      <td>1991-04-01 00:00:00</td>\n",
       "      <td>0</td>\n",
       "      <td>1</td>\n",
       "      <td>60</td>\n",
       "      <td>0</td>\n",
       "      <td>1</td>\n",
       "      <td>0</td>\n",
       "      <td>0</td>\n",
       "      <td>0</td>\n",
       "      <td>0</td>\n",
       "      <td>0</td>\n",
       "      <td>0</td>\n",
       "      <td>1991-04-01</td>\n",
       "      <td>00:00:00</td>\n",
       "    </tr>\n",
       "    <tr>\n",
       "      <th>...</th>\n",
       "      <td>...</td>\n",
       "      <td>...</td>\n",
       "      <td>...</td>\n",
       "      <td>...</td>\n",
       "      <td>...</td>\n",
       "      <td>...</td>\n",
       "      <td>...</td>\n",
       "      <td>...</td>\n",
       "      <td>...</td>\n",
       "      <td>...</td>\n",
       "      <td>...</td>\n",
       "      <td>...</td>\n",
       "      <td>...</td>\n",
       "      <td>...</td>\n",
       "      <td>...</td>\n",
       "    </tr>\n",
       "    <tr>\n",
       "      <th>848830</th>\n",
       "      <td>848830</td>\n",
       "      <td>1991-09-30 11:40:00</td>\n",
       "      <td>2</td>\n",
       "      <td>3</td>\n",
       "      <td>54</td>\n",
       "      <td>0</td>\n",
       "      <td>1</td>\n",
       "      <td>0</td>\n",
       "      <td>0</td>\n",
       "      <td>0</td>\n",
       "      <td>0</td>\n",
       "      <td>0</td>\n",
       "      <td>0</td>\n",
       "      <td>1991-09-30</td>\n",
       "      <td>11:40:00</td>\n",
       "    </tr>\n",
       "    <tr>\n",
       "      <th>848831</th>\n",
       "      <td>848831</td>\n",
       "      <td>1991-09-30 11:40:00</td>\n",
       "      <td>2</td>\n",
       "      <td>3</td>\n",
       "      <td>28</td>\n",
       "      <td>0</td>\n",
       "      <td>0</td>\n",
       "      <td>1</td>\n",
       "      <td>0</td>\n",
       "      <td>0</td>\n",
       "      <td>0</td>\n",
       "      <td>0</td>\n",
       "      <td>0</td>\n",
       "      <td>1991-09-30</td>\n",
       "      <td>11:40:00</td>\n",
       "    </tr>\n",
       "    <tr>\n",
       "      <th>848832</th>\n",
       "      <td>848832</td>\n",
       "      <td>1991-09-30 11:40:00</td>\n",
       "      <td>2</td>\n",
       "      <td>3</td>\n",
       "      <td>68</td>\n",
       "      <td>0</td>\n",
       "      <td>0</td>\n",
       "      <td>0</td>\n",
       "      <td>0</td>\n",
       "      <td>1</td>\n",
       "      <td>0</td>\n",
       "      <td>0</td>\n",
       "      <td>0</td>\n",
       "      <td>1991-09-30</td>\n",
       "      <td>11:40:00</td>\n",
       "    </tr>\n",
       "    <tr>\n",
       "      <th>848833</th>\n",
       "      <td>848833</td>\n",
       "      <td>1991-09-30 11:40:00</td>\n",
       "      <td>2</td>\n",
       "      <td>3</td>\n",
       "      <td>17</td>\n",
       "      <td>0</td>\n",
       "      <td>0</td>\n",
       "      <td>0</td>\n",
       "      <td>0</td>\n",
       "      <td>0</td>\n",
       "      <td>0</td>\n",
       "      <td>1</td>\n",
       "      <td>0</td>\n",
       "      <td>1991-09-30</td>\n",
       "      <td>11:40:00</td>\n",
       "    </tr>\n",
       "    <tr>\n",
       "      <th>848834</th>\n",
       "      <td>848834</td>\n",
       "      <td>1991-09-30 11:40:00</td>\n",
       "      <td>2</td>\n",
       "      <td>3</td>\n",
       "      <td>24</td>\n",
       "      <td>0</td>\n",
       "      <td>0</td>\n",
       "      <td>0</td>\n",
       "      <td>0</td>\n",
       "      <td>0</td>\n",
       "      <td>0</td>\n",
       "      <td>0</td>\n",
       "      <td>1</td>\n",
       "      <td>1991-09-30</td>\n",
       "      <td>11:40:00</td>\n",
       "    </tr>\n",
       "  </tbody>\n",
       "</table>\n",
       "<p>848835 rows × 15 columns</p>\n",
       "</div>"
      ],
      "text/plain": [
       "        row_id                time  x  y  congestion  EB  NB  NE  NW  SB  SE  \\\n",
       "0            0 1991-04-01 00:00:00  0  0          70   1   0   0   0   0   0   \n",
       "1            1 1991-04-01 00:00:00  0  0          49   0   1   0   0   0   0   \n",
       "2            2 1991-04-01 00:00:00  0  0          24   0   0   0   0   1   0   \n",
       "3            3 1991-04-01 00:00:00  0  1          18   1   0   0   0   0   0   \n",
       "4            4 1991-04-01 00:00:00  0  1          60   0   1   0   0   0   0   \n",
       "...        ...                 ... .. ..         ...  ..  ..  ..  ..  ..  ..   \n",
       "848830  848830 1991-09-30 11:40:00  2  3          54   0   1   0   0   0   0   \n",
       "848831  848831 1991-09-30 11:40:00  2  3          28   0   0   1   0   0   0   \n",
       "848832  848832 1991-09-30 11:40:00  2  3          68   0   0   0   0   1   0   \n",
       "848833  848833 1991-09-30 11:40:00  2  3          17   0   0   0   0   0   0   \n",
       "848834  848834 1991-09-30 11:40:00  2  3          24   0   0   0   0   0   0   \n",
       "\n",
       "        SW  WB   only_date only_time  \n",
       "0        0   0  1991-04-01  00:00:00  \n",
       "1        0   0  1991-04-01  00:00:00  \n",
       "2        0   0  1991-04-01  00:00:00  \n",
       "3        0   0  1991-04-01  00:00:00  \n",
       "4        0   0  1991-04-01  00:00:00  \n",
       "...     ..  ..         ...       ...  \n",
       "848830   0   0  1991-09-30  11:40:00  \n",
       "848831   0   0  1991-09-30  11:40:00  \n",
       "848832   0   0  1991-09-30  11:40:00  \n",
       "848833   1   0  1991-09-30  11:40:00  \n",
       "848834   0   1  1991-09-30  11:40:00  \n",
       "\n",
       "[848835 rows x 15 columns]"
      ]
     },
     "execution_count": 19,
     "metadata": {},
     "output_type": "execute_result"
    }
   ],
   "source": [
    "df_train"
   ]
  },
  {
   "cell_type": "code",
   "execution_count": 20,
   "id": "1ef8b6cf",
   "metadata": {
    "ExecuteTime": {
     "end_time": "2022-03-17T09:28:58.708479Z",
     "start_time": "2022-03-17T09:28:58.193510Z"
    }
   },
   "outputs": [],
   "source": [
    "df_train['only_hour'] = [x.hour for x in df_train['only_time']]\n",
    "df_test['only_hour'] = [x.hour for x in df_test['only_time']]"
   ]
  },
  {
   "cell_type": "code",
   "execution_count": 21,
   "id": "cdcd906e",
   "metadata": {
    "ExecuteTime": {
     "end_time": "2022-03-17T09:28:58.714010Z",
     "start_time": "2022-03-17T09:28:58.710692Z"
    }
   },
   "outputs": [],
   "source": [
    "## converting datetime to a numeric timestamp:\n"
   ]
  },
  {
   "cell_type": "code",
   "execution_count": 22,
   "id": "be0e3b75",
   "metadata": {
    "ExecuteTime": {
     "end_time": "2022-03-17T09:28:58.786973Z",
     "start_time": "2022-03-17T09:28:58.716810Z"
    }
   },
   "outputs": [
    {
     "data": {
      "text/html": [
       "<div>\n",
       "<style scoped>\n",
       "    .dataframe tbody tr th:only-of-type {\n",
       "        vertical-align: middle;\n",
       "    }\n",
       "\n",
       "    .dataframe tbody tr th {\n",
       "        vertical-align: top;\n",
       "    }\n",
       "\n",
       "    .dataframe thead th {\n",
       "        text-align: right;\n",
       "    }\n",
       "</style>\n",
       "<table border=\"1\" class=\"dataframe\">\n",
       "  <thead>\n",
       "    <tr style=\"text-align: right;\">\n",
       "      <th></th>\n",
       "      <th>row_id</th>\n",
       "      <th>time</th>\n",
       "      <th>x</th>\n",
       "      <th>y</th>\n",
       "      <th>congestion</th>\n",
       "      <th>EB</th>\n",
       "      <th>NB</th>\n",
       "      <th>NE</th>\n",
       "      <th>NW</th>\n",
       "      <th>SB</th>\n",
       "      <th>SE</th>\n",
       "      <th>SW</th>\n",
       "      <th>WB</th>\n",
       "      <th>only_date</th>\n",
       "      <th>only_time</th>\n",
       "      <th>only_hour</th>\n",
       "      <th>timestamp</th>\n",
       "    </tr>\n",
       "  </thead>\n",
       "  <tbody>\n",
       "    <tr>\n",
       "      <th>0</th>\n",
       "      <td>0</td>\n",
       "      <td>1991-04-01 00:00:00</td>\n",
       "      <td>0</td>\n",
       "      <td>0</td>\n",
       "      <td>70</td>\n",
       "      <td>1</td>\n",
       "      <td>0</td>\n",
       "      <td>0</td>\n",
       "      <td>0</td>\n",
       "      <td>0</td>\n",
       "      <td>0</td>\n",
       "      <td>0</td>\n",
       "      <td>0</td>\n",
       "      <td>1991-04-01</td>\n",
       "      <td>00:00:00</td>\n",
       "      <td>0</td>\n",
       "      <td>670464000</td>\n",
       "    </tr>\n",
       "    <tr>\n",
       "      <th>1</th>\n",
       "      <td>1</td>\n",
       "      <td>1991-04-01 00:00:00</td>\n",
       "      <td>0</td>\n",
       "      <td>0</td>\n",
       "      <td>49</td>\n",
       "      <td>0</td>\n",
       "      <td>1</td>\n",
       "      <td>0</td>\n",
       "      <td>0</td>\n",
       "      <td>0</td>\n",
       "      <td>0</td>\n",
       "      <td>0</td>\n",
       "      <td>0</td>\n",
       "      <td>1991-04-01</td>\n",
       "      <td>00:00:00</td>\n",
       "      <td>0</td>\n",
       "      <td>670464000</td>\n",
       "    </tr>\n",
       "    <tr>\n",
       "      <th>2</th>\n",
       "      <td>2</td>\n",
       "      <td>1991-04-01 00:00:00</td>\n",
       "      <td>0</td>\n",
       "      <td>0</td>\n",
       "      <td>24</td>\n",
       "      <td>0</td>\n",
       "      <td>0</td>\n",
       "      <td>0</td>\n",
       "      <td>0</td>\n",
       "      <td>1</td>\n",
       "      <td>0</td>\n",
       "      <td>0</td>\n",
       "      <td>0</td>\n",
       "      <td>1991-04-01</td>\n",
       "      <td>00:00:00</td>\n",
       "      <td>0</td>\n",
       "      <td>670464000</td>\n",
       "    </tr>\n",
       "    <tr>\n",
       "      <th>3</th>\n",
       "      <td>3</td>\n",
       "      <td>1991-04-01 00:00:00</td>\n",
       "      <td>0</td>\n",
       "      <td>1</td>\n",
       "      <td>18</td>\n",
       "      <td>1</td>\n",
       "      <td>0</td>\n",
       "      <td>0</td>\n",
       "      <td>0</td>\n",
       "      <td>0</td>\n",
       "      <td>0</td>\n",
       "      <td>0</td>\n",
       "      <td>0</td>\n",
       "      <td>1991-04-01</td>\n",
       "      <td>00:00:00</td>\n",
       "      <td>0</td>\n",
       "      <td>670464000</td>\n",
       "    </tr>\n",
       "    <tr>\n",
       "      <th>4</th>\n",
       "      <td>4</td>\n",
       "      <td>1991-04-01 00:00:00</td>\n",
       "      <td>0</td>\n",
       "      <td>1</td>\n",
       "      <td>60</td>\n",
       "      <td>0</td>\n",
       "      <td>1</td>\n",
       "      <td>0</td>\n",
       "      <td>0</td>\n",
       "      <td>0</td>\n",
       "      <td>0</td>\n",
       "      <td>0</td>\n",
       "      <td>0</td>\n",
       "      <td>1991-04-01</td>\n",
       "      <td>00:00:00</td>\n",
       "      <td>0</td>\n",
       "      <td>670464000</td>\n",
       "    </tr>\n",
       "    <tr>\n",
       "      <th>...</th>\n",
       "      <td>...</td>\n",
       "      <td>...</td>\n",
       "      <td>...</td>\n",
       "      <td>...</td>\n",
       "      <td>...</td>\n",
       "      <td>...</td>\n",
       "      <td>...</td>\n",
       "      <td>...</td>\n",
       "      <td>...</td>\n",
       "      <td>...</td>\n",
       "      <td>...</td>\n",
       "      <td>...</td>\n",
       "      <td>...</td>\n",
       "      <td>...</td>\n",
       "      <td>...</td>\n",
       "      <td>...</td>\n",
       "      <td>...</td>\n",
       "    </tr>\n",
       "    <tr>\n",
       "      <th>848830</th>\n",
       "      <td>848830</td>\n",
       "      <td>1991-09-30 11:40:00</td>\n",
       "      <td>2</td>\n",
       "      <td>3</td>\n",
       "      <td>54</td>\n",
       "      <td>0</td>\n",
       "      <td>1</td>\n",
       "      <td>0</td>\n",
       "      <td>0</td>\n",
       "      <td>0</td>\n",
       "      <td>0</td>\n",
       "      <td>0</td>\n",
       "      <td>0</td>\n",
       "      <td>1991-09-30</td>\n",
       "      <td>11:40:00</td>\n",
       "      <td>11</td>\n",
       "      <td>686230800</td>\n",
       "    </tr>\n",
       "    <tr>\n",
       "      <th>848831</th>\n",
       "      <td>848831</td>\n",
       "      <td>1991-09-30 11:40:00</td>\n",
       "      <td>2</td>\n",
       "      <td>3</td>\n",
       "      <td>28</td>\n",
       "      <td>0</td>\n",
       "      <td>0</td>\n",
       "      <td>1</td>\n",
       "      <td>0</td>\n",
       "      <td>0</td>\n",
       "      <td>0</td>\n",
       "      <td>0</td>\n",
       "      <td>0</td>\n",
       "      <td>1991-09-30</td>\n",
       "      <td>11:40:00</td>\n",
       "      <td>11</td>\n",
       "      <td>686230800</td>\n",
       "    </tr>\n",
       "    <tr>\n",
       "      <th>848832</th>\n",
       "      <td>848832</td>\n",
       "      <td>1991-09-30 11:40:00</td>\n",
       "      <td>2</td>\n",
       "      <td>3</td>\n",
       "      <td>68</td>\n",
       "      <td>0</td>\n",
       "      <td>0</td>\n",
       "      <td>0</td>\n",
       "      <td>0</td>\n",
       "      <td>1</td>\n",
       "      <td>0</td>\n",
       "      <td>0</td>\n",
       "      <td>0</td>\n",
       "      <td>1991-09-30</td>\n",
       "      <td>11:40:00</td>\n",
       "      <td>11</td>\n",
       "      <td>686230800</td>\n",
       "    </tr>\n",
       "    <tr>\n",
       "      <th>848833</th>\n",
       "      <td>848833</td>\n",
       "      <td>1991-09-30 11:40:00</td>\n",
       "      <td>2</td>\n",
       "      <td>3</td>\n",
       "      <td>17</td>\n",
       "      <td>0</td>\n",
       "      <td>0</td>\n",
       "      <td>0</td>\n",
       "      <td>0</td>\n",
       "      <td>0</td>\n",
       "      <td>0</td>\n",
       "      <td>1</td>\n",
       "      <td>0</td>\n",
       "      <td>1991-09-30</td>\n",
       "      <td>11:40:00</td>\n",
       "      <td>11</td>\n",
       "      <td>686230800</td>\n",
       "    </tr>\n",
       "    <tr>\n",
       "      <th>848834</th>\n",
       "      <td>848834</td>\n",
       "      <td>1991-09-30 11:40:00</td>\n",
       "      <td>2</td>\n",
       "      <td>3</td>\n",
       "      <td>24</td>\n",
       "      <td>0</td>\n",
       "      <td>0</td>\n",
       "      <td>0</td>\n",
       "      <td>0</td>\n",
       "      <td>0</td>\n",
       "      <td>0</td>\n",
       "      <td>0</td>\n",
       "      <td>1</td>\n",
       "      <td>1991-09-30</td>\n",
       "      <td>11:40:00</td>\n",
       "      <td>11</td>\n",
       "      <td>686230800</td>\n",
       "    </tr>\n",
       "  </tbody>\n",
       "</table>\n",
       "<p>848835 rows × 17 columns</p>\n",
       "</div>"
      ],
      "text/plain": [
       "        row_id                time  x  y  congestion  EB  NB  NE  NW  SB  SE  \\\n",
       "0            0 1991-04-01 00:00:00  0  0          70   1   0   0   0   0   0   \n",
       "1            1 1991-04-01 00:00:00  0  0          49   0   1   0   0   0   0   \n",
       "2            2 1991-04-01 00:00:00  0  0          24   0   0   0   0   1   0   \n",
       "3            3 1991-04-01 00:00:00  0  1          18   1   0   0   0   0   0   \n",
       "4            4 1991-04-01 00:00:00  0  1          60   0   1   0   0   0   0   \n",
       "...        ...                 ... .. ..         ...  ..  ..  ..  ..  ..  ..   \n",
       "848830  848830 1991-09-30 11:40:00  2  3          54   0   1   0   0   0   0   \n",
       "848831  848831 1991-09-30 11:40:00  2  3          28   0   0   1   0   0   0   \n",
       "848832  848832 1991-09-30 11:40:00  2  3          68   0   0   0   0   1   0   \n",
       "848833  848833 1991-09-30 11:40:00  2  3          17   0   0   0   0   0   0   \n",
       "848834  848834 1991-09-30 11:40:00  2  3          24   0   0   0   0   0   0   \n",
       "\n",
       "        SW  WB   only_date only_time  only_hour  timestamp  \n",
       "0        0   0  1991-04-01  00:00:00          0  670464000  \n",
       "1        0   0  1991-04-01  00:00:00          0  670464000  \n",
       "2        0   0  1991-04-01  00:00:00          0  670464000  \n",
       "3        0   0  1991-04-01  00:00:00          0  670464000  \n",
       "4        0   0  1991-04-01  00:00:00          0  670464000  \n",
       "...     ..  ..         ...       ...        ...        ...  \n",
       "848830   0   0  1991-09-30  11:40:00         11  686230800  \n",
       "848831   0   0  1991-09-30  11:40:00         11  686230800  \n",
       "848832   0   0  1991-09-30  11:40:00         11  686230800  \n",
       "848833   1   0  1991-09-30  11:40:00         11  686230800  \n",
       "848834   0   1  1991-09-30  11:40:00         11  686230800  \n",
       "\n",
       "[848835 rows x 17 columns]"
      ]
     },
     "execution_count": 22,
     "metadata": {},
     "output_type": "execute_result"
    }
   ],
   "source": [
    "df_train['timestamp'] = df_train.time.values.astype(np.int64) // 10 ** 9\n",
    "df_train"
   ]
  },
  {
   "cell_type": "code",
   "execution_count": 23,
   "id": "36f8f92b",
   "metadata": {
    "ExecuteTime": {
     "end_time": "2022-03-17T09:28:58.832096Z",
     "start_time": "2022-03-17T09:28:58.789559Z"
    }
   },
   "outputs": [
    {
     "data": {
      "text/html": [
       "<div>\n",
       "<style scoped>\n",
       "    .dataframe tbody tr th:only-of-type {\n",
       "        vertical-align: middle;\n",
       "    }\n",
       "\n",
       "    .dataframe tbody tr th {\n",
       "        vertical-align: top;\n",
       "    }\n",
       "\n",
       "    .dataframe thead th {\n",
       "        text-align: right;\n",
       "    }\n",
       "</style>\n",
       "<table border=\"1\" class=\"dataframe\">\n",
       "  <thead>\n",
       "    <tr style=\"text-align: right;\">\n",
       "      <th></th>\n",
       "      <th>row_id</th>\n",
       "      <th>time</th>\n",
       "      <th>x</th>\n",
       "      <th>y</th>\n",
       "      <th>EB</th>\n",
       "      <th>NB</th>\n",
       "      <th>NE</th>\n",
       "      <th>NW</th>\n",
       "      <th>SB</th>\n",
       "      <th>SE</th>\n",
       "      <th>SW</th>\n",
       "      <th>WB</th>\n",
       "      <th>only_date</th>\n",
       "      <th>only_time</th>\n",
       "      <th>only_hour</th>\n",
       "      <th>timestamp</th>\n",
       "    </tr>\n",
       "  </thead>\n",
       "  <tbody>\n",
       "    <tr>\n",
       "      <th>0</th>\n",
       "      <td>848835</td>\n",
       "      <td>1991-09-30 12:00:00</td>\n",
       "      <td>0</td>\n",
       "      <td>0</td>\n",
       "      <td>1</td>\n",
       "      <td>0</td>\n",
       "      <td>0</td>\n",
       "      <td>0</td>\n",
       "      <td>0</td>\n",
       "      <td>0</td>\n",
       "      <td>0</td>\n",
       "      <td>0</td>\n",
       "      <td>1991-09-30</td>\n",
       "      <td>12:00:00</td>\n",
       "      <td>12</td>\n",
       "      <td>686232000</td>\n",
       "    </tr>\n",
       "    <tr>\n",
       "      <th>1</th>\n",
       "      <td>848836</td>\n",
       "      <td>1991-09-30 12:00:00</td>\n",
       "      <td>0</td>\n",
       "      <td>0</td>\n",
       "      <td>0</td>\n",
       "      <td>1</td>\n",
       "      <td>0</td>\n",
       "      <td>0</td>\n",
       "      <td>0</td>\n",
       "      <td>0</td>\n",
       "      <td>0</td>\n",
       "      <td>0</td>\n",
       "      <td>1991-09-30</td>\n",
       "      <td>12:00:00</td>\n",
       "      <td>12</td>\n",
       "      <td>686232000</td>\n",
       "    </tr>\n",
       "    <tr>\n",
       "      <th>2</th>\n",
       "      <td>848837</td>\n",
       "      <td>1991-09-30 12:00:00</td>\n",
       "      <td>0</td>\n",
       "      <td>0</td>\n",
       "      <td>0</td>\n",
       "      <td>0</td>\n",
       "      <td>0</td>\n",
       "      <td>0</td>\n",
       "      <td>1</td>\n",
       "      <td>0</td>\n",
       "      <td>0</td>\n",
       "      <td>0</td>\n",
       "      <td>1991-09-30</td>\n",
       "      <td>12:00:00</td>\n",
       "      <td>12</td>\n",
       "      <td>686232000</td>\n",
       "    </tr>\n",
       "    <tr>\n",
       "      <th>3</th>\n",
       "      <td>848838</td>\n",
       "      <td>1991-09-30 12:00:00</td>\n",
       "      <td>0</td>\n",
       "      <td>1</td>\n",
       "      <td>1</td>\n",
       "      <td>0</td>\n",
       "      <td>0</td>\n",
       "      <td>0</td>\n",
       "      <td>0</td>\n",
       "      <td>0</td>\n",
       "      <td>0</td>\n",
       "      <td>0</td>\n",
       "      <td>1991-09-30</td>\n",
       "      <td>12:00:00</td>\n",
       "      <td>12</td>\n",
       "      <td>686232000</td>\n",
       "    </tr>\n",
       "    <tr>\n",
       "      <th>4</th>\n",
       "      <td>848839</td>\n",
       "      <td>1991-09-30 12:00:00</td>\n",
       "      <td>0</td>\n",
       "      <td>1</td>\n",
       "      <td>0</td>\n",
       "      <td>1</td>\n",
       "      <td>0</td>\n",
       "      <td>0</td>\n",
       "      <td>0</td>\n",
       "      <td>0</td>\n",
       "      <td>0</td>\n",
       "      <td>0</td>\n",
       "      <td>1991-09-30</td>\n",
       "      <td>12:00:00</td>\n",
       "      <td>12</td>\n",
       "      <td>686232000</td>\n",
       "    </tr>\n",
       "    <tr>\n",
       "      <th>...</th>\n",
       "      <td>...</td>\n",
       "      <td>...</td>\n",
       "      <td>...</td>\n",
       "      <td>...</td>\n",
       "      <td>...</td>\n",
       "      <td>...</td>\n",
       "      <td>...</td>\n",
       "      <td>...</td>\n",
       "      <td>...</td>\n",
       "      <td>...</td>\n",
       "      <td>...</td>\n",
       "      <td>...</td>\n",
       "      <td>...</td>\n",
       "      <td>...</td>\n",
       "      <td>...</td>\n",
       "      <td>...</td>\n",
       "    </tr>\n",
       "    <tr>\n",
       "      <th>2335</th>\n",
       "      <td>851170</td>\n",
       "      <td>1991-09-30 23:40:00</td>\n",
       "      <td>2</td>\n",
       "      <td>3</td>\n",
       "      <td>0</td>\n",
       "      <td>1</td>\n",
       "      <td>0</td>\n",
       "      <td>0</td>\n",
       "      <td>0</td>\n",
       "      <td>0</td>\n",
       "      <td>0</td>\n",
       "      <td>0</td>\n",
       "      <td>1991-09-30</td>\n",
       "      <td>23:40:00</td>\n",
       "      <td>23</td>\n",
       "      <td>686274000</td>\n",
       "    </tr>\n",
       "    <tr>\n",
       "      <th>2336</th>\n",
       "      <td>851171</td>\n",
       "      <td>1991-09-30 23:40:00</td>\n",
       "      <td>2</td>\n",
       "      <td>3</td>\n",
       "      <td>0</td>\n",
       "      <td>0</td>\n",
       "      <td>1</td>\n",
       "      <td>0</td>\n",
       "      <td>0</td>\n",
       "      <td>0</td>\n",
       "      <td>0</td>\n",
       "      <td>0</td>\n",
       "      <td>1991-09-30</td>\n",
       "      <td>23:40:00</td>\n",
       "      <td>23</td>\n",
       "      <td>686274000</td>\n",
       "    </tr>\n",
       "    <tr>\n",
       "      <th>2337</th>\n",
       "      <td>851172</td>\n",
       "      <td>1991-09-30 23:40:00</td>\n",
       "      <td>2</td>\n",
       "      <td>3</td>\n",
       "      <td>0</td>\n",
       "      <td>0</td>\n",
       "      <td>0</td>\n",
       "      <td>0</td>\n",
       "      <td>1</td>\n",
       "      <td>0</td>\n",
       "      <td>0</td>\n",
       "      <td>0</td>\n",
       "      <td>1991-09-30</td>\n",
       "      <td>23:40:00</td>\n",
       "      <td>23</td>\n",
       "      <td>686274000</td>\n",
       "    </tr>\n",
       "    <tr>\n",
       "      <th>2338</th>\n",
       "      <td>851173</td>\n",
       "      <td>1991-09-30 23:40:00</td>\n",
       "      <td>2</td>\n",
       "      <td>3</td>\n",
       "      <td>0</td>\n",
       "      <td>0</td>\n",
       "      <td>0</td>\n",
       "      <td>0</td>\n",
       "      <td>0</td>\n",
       "      <td>0</td>\n",
       "      <td>1</td>\n",
       "      <td>0</td>\n",
       "      <td>1991-09-30</td>\n",
       "      <td>23:40:00</td>\n",
       "      <td>23</td>\n",
       "      <td>686274000</td>\n",
       "    </tr>\n",
       "    <tr>\n",
       "      <th>2339</th>\n",
       "      <td>851174</td>\n",
       "      <td>1991-09-30 23:40:00</td>\n",
       "      <td>2</td>\n",
       "      <td>3</td>\n",
       "      <td>0</td>\n",
       "      <td>0</td>\n",
       "      <td>0</td>\n",
       "      <td>0</td>\n",
       "      <td>0</td>\n",
       "      <td>0</td>\n",
       "      <td>0</td>\n",
       "      <td>1</td>\n",
       "      <td>1991-09-30</td>\n",
       "      <td>23:40:00</td>\n",
       "      <td>23</td>\n",
       "      <td>686274000</td>\n",
       "    </tr>\n",
       "  </tbody>\n",
       "</table>\n",
       "<p>2340 rows × 16 columns</p>\n",
       "</div>"
      ],
      "text/plain": [
       "      row_id                time  x  y  EB  NB  NE  NW  SB  SE  SW  WB  \\\n",
       "0     848835 1991-09-30 12:00:00  0  0   1   0   0   0   0   0   0   0   \n",
       "1     848836 1991-09-30 12:00:00  0  0   0   1   0   0   0   0   0   0   \n",
       "2     848837 1991-09-30 12:00:00  0  0   0   0   0   0   1   0   0   0   \n",
       "3     848838 1991-09-30 12:00:00  0  1   1   0   0   0   0   0   0   0   \n",
       "4     848839 1991-09-30 12:00:00  0  1   0   1   0   0   0   0   0   0   \n",
       "...      ...                 ... .. ..  ..  ..  ..  ..  ..  ..  ..  ..   \n",
       "2335  851170 1991-09-30 23:40:00  2  3   0   1   0   0   0   0   0   0   \n",
       "2336  851171 1991-09-30 23:40:00  2  3   0   0   1   0   0   0   0   0   \n",
       "2337  851172 1991-09-30 23:40:00  2  3   0   0   0   0   1   0   0   0   \n",
       "2338  851173 1991-09-30 23:40:00  2  3   0   0   0   0   0   0   1   0   \n",
       "2339  851174 1991-09-30 23:40:00  2  3   0   0   0   0   0   0   0   1   \n",
       "\n",
       "       only_date only_time  only_hour  timestamp  \n",
       "0     1991-09-30  12:00:00         12  686232000  \n",
       "1     1991-09-30  12:00:00         12  686232000  \n",
       "2     1991-09-30  12:00:00         12  686232000  \n",
       "3     1991-09-30  12:00:00         12  686232000  \n",
       "4     1991-09-30  12:00:00         12  686232000  \n",
       "...          ...       ...        ...        ...  \n",
       "2335  1991-09-30  23:40:00         23  686274000  \n",
       "2336  1991-09-30  23:40:00         23  686274000  \n",
       "2337  1991-09-30  23:40:00         23  686274000  \n",
       "2338  1991-09-30  23:40:00         23  686274000  \n",
       "2339  1991-09-30  23:40:00         23  686274000  \n",
       "\n",
       "[2340 rows x 16 columns]"
      ]
     },
     "execution_count": 23,
     "metadata": {},
     "output_type": "execute_result"
    }
   ],
   "source": [
    "df_test['timestamp'] = df_test.time.values.astype(np.int64) // 10 ** 9\n",
    "df_test"
   ]
  },
  {
   "cell_type": "code",
   "execution_count": 24,
   "id": "cefd5e32",
   "metadata": {
    "ExecuteTime": {
     "end_time": "2022-03-17T09:28:58.861476Z",
     "start_time": "2022-03-17T09:28:58.840925Z"
    }
   },
   "outputs": [
    {
     "data": {
      "text/plain": [
       "13059"
      ]
     },
     "execution_count": 24,
     "metadata": {},
     "output_type": "execute_result"
    }
   ],
   "source": [
    "df_train['timestamp'].nunique()"
   ]
  },
  {
   "cell_type": "code",
   "execution_count": 25,
   "id": "68caf731",
   "metadata": {
    "ExecuteTime": {
     "end_time": "2022-03-17T09:28:58.880895Z",
     "start_time": "2022-03-17T09:28:58.871465Z"
    }
   },
   "outputs": [
    {
     "data": {
      "text/plain": [
       "36"
      ]
     },
     "execution_count": 25,
     "metadata": {},
     "output_type": "execute_result"
    }
   ],
   "source": [
    "df_test['timestamp'].nunique()"
   ]
  },
  {
   "cell_type": "markdown",
   "id": "3ed2dec4",
   "metadata": {},
   "source": [
    "### Checking column correlations"
   ]
  },
  {
   "cell_type": "code",
   "execution_count": 26,
   "id": "60dbdc8a",
   "metadata": {
    "ExecuteTime": {
     "end_time": "2022-03-17T09:28:59.883653Z",
     "start_time": "2022-03-17T09:28:58.890696Z"
    }
   },
   "outputs": [
    {
     "data": {
      "text/html": [
       "<div>\n",
       "<style scoped>\n",
       "    .dataframe tbody tr th:only-of-type {\n",
       "        vertical-align: middle;\n",
       "    }\n",
       "\n",
       "    .dataframe tbody tr th {\n",
       "        vertical-align: top;\n",
       "    }\n",
       "\n",
       "    .dataframe thead th {\n",
       "        text-align: right;\n",
       "    }\n",
       "</style>\n",
       "<table border=\"1\" class=\"dataframe\">\n",
       "  <thead>\n",
       "    <tr style=\"text-align: right;\">\n",
       "      <th></th>\n",
       "      <th>row_id</th>\n",
       "      <th>x</th>\n",
       "      <th>y</th>\n",
       "      <th>congestion</th>\n",
       "      <th>EB</th>\n",
       "      <th>NB</th>\n",
       "      <th>NE</th>\n",
       "      <th>NW</th>\n",
       "      <th>SB</th>\n",
       "      <th>SE</th>\n",
       "      <th>SW</th>\n",
       "      <th>WB</th>\n",
       "      <th>only_hour</th>\n",
       "      <th>timestamp</th>\n",
       "    </tr>\n",
       "  </thead>\n",
       "  <tbody>\n",
       "    <tr>\n",
       "      <th>row_id</th>\n",
       "      <td>1.000000</td>\n",
       "      <td>7.167761e-05</td>\n",
       "      <td>2.184311e-05</td>\n",
       "      <td>0.003324</td>\n",
       "      <td>-1.148939e-05</td>\n",
       "      <td>-9.547525e-06</td>\n",
       "      <td>6.278646e-06</td>\n",
       "      <td>1.308834e-05</td>\n",
       "      <td>-6.149253e-06</td>\n",
       "      <td>1.454260e-05</td>\n",
       "      <td>9.924312e-06</td>\n",
       "      <td>2.009349e-06</td>\n",
       "      <td>1.629942e-03</td>\n",
       "      <td>9.999970e-01</td>\n",
       "    </tr>\n",
       "    <tr>\n",
       "      <th>x</th>\n",
       "      <td>0.000072</td>\n",
       "      <td>1.000000e+00</td>\n",
       "      <td>-4.716851e-02</td>\n",
       "      <td>0.049721</td>\n",
       "      <td>-8.220349e-02</td>\n",
       "      <td>-8.220349e-02</td>\n",
       "      <td>6.382736e-02</td>\n",
       "      <td>1.915260e-01</td>\n",
       "      <td>-8.220349e-02</td>\n",
       "      <td>1.915260e-01</td>\n",
       "      <td>6.382736e-02</td>\n",
       "      <td>-2.677816e-02</td>\n",
       "      <td>1.512817e-17</td>\n",
       "      <td>1.018906e-18</td>\n",
       "    </tr>\n",
       "    <tr>\n",
       "      <th>y</th>\n",
       "      <td>0.000022</td>\n",
       "      <td>-4.716851e-02</td>\n",
       "      <td>1.000000e+00</td>\n",
       "      <td>-0.094124</td>\n",
       "      <td>-5.711885e-02</td>\n",
       "      <td>-5.711885e-02</td>\n",
       "      <td>1.177482e-01</td>\n",
       "      <td>-2.138806e-02</td>\n",
       "      <td>-5.711885e-02</td>\n",
       "      <td>-2.138806e-02</td>\n",
       "      <td>1.177482e-01</td>\n",
       "      <td>2.317793e-03</td>\n",
       "      <td>3.860121e-17</td>\n",
       "      <td>-8.866114e-20</td>\n",
       "    </tr>\n",
       "    <tr>\n",
       "      <th>congestion</th>\n",
       "      <td>0.003324</td>\n",
       "      <td>4.972085e-02</td>\n",
       "      <td>-9.412365e-02</td>\n",
       "      <td>1.000000</td>\n",
       "      <td>4.973370e-02</td>\n",
       "      <td>1.143908e-01</td>\n",
       "      <td>-1.622117e-01</td>\n",
       "      <td>-2.187634e-01</td>\n",
       "      <td>1.671426e-01</td>\n",
       "      <td>-1.374077e-01</td>\n",
       "      <td>-1.198540e-01</td>\n",
       "      <td>5.445736e-02</td>\n",
       "      <td>1.463255e-01</td>\n",
       "      <td>3.322576e-03</td>\n",
       "    </tr>\n",
       "    <tr>\n",
       "      <th>EB</th>\n",
       "      <td>-0.000011</td>\n",
       "      <td>-8.220349e-02</td>\n",
       "      <td>-5.711885e-02</td>\n",
       "      <td>0.049734</td>\n",
       "      <td>1.000000e+00</td>\n",
       "      <td>-2.264151e-01</td>\n",
       "      <td>-1.653057e-01</td>\n",
       "      <td>-8.478078e-02</td>\n",
       "      <td>-2.264151e-01</td>\n",
       "      <td>-8.478078e-02</td>\n",
       "      <td>-1.653057e-01</td>\n",
       "      <td>-2.147594e-01</td>\n",
       "      <td>-8.940525e-18</td>\n",
       "      <td>-3.220678e-19</td>\n",
       "    </tr>\n",
       "    <tr>\n",
       "      <th>NB</th>\n",
       "      <td>-0.000010</td>\n",
       "      <td>-8.220349e-02</td>\n",
       "      <td>-5.711885e-02</td>\n",
       "      <td>0.114391</td>\n",
       "      <td>-2.264151e-01</td>\n",
       "      <td>1.000000e+00</td>\n",
       "      <td>-1.653057e-01</td>\n",
       "      <td>-8.478078e-02</td>\n",
       "      <td>-2.264151e-01</td>\n",
       "      <td>-8.478078e-02</td>\n",
       "      <td>-1.653057e-01</td>\n",
       "      <td>-2.147594e-01</td>\n",
       "      <td>-1.236155e-17</td>\n",
       "      <td>2.977960e-19</td>\n",
       "    </tr>\n",
       "    <tr>\n",
       "      <th>NE</th>\n",
       "      <td>0.000006</td>\n",
       "      <td>6.382736e-02</td>\n",
       "      <td>1.177482e-01</td>\n",
       "      <td>-0.162212</td>\n",
       "      <td>-1.653057e-01</td>\n",
       "      <td>-1.653057e-01</td>\n",
       "      <td>1.000000e+00</td>\n",
       "      <td>-6.189845e-02</td>\n",
       "      <td>-1.653057e-01</td>\n",
       "      <td>-6.189845e-02</td>\n",
       "      <td>-1.206897e-01</td>\n",
       "      <td>-1.567958e-01</td>\n",
       "      <td>1.393841e-17</td>\n",
       "      <td>7.263590e-20</td>\n",
       "    </tr>\n",
       "    <tr>\n",
       "      <th>NW</th>\n",
       "      <td>0.000013</td>\n",
       "      <td>1.915260e-01</td>\n",
       "      <td>-2.138806e-02</td>\n",
       "      <td>-0.218763</td>\n",
       "      <td>-8.478078e-02</td>\n",
       "      <td>-8.478078e-02</td>\n",
       "      <td>-6.189845e-02</td>\n",
       "      <td>1.000000e+00</td>\n",
       "      <td>-8.478078e-02</td>\n",
       "      <td>-3.174603e-02</td>\n",
       "      <td>-6.189845e-02</td>\n",
       "      <td>-8.041632e-02</td>\n",
       "      <td>1.887935e-17</td>\n",
       "      <td>-1.409596e-19</td>\n",
       "    </tr>\n",
       "    <tr>\n",
       "      <th>SB</th>\n",
       "      <td>-0.000006</td>\n",
       "      <td>-8.220349e-02</td>\n",
       "      <td>-5.711885e-02</td>\n",
       "      <td>0.167143</td>\n",
       "      <td>-2.264151e-01</td>\n",
       "      <td>-2.264151e-01</td>\n",
       "      <td>-1.653057e-01</td>\n",
       "      <td>-8.478078e-02</td>\n",
       "      <td>1.000000e+00</td>\n",
       "      <td>-8.478078e-02</td>\n",
       "      <td>-1.653057e-01</td>\n",
       "      <td>-2.147594e-01</td>\n",
       "      <td>-7.197731e-18</td>\n",
       "      <td>-1.366065e-19</td>\n",
       "    </tr>\n",
       "    <tr>\n",
       "      <th>SE</th>\n",
       "      <td>0.000015</td>\n",
       "      <td>1.915260e-01</td>\n",
       "      <td>-2.138806e-02</td>\n",
       "      <td>-0.137408</td>\n",
       "      <td>-8.478078e-02</td>\n",
       "      <td>-8.478078e-02</td>\n",
       "      <td>-6.189845e-02</td>\n",
       "      <td>-3.174603e-02</td>\n",
       "      <td>-8.478078e-02</td>\n",
       "      <td>1.000000e+00</td>\n",
       "      <td>-6.189845e-02</td>\n",
       "      <td>-8.041632e-02</td>\n",
       "      <td>1.826799e-17</td>\n",
       "      <td>1.107227e-19</td>\n",
       "    </tr>\n",
       "    <tr>\n",
       "      <th>SW</th>\n",
       "      <td>0.000010</td>\n",
       "      <td>6.382736e-02</td>\n",
       "      <td>1.177482e-01</td>\n",
       "      <td>-0.119854</td>\n",
       "      <td>-1.653057e-01</td>\n",
       "      <td>-1.653057e-01</td>\n",
       "      <td>-1.206897e-01</td>\n",
       "      <td>-6.189845e-02</td>\n",
       "      <td>-1.653057e-01</td>\n",
       "      <td>-6.189845e-02</td>\n",
       "      <td>1.000000e+00</td>\n",
       "      <td>-1.567958e-01</td>\n",
       "      <td>2.247839e-17</td>\n",
       "      <td>1.384561e-19</td>\n",
       "    </tr>\n",
       "    <tr>\n",
       "      <th>WB</th>\n",
       "      <td>0.000002</td>\n",
       "      <td>-2.677816e-02</td>\n",
       "      <td>2.317793e-03</td>\n",
       "      <td>0.054457</td>\n",
       "      <td>-2.147594e-01</td>\n",
       "      <td>-2.147594e-01</td>\n",
       "      <td>-1.567958e-01</td>\n",
       "      <td>-8.041632e-02</td>\n",
       "      <td>-2.147594e-01</td>\n",
       "      <td>-8.041632e-02</td>\n",
       "      <td>-1.567958e-01</td>\n",
       "      <td>1.000000e+00</td>\n",
       "      <td>-1.455929e-19</td>\n",
       "      <td>3.348695e-20</td>\n",
       "    </tr>\n",
       "    <tr>\n",
       "      <th>only_hour</th>\n",
       "      <td>0.001630</td>\n",
       "      <td>1.512817e-17</td>\n",
       "      <td>3.860121e-17</td>\n",
       "      <td>0.146326</td>\n",
       "      <td>-8.940525e-18</td>\n",
       "      <td>-1.236155e-17</td>\n",
       "      <td>1.393841e-17</td>\n",
       "      <td>1.887935e-17</td>\n",
       "      <td>-7.197731e-18</td>\n",
       "      <td>1.826799e-17</td>\n",
       "      <td>2.247839e-17</td>\n",
       "      <td>-1.455929e-19</td>\n",
       "      <td>1.000000e+00</td>\n",
       "      <td>1.622604e-03</td>\n",
       "    </tr>\n",
       "    <tr>\n",
       "      <th>timestamp</th>\n",
       "      <td>0.999997</td>\n",
       "      <td>1.018906e-18</td>\n",
       "      <td>-8.866114e-20</td>\n",
       "      <td>0.003323</td>\n",
       "      <td>-3.220678e-19</td>\n",
       "      <td>2.977960e-19</td>\n",
       "      <td>7.263590e-20</td>\n",
       "      <td>-1.409596e-19</td>\n",
       "      <td>-1.366065e-19</td>\n",
       "      <td>1.107227e-19</td>\n",
       "      <td>1.384561e-19</td>\n",
       "      <td>3.348695e-20</td>\n",
       "      <td>1.622604e-03</td>\n",
       "      <td>1.000000e+00</td>\n",
       "    </tr>\n",
       "  </tbody>\n",
       "</table>\n",
       "</div>"
      ],
      "text/plain": [
       "              row_id             x             y  congestion            EB  \\\n",
       "row_id      1.000000  7.167761e-05  2.184311e-05    0.003324 -1.148939e-05   \n",
       "x           0.000072  1.000000e+00 -4.716851e-02    0.049721 -8.220349e-02   \n",
       "y           0.000022 -4.716851e-02  1.000000e+00   -0.094124 -5.711885e-02   \n",
       "congestion  0.003324  4.972085e-02 -9.412365e-02    1.000000  4.973370e-02   \n",
       "EB         -0.000011 -8.220349e-02 -5.711885e-02    0.049734  1.000000e+00   \n",
       "NB         -0.000010 -8.220349e-02 -5.711885e-02    0.114391 -2.264151e-01   \n",
       "NE          0.000006  6.382736e-02  1.177482e-01   -0.162212 -1.653057e-01   \n",
       "NW          0.000013  1.915260e-01 -2.138806e-02   -0.218763 -8.478078e-02   \n",
       "SB         -0.000006 -8.220349e-02 -5.711885e-02    0.167143 -2.264151e-01   \n",
       "SE          0.000015  1.915260e-01 -2.138806e-02   -0.137408 -8.478078e-02   \n",
       "SW          0.000010  6.382736e-02  1.177482e-01   -0.119854 -1.653057e-01   \n",
       "WB          0.000002 -2.677816e-02  2.317793e-03    0.054457 -2.147594e-01   \n",
       "only_hour   0.001630  1.512817e-17  3.860121e-17    0.146326 -8.940525e-18   \n",
       "timestamp   0.999997  1.018906e-18 -8.866114e-20    0.003323 -3.220678e-19   \n",
       "\n",
       "                      NB            NE            NW            SB  \\\n",
       "row_id     -9.547525e-06  6.278646e-06  1.308834e-05 -6.149253e-06   \n",
       "x          -8.220349e-02  6.382736e-02  1.915260e-01 -8.220349e-02   \n",
       "y          -5.711885e-02  1.177482e-01 -2.138806e-02 -5.711885e-02   \n",
       "congestion  1.143908e-01 -1.622117e-01 -2.187634e-01  1.671426e-01   \n",
       "EB         -2.264151e-01 -1.653057e-01 -8.478078e-02 -2.264151e-01   \n",
       "NB          1.000000e+00 -1.653057e-01 -8.478078e-02 -2.264151e-01   \n",
       "NE         -1.653057e-01  1.000000e+00 -6.189845e-02 -1.653057e-01   \n",
       "NW         -8.478078e-02 -6.189845e-02  1.000000e+00 -8.478078e-02   \n",
       "SB         -2.264151e-01 -1.653057e-01 -8.478078e-02  1.000000e+00   \n",
       "SE         -8.478078e-02 -6.189845e-02 -3.174603e-02 -8.478078e-02   \n",
       "SW         -1.653057e-01 -1.206897e-01 -6.189845e-02 -1.653057e-01   \n",
       "WB         -2.147594e-01 -1.567958e-01 -8.041632e-02 -2.147594e-01   \n",
       "only_hour  -1.236155e-17  1.393841e-17  1.887935e-17 -7.197731e-18   \n",
       "timestamp   2.977960e-19  7.263590e-20 -1.409596e-19 -1.366065e-19   \n",
       "\n",
       "                      SE            SW            WB     only_hour  \\\n",
       "row_id      1.454260e-05  9.924312e-06  2.009349e-06  1.629942e-03   \n",
       "x           1.915260e-01  6.382736e-02 -2.677816e-02  1.512817e-17   \n",
       "y          -2.138806e-02  1.177482e-01  2.317793e-03  3.860121e-17   \n",
       "congestion -1.374077e-01 -1.198540e-01  5.445736e-02  1.463255e-01   \n",
       "EB         -8.478078e-02 -1.653057e-01 -2.147594e-01 -8.940525e-18   \n",
       "NB         -8.478078e-02 -1.653057e-01 -2.147594e-01 -1.236155e-17   \n",
       "NE         -6.189845e-02 -1.206897e-01 -1.567958e-01  1.393841e-17   \n",
       "NW         -3.174603e-02 -6.189845e-02 -8.041632e-02  1.887935e-17   \n",
       "SB         -8.478078e-02 -1.653057e-01 -2.147594e-01 -7.197731e-18   \n",
       "SE          1.000000e+00 -6.189845e-02 -8.041632e-02  1.826799e-17   \n",
       "SW         -6.189845e-02  1.000000e+00 -1.567958e-01  2.247839e-17   \n",
       "WB         -8.041632e-02 -1.567958e-01  1.000000e+00 -1.455929e-19   \n",
       "only_hour   1.826799e-17  2.247839e-17 -1.455929e-19  1.000000e+00   \n",
       "timestamp   1.107227e-19  1.384561e-19  3.348695e-20  1.622604e-03   \n",
       "\n",
       "               timestamp  \n",
       "row_id      9.999970e-01  \n",
       "x           1.018906e-18  \n",
       "y          -8.866114e-20  \n",
       "congestion  3.322576e-03  \n",
       "EB         -3.220678e-19  \n",
       "NB          2.977960e-19  \n",
       "NE          7.263590e-20  \n",
       "NW         -1.409596e-19  \n",
       "SB         -1.366065e-19  \n",
       "SE          1.107227e-19  \n",
       "SW          1.384561e-19  \n",
       "WB          3.348695e-20  \n",
       "only_hour   1.622604e-03  \n",
       "timestamp   1.000000e+00  "
      ]
     },
     "execution_count": 26,
     "metadata": {},
     "output_type": "execute_result"
    }
   ],
   "source": [
    "df_train.corr()"
   ]
  },
  {
   "cell_type": "code",
   "execution_count": 68,
   "id": "1ba98be0",
   "metadata": {
    "ExecuteTime": {
     "end_time": "2022-03-17T09:34:43.592775Z",
     "start_time": "2022-03-17T09:34:43.077478Z"
    }
   },
   "outputs": [
    {
     "data": {
      "text/html": [
       "<div>\n",
       "<style scoped>\n",
       "    .dataframe tbody tr th:only-of-type {\n",
       "        vertical-align: middle;\n",
       "    }\n",
       "\n",
       "    .dataframe tbody tr th {\n",
       "        vertical-align: top;\n",
       "    }\n",
       "\n",
       "    .dataframe thead th {\n",
       "        text-align: right;\n",
       "    }\n",
       "</style>\n",
       "<table border=\"1\" class=\"dataframe\">\n",
       "  <thead>\n",
       "    <tr style=\"text-align: right;\">\n",
       "      <th></th>\n",
       "      <th>count</th>\n",
       "      <th>mean</th>\n",
       "      <th>std</th>\n",
       "      <th>min</th>\n",
       "      <th>25%</th>\n",
       "      <th>50%</th>\n",
       "      <th>75%</th>\n",
       "      <th>max</th>\n",
       "    </tr>\n",
       "  </thead>\n",
       "  <tbody>\n",
       "    <tr>\n",
       "      <th>row_id</th>\n",
       "      <td>848835.0</td>\n",
       "      <td>4.244170e+05</td>\n",
       "      <td>2.450377e+05</td>\n",
       "      <td>0.0</td>\n",
       "      <td>212208.5</td>\n",
       "      <td>424417.0</td>\n",
       "      <td>636625.5</td>\n",
       "      <td>848834.0</td>\n",
       "    </tr>\n",
       "    <tr>\n",
       "      <th>x</th>\n",
       "      <td>848835.0</td>\n",
       "      <td>1.138462e+00</td>\n",
       "      <td>8.014784e-01</td>\n",
       "      <td>0.0</td>\n",
       "      <td>0.0</td>\n",
       "      <td>1.0</td>\n",
       "      <td>2.0</td>\n",
       "      <td>2.0</td>\n",
       "    </tr>\n",
       "    <tr>\n",
       "      <th>y</th>\n",
       "      <td>848835.0</td>\n",
       "      <td>1.630769e+00</td>\n",
       "      <td>1.089379e+00</td>\n",
       "      <td>0.0</td>\n",
       "      <td>1.0</td>\n",
       "      <td>2.0</td>\n",
       "      <td>3.0</td>\n",
       "      <td>3.0</td>\n",
       "    </tr>\n",
       "    <tr>\n",
       "      <th>congestion</th>\n",
       "      <td>848835.0</td>\n",
       "      <td>4.781530e+01</td>\n",
       "      <td>1.679939e+01</td>\n",
       "      <td>0.0</td>\n",
       "      <td>35.0</td>\n",
       "      <td>47.0</td>\n",
       "      <td>60.0</td>\n",
       "      <td>100.0</td>\n",
       "    </tr>\n",
       "    <tr>\n",
       "      <th>EB</th>\n",
       "      <td>848835.0</td>\n",
       "      <td>1.846154e-01</td>\n",
       "      <td>3.879855e-01</td>\n",
       "      <td>0.0</td>\n",
       "      <td>0.0</td>\n",
       "      <td>0.0</td>\n",
       "      <td>0.0</td>\n",
       "      <td>1.0</td>\n",
       "    </tr>\n",
       "    <tr>\n",
       "      <th>NB</th>\n",
       "      <td>848835.0</td>\n",
       "      <td>1.846154e-01</td>\n",
       "      <td>3.879855e-01</td>\n",
       "      <td>0.0</td>\n",
       "      <td>0.0</td>\n",
       "      <td>0.0</td>\n",
       "      <td>0.0</td>\n",
       "      <td>1.0</td>\n",
       "    </tr>\n",
       "    <tr>\n",
       "      <th>NE</th>\n",
       "      <td>848835.0</td>\n",
       "      <td>1.076923e-01</td>\n",
       "      <td>3.099916e-01</td>\n",
       "      <td>0.0</td>\n",
       "      <td>0.0</td>\n",
       "      <td>0.0</td>\n",
       "      <td>0.0</td>\n",
       "      <td>1.0</td>\n",
       "    </tr>\n",
       "    <tr>\n",
       "      <th>NW</th>\n",
       "      <td>848835.0</td>\n",
       "      <td>3.076923e-02</td>\n",
       "      <td>1.726920e-01</td>\n",
       "      <td>0.0</td>\n",
       "      <td>0.0</td>\n",
       "      <td>0.0</td>\n",
       "      <td>0.0</td>\n",
       "      <td>1.0</td>\n",
       "    </tr>\n",
       "    <tr>\n",
       "      <th>SB</th>\n",
       "      <td>848835.0</td>\n",
       "      <td>1.846154e-01</td>\n",
       "      <td>3.879855e-01</td>\n",
       "      <td>0.0</td>\n",
       "      <td>0.0</td>\n",
       "      <td>0.0</td>\n",
       "      <td>0.0</td>\n",
       "      <td>1.0</td>\n",
       "    </tr>\n",
       "    <tr>\n",
       "      <th>SE</th>\n",
       "      <td>848835.0</td>\n",
       "      <td>3.076923e-02</td>\n",
       "      <td>1.726920e-01</td>\n",
       "      <td>0.0</td>\n",
       "      <td>0.0</td>\n",
       "      <td>0.0</td>\n",
       "      <td>0.0</td>\n",
       "      <td>1.0</td>\n",
       "    </tr>\n",
       "    <tr>\n",
       "      <th>SW</th>\n",
       "      <td>848835.0</td>\n",
       "      <td>1.076923e-01</td>\n",
       "      <td>3.099916e-01</td>\n",
       "      <td>0.0</td>\n",
       "      <td>0.0</td>\n",
       "      <td>0.0</td>\n",
       "      <td>0.0</td>\n",
       "      <td>1.0</td>\n",
       "    </tr>\n",
       "    <tr>\n",
       "      <th>WB</th>\n",
       "      <td>848835.0</td>\n",
       "      <td>1.692308e-01</td>\n",
       "      <td>3.749558e-01</td>\n",
       "      <td>0.0</td>\n",
       "      <td>0.0</td>\n",
       "      <td>0.0</td>\n",
       "      <td>0.0</td>\n",
       "      <td>1.0</td>\n",
       "    </tr>\n",
       "    <tr>\n",
       "      <th>only_hour</th>\n",
       "      <td>848835.0</td>\n",
       "      <td>1.147906e+01</td>\n",
       "      <td>6.926522e+00</td>\n",
       "      <td>0.0</td>\n",
       "      <td>5.0</td>\n",
       "      <td>11.0</td>\n",
       "      <td>17.0</td>\n",
       "      <td>23.0</td>\n",
       "    </tr>\n",
       "    <tr>\n",
       "      <th>timestamp</th>\n",
       "      <td>848835.0</td>\n",
       "      <td>6.783272e+08</td>\n",
       "      <td>4.543860e+06</td>\n",
       "      <td>670464000.0</td>\n",
       "      <td>674397600.0</td>\n",
       "      <td>678322800.0</td>\n",
       "      <td>682246800.0</td>\n",
       "      <td>686230800.0</td>\n",
       "    </tr>\n",
       "  </tbody>\n",
       "</table>\n",
       "</div>"
      ],
      "text/plain": [
       "               count          mean           std          min          25%  \\\n",
       "row_id      848835.0  4.244170e+05  2.450377e+05          0.0     212208.5   \n",
       "x           848835.0  1.138462e+00  8.014784e-01          0.0          0.0   \n",
       "y           848835.0  1.630769e+00  1.089379e+00          0.0          1.0   \n",
       "congestion  848835.0  4.781530e+01  1.679939e+01          0.0         35.0   \n",
       "EB          848835.0  1.846154e-01  3.879855e-01          0.0          0.0   \n",
       "NB          848835.0  1.846154e-01  3.879855e-01          0.0          0.0   \n",
       "NE          848835.0  1.076923e-01  3.099916e-01          0.0          0.0   \n",
       "NW          848835.0  3.076923e-02  1.726920e-01          0.0          0.0   \n",
       "SB          848835.0  1.846154e-01  3.879855e-01          0.0          0.0   \n",
       "SE          848835.0  3.076923e-02  1.726920e-01          0.0          0.0   \n",
       "SW          848835.0  1.076923e-01  3.099916e-01          0.0          0.0   \n",
       "WB          848835.0  1.692308e-01  3.749558e-01          0.0          0.0   \n",
       "only_hour   848835.0  1.147906e+01  6.926522e+00          0.0          5.0   \n",
       "timestamp   848835.0  6.783272e+08  4.543860e+06  670464000.0  674397600.0   \n",
       "\n",
       "                    50%          75%          max  \n",
       "row_id         424417.0     636625.5     848834.0  \n",
       "x                   1.0          2.0          2.0  \n",
       "y                   2.0          3.0          3.0  \n",
       "congestion         47.0         60.0        100.0  \n",
       "EB                  0.0          0.0          1.0  \n",
       "NB                  0.0          0.0          1.0  \n",
       "NE                  0.0          0.0          1.0  \n",
       "NW                  0.0          0.0          1.0  \n",
       "SB                  0.0          0.0          1.0  \n",
       "SE                  0.0          0.0          1.0  \n",
       "SW                  0.0          0.0          1.0  \n",
       "WB                  0.0          0.0          1.0  \n",
       "only_hour          11.0         17.0         23.0  \n",
       "timestamp   678322800.0  682246800.0  686230800.0  "
      ]
     },
     "execution_count": 68,
     "metadata": {},
     "output_type": "execute_result"
    }
   ],
   "source": [
    "df_train.describe().transpose()"
   ]
  },
  {
   "cell_type": "code",
   "execution_count": 69,
   "id": "a82cfedd",
   "metadata": {
    "ExecuteTime": {
     "end_time": "2022-03-17T09:34:47.146038Z",
     "start_time": "2022-03-17T09:34:47.064072Z"
    }
   },
   "outputs": [
    {
     "data": {
      "text/html": [
       "<div>\n",
       "<style scoped>\n",
       "    .dataframe tbody tr th:only-of-type {\n",
       "        vertical-align: middle;\n",
       "    }\n",
       "\n",
       "    .dataframe tbody tr th {\n",
       "        vertical-align: top;\n",
       "    }\n",
       "\n",
       "    .dataframe thead th {\n",
       "        text-align: right;\n",
       "    }\n",
       "</style>\n",
       "<table border=\"1\" class=\"dataframe\">\n",
       "  <thead>\n",
       "    <tr style=\"text-align: right;\">\n",
       "      <th></th>\n",
       "      <th>count</th>\n",
       "      <th>mean</th>\n",
       "      <th>std</th>\n",
       "      <th>min</th>\n",
       "      <th>25%</th>\n",
       "      <th>50%</th>\n",
       "      <th>75%</th>\n",
       "      <th>max</th>\n",
       "    </tr>\n",
       "  </thead>\n",
       "  <tbody>\n",
       "    <tr>\n",
       "      <th>row_id</th>\n",
       "      <td>2340.0</td>\n",
       "      <td>8.500045e+05</td>\n",
       "      <td>675.644137</td>\n",
       "      <td>848835.0</td>\n",
       "      <td>8.494198e+05</td>\n",
       "      <td>850004.5</td>\n",
       "      <td>8.505892e+05</td>\n",
       "      <td>851174.0</td>\n",
       "    </tr>\n",
       "    <tr>\n",
       "      <th>x</th>\n",
       "      <td>2340.0</td>\n",
       "      <td>1.138462e+00</td>\n",
       "      <td>0.801649</td>\n",
       "      <td>0.0</td>\n",
       "      <td>0.000000e+00</td>\n",
       "      <td>1.0</td>\n",
       "      <td>2.000000e+00</td>\n",
       "      <td>2.0</td>\n",
       "    </tr>\n",
       "    <tr>\n",
       "      <th>y</th>\n",
       "      <td>2340.0</td>\n",
       "      <td>1.630769e+00</td>\n",
       "      <td>1.089611</td>\n",
       "      <td>0.0</td>\n",
       "      <td>1.000000e+00</td>\n",
       "      <td>2.0</td>\n",
       "      <td>3.000000e+00</td>\n",
       "      <td>3.0</td>\n",
       "    </tr>\n",
       "    <tr>\n",
       "      <th>EB</th>\n",
       "      <td>2340.0</td>\n",
       "      <td>1.846154e-01</td>\n",
       "      <td>0.388068</td>\n",
       "      <td>0.0</td>\n",
       "      <td>0.000000e+00</td>\n",
       "      <td>0.0</td>\n",
       "      <td>0.000000e+00</td>\n",
       "      <td>1.0</td>\n",
       "    </tr>\n",
       "    <tr>\n",
       "      <th>NB</th>\n",
       "      <td>2340.0</td>\n",
       "      <td>1.846154e-01</td>\n",
       "      <td>0.388068</td>\n",
       "      <td>0.0</td>\n",
       "      <td>0.000000e+00</td>\n",
       "      <td>0.0</td>\n",
       "      <td>0.000000e+00</td>\n",
       "      <td>1.0</td>\n",
       "    </tr>\n",
       "    <tr>\n",
       "      <th>NE</th>\n",
       "      <td>2340.0</td>\n",
       "      <td>1.076923e-01</td>\n",
       "      <td>0.310058</td>\n",
       "      <td>0.0</td>\n",
       "      <td>0.000000e+00</td>\n",
       "      <td>0.0</td>\n",
       "      <td>0.000000e+00</td>\n",
       "      <td>1.0</td>\n",
       "    </tr>\n",
       "    <tr>\n",
       "      <th>NW</th>\n",
       "      <td>2340.0</td>\n",
       "      <td>3.076923e-02</td>\n",
       "      <td>0.172729</td>\n",
       "      <td>0.0</td>\n",
       "      <td>0.000000e+00</td>\n",
       "      <td>0.0</td>\n",
       "      <td>0.000000e+00</td>\n",
       "      <td>1.0</td>\n",
       "    </tr>\n",
       "    <tr>\n",
       "      <th>SB</th>\n",
       "      <td>2340.0</td>\n",
       "      <td>1.846154e-01</td>\n",
       "      <td>0.388068</td>\n",
       "      <td>0.0</td>\n",
       "      <td>0.000000e+00</td>\n",
       "      <td>0.0</td>\n",
       "      <td>0.000000e+00</td>\n",
       "      <td>1.0</td>\n",
       "    </tr>\n",
       "    <tr>\n",
       "      <th>SE</th>\n",
       "      <td>2340.0</td>\n",
       "      <td>3.076923e-02</td>\n",
       "      <td>0.172729</td>\n",
       "      <td>0.0</td>\n",
       "      <td>0.000000e+00</td>\n",
       "      <td>0.0</td>\n",
       "      <td>0.000000e+00</td>\n",
       "      <td>1.0</td>\n",
       "    </tr>\n",
       "    <tr>\n",
       "      <th>SW</th>\n",
       "      <td>2340.0</td>\n",
       "      <td>1.076923e-01</td>\n",
       "      <td>0.310058</td>\n",
       "      <td>0.0</td>\n",
       "      <td>0.000000e+00</td>\n",
       "      <td>0.0</td>\n",
       "      <td>0.000000e+00</td>\n",
       "      <td>1.0</td>\n",
       "    </tr>\n",
       "    <tr>\n",
       "      <th>WB</th>\n",
       "      <td>2340.0</td>\n",
       "      <td>1.692308e-01</td>\n",
       "      <td>0.375036</td>\n",
       "      <td>0.0</td>\n",
       "      <td>0.000000e+00</td>\n",
       "      <td>0.0</td>\n",
       "      <td>0.000000e+00</td>\n",
       "      <td>1.0</td>\n",
       "    </tr>\n",
       "    <tr>\n",
       "      <th>only_hour</th>\n",
       "      <td>2340.0</td>\n",
       "      <td>1.750000e+01</td>\n",
       "      <td>3.452790</td>\n",
       "      <td>12.0</td>\n",
       "      <td>1.475000e+01</td>\n",
       "      <td>17.5</td>\n",
       "      <td>2.025000e+01</td>\n",
       "      <td>23.0</td>\n",
       "    </tr>\n",
       "    <tr>\n",
       "      <th>timestamp</th>\n",
       "      <td>2340.0</td>\n",
       "      <td>6.862530e+08</td>\n",
       "      <td>12468.618153</td>\n",
       "      <td>686232000.0</td>\n",
       "      <td>6.862425e+08</td>\n",
       "      <td>686253000.0</td>\n",
       "      <td>6.862635e+08</td>\n",
       "      <td>686274000.0</td>\n",
       "    </tr>\n",
       "  </tbody>\n",
       "</table>\n",
       "</div>"
      ],
      "text/plain": [
       "            count          mean           std          min           25%  \\\n",
       "row_id     2340.0  8.500045e+05    675.644137     848835.0  8.494198e+05   \n",
       "x          2340.0  1.138462e+00      0.801649          0.0  0.000000e+00   \n",
       "y          2340.0  1.630769e+00      1.089611          0.0  1.000000e+00   \n",
       "EB         2340.0  1.846154e-01      0.388068          0.0  0.000000e+00   \n",
       "NB         2340.0  1.846154e-01      0.388068          0.0  0.000000e+00   \n",
       "NE         2340.0  1.076923e-01      0.310058          0.0  0.000000e+00   \n",
       "NW         2340.0  3.076923e-02      0.172729          0.0  0.000000e+00   \n",
       "SB         2340.0  1.846154e-01      0.388068          0.0  0.000000e+00   \n",
       "SE         2340.0  3.076923e-02      0.172729          0.0  0.000000e+00   \n",
       "SW         2340.0  1.076923e-01      0.310058          0.0  0.000000e+00   \n",
       "WB         2340.0  1.692308e-01      0.375036          0.0  0.000000e+00   \n",
       "only_hour  2340.0  1.750000e+01      3.452790         12.0  1.475000e+01   \n",
       "timestamp  2340.0  6.862530e+08  12468.618153  686232000.0  6.862425e+08   \n",
       "\n",
       "                   50%           75%          max  \n",
       "row_id        850004.5  8.505892e+05     851174.0  \n",
       "x                  1.0  2.000000e+00          2.0  \n",
       "y                  2.0  3.000000e+00          3.0  \n",
       "EB                 0.0  0.000000e+00          1.0  \n",
       "NB                 0.0  0.000000e+00          1.0  \n",
       "NE                 0.0  0.000000e+00          1.0  \n",
       "NW                 0.0  0.000000e+00          1.0  \n",
       "SB                 0.0  0.000000e+00          1.0  \n",
       "SE                 0.0  0.000000e+00          1.0  \n",
       "SW                 0.0  0.000000e+00          1.0  \n",
       "WB                 0.0  0.000000e+00          1.0  \n",
       "only_hour         17.5  2.025000e+01         23.0  \n",
       "timestamp  686253000.0  6.862635e+08  686274000.0  "
      ]
     },
     "execution_count": 69,
     "metadata": {},
     "output_type": "execute_result"
    }
   ],
   "source": [
    "df_test.describe().transpose()"
   ]
  },
  {
   "cell_type": "code",
   "execution_count": 27,
   "id": "f0159826",
   "metadata": {
    "ExecuteTime": {
     "end_time": "2022-03-17T09:28:59.891450Z",
     "start_time": "2022-03-17T09:28:59.887517Z"
    }
   },
   "outputs": [],
   "source": [
    "#TODO: more conversions, work with time columns later"
   ]
  },
  {
   "cell_type": "code",
   "execution_count": 28,
   "id": "81f85939",
   "metadata": {
    "ExecuteTime": {
     "end_time": "2022-03-17T09:29:00.616849Z",
     "start_time": "2022-03-17T09:28:59.895253Z"
    }
   },
   "outputs": [],
   "source": [
    "import seaborn as sns\n"
   ]
  },
  {
   "cell_type": "code",
   "execution_count": 29,
   "id": "7dead555",
   "metadata": {
    "ExecuteTime": {
     "end_time": "2022-03-17T09:29:00.623117Z",
     "start_time": "2022-03-17T09:29:00.619648Z"
    }
   },
   "outputs": [],
   "source": [
    "# sns.pairplot(df_train, hue='congestion')"
   ]
  },
  {
   "cell_type": "code",
   "execution_count": 30,
   "id": "81384c22",
   "metadata": {
    "ExecuteTime": {
     "end_time": "2022-03-17T09:29:00.631337Z",
     "start_time": "2022-03-17T09:29:00.627395Z"
    }
   },
   "outputs": [],
   "source": [
    "# sns.pairplot(df_train[['x', 'y', 'congestion']], hue='congestion')"
   ]
  },
  {
   "cell_type": "markdown",
   "id": "b8f429c5",
   "metadata": {},
   "source": [
    "## Selecting columns"
   ]
  },
  {
   "cell_type": "code",
   "execution_count": 31,
   "id": "5024f6bc",
   "metadata": {
    "ExecuteTime": {
     "end_time": "2022-03-17T09:29:00.640290Z",
     "start_time": "2022-03-17T09:29:00.635732Z"
    }
   },
   "outputs": [],
   "source": [
    "#selecting columns, excluding the time column at first:"
   ]
  },
  {
   "cell_type": "code",
   "execution_count": 97,
   "id": "06ddbd2f",
   "metadata": {
    "ExecuteTime": {
     "end_time": "2022-03-17T09:44:19.881162Z",
     "start_time": "2022-03-17T09:44:19.808821Z"
    }
   },
   "outputs": [],
   "source": [
    "y_train = df_train['congestion'].to_numpy()\n",
    "# X_train = df_train.drop(columns=['row_id', 'only_date', 'only_time', 'time', 'congestion']).to_numpy()\n",
    "# better for linreg:\n",
    "df_train_selected =  df_train.drop(columns=['row_id', 'only_date', 'only_time', 'time', 'congestion', 'timestamp'])\n",
    "X_train =df_train_selected.to_numpy()"
   ]
  },
  {
   "cell_type": "code",
   "execution_count": 70,
   "id": "4ffd95e6",
   "metadata": {
    "ExecuteTime": {
     "end_time": "2022-03-17T09:35:15.916630Z",
     "start_time": "2022-03-17T09:35:15.908676Z"
    }
   },
   "outputs": [],
   "source": [
    "# X_test = df_test.drop(columns=['row_id', 'only_date', 'only_time', 'time']).to_numpy()\n",
    "X_test = df_test.drop(columns=['row_id', 'only_date', 'only_time', 'time', 'timestamp']).to_numpy()"
   ]
  },
  {
   "cell_type": "code",
   "execution_count": 71,
   "id": "ac932c38",
   "metadata": {
    "ExecuteTime": {
     "end_time": "2022-03-17T09:35:16.925312Z",
     "start_time": "2022-03-17T09:35:16.887344Z"
    }
   },
   "outputs": [
    {
     "data": {
      "text/html": [
       "<div>\n",
       "<style scoped>\n",
       "    .dataframe tbody tr th:only-of-type {\n",
       "        vertical-align: middle;\n",
       "    }\n",
       "\n",
       "    .dataframe tbody tr th {\n",
       "        vertical-align: top;\n",
       "    }\n",
       "\n",
       "    .dataframe thead th {\n",
       "        text-align: right;\n",
       "    }\n",
       "</style>\n",
       "<table border=\"1\" class=\"dataframe\">\n",
       "  <thead>\n",
       "    <tr style=\"text-align: right;\">\n",
       "      <th></th>\n",
       "      <th>x</th>\n",
       "      <th>y</th>\n",
       "      <th>EB</th>\n",
       "      <th>NB</th>\n",
       "      <th>NE</th>\n",
       "      <th>NW</th>\n",
       "      <th>SB</th>\n",
       "      <th>SE</th>\n",
       "      <th>SW</th>\n",
       "      <th>WB</th>\n",
       "      <th>only_hour</th>\n",
       "    </tr>\n",
       "  </thead>\n",
       "  <tbody>\n",
       "    <tr>\n",
       "      <th>0</th>\n",
       "      <td>0</td>\n",
       "      <td>0</td>\n",
       "      <td>1</td>\n",
       "      <td>0</td>\n",
       "      <td>0</td>\n",
       "      <td>0</td>\n",
       "      <td>0</td>\n",
       "      <td>0</td>\n",
       "      <td>0</td>\n",
       "      <td>0</td>\n",
       "      <td>12</td>\n",
       "    </tr>\n",
       "    <tr>\n",
       "      <th>1</th>\n",
       "      <td>0</td>\n",
       "      <td>0</td>\n",
       "      <td>0</td>\n",
       "      <td>1</td>\n",
       "      <td>0</td>\n",
       "      <td>0</td>\n",
       "      <td>0</td>\n",
       "      <td>0</td>\n",
       "      <td>0</td>\n",
       "      <td>0</td>\n",
       "      <td>12</td>\n",
       "    </tr>\n",
       "    <tr>\n",
       "      <th>2</th>\n",
       "      <td>0</td>\n",
       "      <td>0</td>\n",
       "      <td>0</td>\n",
       "      <td>0</td>\n",
       "      <td>0</td>\n",
       "      <td>0</td>\n",
       "      <td>1</td>\n",
       "      <td>0</td>\n",
       "      <td>0</td>\n",
       "      <td>0</td>\n",
       "      <td>12</td>\n",
       "    </tr>\n",
       "    <tr>\n",
       "      <th>3</th>\n",
       "      <td>0</td>\n",
       "      <td>1</td>\n",
       "      <td>1</td>\n",
       "      <td>0</td>\n",
       "      <td>0</td>\n",
       "      <td>0</td>\n",
       "      <td>0</td>\n",
       "      <td>0</td>\n",
       "      <td>0</td>\n",
       "      <td>0</td>\n",
       "      <td>12</td>\n",
       "    </tr>\n",
       "    <tr>\n",
       "      <th>4</th>\n",
       "      <td>0</td>\n",
       "      <td>1</td>\n",
       "      <td>0</td>\n",
       "      <td>1</td>\n",
       "      <td>0</td>\n",
       "      <td>0</td>\n",
       "      <td>0</td>\n",
       "      <td>0</td>\n",
       "      <td>0</td>\n",
       "      <td>0</td>\n",
       "      <td>12</td>\n",
       "    </tr>\n",
       "    <tr>\n",
       "      <th>...</th>\n",
       "      <td>...</td>\n",
       "      <td>...</td>\n",
       "      <td>...</td>\n",
       "      <td>...</td>\n",
       "      <td>...</td>\n",
       "      <td>...</td>\n",
       "      <td>...</td>\n",
       "      <td>...</td>\n",
       "      <td>...</td>\n",
       "      <td>...</td>\n",
       "      <td>...</td>\n",
       "    </tr>\n",
       "    <tr>\n",
       "      <th>2335</th>\n",
       "      <td>2</td>\n",
       "      <td>3</td>\n",
       "      <td>0</td>\n",
       "      <td>1</td>\n",
       "      <td>0</td>\n",
       "      <td>0</td>\n",
       "      <td>0</td>\n",
       "      <td>0</td>\n",
       "      <td>0</td>\n",
       "      <td>0</td>\n",
       "      <td>23</td>\n",
       "    </tr>\n",
       "    <tr>\n",
       "      <th>2336</th>\n",
       "      <td>2</td>\n",
       "      <td>3</td>\n",
       "      <td>0</td>\n",
       "      <td>0</td>\n",
       "      <td>1</td>\n",
       "      <td>0</td>\n",
       "      <td>0</td>\n",
       "      <td>0</td>\n",
       "      <td>0</td>\n",
       "      <td>0</td>\n",
       "      <td>23</td>\n",
       "    </tr>\n",
       "    <tr>\n",
       "      <th>2337</th>\n",
       "      <td>2</td>\n",
       "      <td>3</td>\n",
       "      <td>0</td>\n",
       "      <td>0</td>\n",
       "      <td>0</td>\n",
       "      <td>0</td>\n",
       "      <td>1</td>\n",
       "      <td>0</td>\n",
       "      <td>0</td>\n",
       "      <td>0</td>\n",
       "      <td>23</td>\n",
       "    </tr>\n",
       "    <tr>\n",
       "      <th>2338</th>\n",
       "      <td>2</td>\n",
       "      <td>3</td>\n",
       "      <td>0</td>\n",
       "      <td>0</td>\n",
       "      <td>0</td>\n",
       "      <td>0</td>\n",
       "      <td>0</td>\n",
       "      <td>0</td>\n",
       "      <td>1</td>\n",
       "      <td>0</td>\n",
       "      <td>23</td>\n",
       "    </tr>\n",
       "    <tr>\n",
       "      <th>2339</th>\n",
       "      <td>2</td>\n",
       "      <td>3</td>\n",
       "      <td>0</td>\n",
       "      <td>0</td>\n",
       "      <td>0</td>\n",
       "      <td>0</td>\n",
       "      <td>0</td>\n",
       "      <td>0</td>\n",
       "      <td>0</td>\n",
       "      <td>1</td>\n",
       "      <td>23</td>\n",
       "    </tr>\n",
       "  </tbody>\n",
       "</table>\n",
       "<p>2340 rows × 11 columns</p>\n",
       "</div>"
      ],
      "text/plain": [
       "      x  y  EB  NB  NE  NW  SB  SE  SW  WB  only_hour\n",
       "0     0  0   1   0   0   0   0   0   0   0         12\n",
       "1     0  0   0   1   0   0   0   0   0   0         12\n",
       "2     0  0   0   0   0   0   1   0   0   0         12\n",
       "3     0  1   1   0   0   0   0   0   0   0         12\n",
       "4     0  1   0   1   0   0   0   0   0   0         12\n",
       "...  .. ..  ..  ..  ..  ..  ..  ..  ..  ..        ...\n",
       "2335  2  3   0   1   0   0   0   0   0   0         23\n",
       "2336  2  3   0   0   1   0   0   0   0   0         23\n",
       "2337  2  3   0   0   0   0   1   0   0   0         23\n",
       "2338  2  3   0   0   0   0   0   0   1   0         23\n",
       "2339  2  3   0   0   0   0   0   0   0   1         23\n",
       "\n",
       "[2340 rows x 11 columns]"
      ]
     },
     "execution_count": 71,
     "metadata": {},
     "output_type": "execute_result"
    }
   ],
   "source": [
    "df_test.drop(columns=['row_id', 'only_date', 'only_time', 'time', 'timestamp'])"
   ]
  },
  {
   "cell_type": "code",
   "execution_count": 36,
   "id": "e8f52ec4",
   "metadata": {
    "ExecuteTime": {
     "end_time": "2022-03-17T09:30:16.898140Z",
     "start_time": "2022-03-17T09:30:16.890708Z"
    }
   },
   "outputs": [
    {
     "name": "stdout",
     "output_type": "stream",
     "text": [
      "train shapes: (848835, 11) (848835,)\n",
      "test shapes: (2340, 11)\n"
     ]
    }
   ],
   "source": [
    "print(\"train shapes:\", X_train.shape, y_train.shape)\n",
    "print(\"test shapes:\", X_test.shape)"
   ]
  },
  {
   "cell_type": "markdown",
   "id": "9c2a6e3d",
   "metadata": {},
   "source": [
    "### Train validation splitting:"
   ]
  },
  {
   "cell_type": "code",
   "execution_count": 37,
   "id": "1386d9b0",
   "metadata": {
    "ExecuteTime": {
     "end_time": "2022-03-17T09:30:18.541957Z",
     "start_time": "2022-03-17T09:30:18.200471Z"
    }
   },
   "outputs": [],
   "source": [
    "from sklearn.model_selection import train_test_split\n",
    "\n",
    "X_train, X_val, y_train, y_val = train_test_split(X_train, y_train, test_size=0.10, random_state=42)"
   ]
  },
  {
   "cell_type": "code",
   "execution_count": 38,
   "id": "79a83943",
   "metadata": {
    "ExecuteTime": {
     "end_time": "2022-03-17T09:30:44.329560Z",
     "start_time": "2022-03-17T09:30:44.321990Z"
    }
   },
   "outputs": [
    {
     "name": "stdout",
     "output_type": "stream",
     "text": [
      "train shapes: (763951, 11) (763951,)\n",
      "validation shapes: (84884, 11) (84884,)\n",
      "test shapes: (2340, 11)\n"
     ]
    }
   ],
   "source": [
    "print(\"train shapes:\", X_train.shape, y_train.shape)\n",
    "print(\"validation shapes:\", X_val.shape, y_val.shape)\n",
    "print(\"test shapes:\", X_test.shape)"
   ]
  },
  {
   "cell_type": "markdown",
   "id": "2b456929",
   "metadata": {},
   "source": [
    "## Model training"
   ]
  },
  {
   "cell_type": "markdown",
   "id": "9b8836dc",
   "metadata": {},
   "source": [
    "### Linear regression"
   ]
  },
  {
   "cell_type": "code",
   "execution_count": 42,
   "id": "fa50fd7b",
   "metadata": {
    "ExecuteTime": {
     "end_time": "2022-03-17T09:31:17.184107Z",
     "start_time": "2022-03-17T09:31:16.580067Z"
    }
   },
   "outputs": [],
   "source": [
    "from sklearn.linear_model import LinearRegression\n",
    "\n",
    "reg = LinearRegression().fit(X_train, y_train)"
   ]
  },
  {
   "cell_type": "code",
   "execution_count": 43,
   "id": "372685ba",
   "metadata": {
    "ExecuteTime": {
     "end_time": "2022-03-17T09:31:17.191490Z",
     "start_time": "2022-03-17T09:31:17.186986Z"
    }
   },
   "outputs": [],
   "source": [
    "y_pred_test = reg.predict(X_test)"
   ]
  },
  {
   "cell_type": "code",
   "execution_count": 44,
   "id": "1289ebb6",
   "metadata": {
    "ExecuteTime": {
     "end_time": "2022-03-17T09:31:17.205731Z",
     "start_time": "2022-03-17T09:31:17.194378Z"
    }
   },
   "outputs": [
    {
     "data": {
      "text/plain": [
       "array([47.33806757, 49.61570963, 51.47373471, ..., 60.22494617,\n",
       "       47.8963561 , 56.1326075 ])"
      ]
     },
     "execution_count": 44,
     "metadata": {},
     "output_type": "execute_result"
    }
   ],
   "source": [
    "y_pred_test"
   ]
  },
  {
   "cell_type": "code",
   "execution_count": 284,
   "id": "e15b5ab6",
   "metadata": {
    "ExecuteTime": {
     "end_time": "2022-03-17T10:55:43.802051Z",
     "start_time": "2022-03-17T10:55:43.765574Z"
    }
   },
   "outputs": [
    {
     "data": {
      "text/plain": [
       "0.1881049056005567"
      ]
     },
     "execution_count": 284,
     "metadata": {},
     "output_type": "execute_result"
    }
   ],
   "source": [
    "print(\"MSE:\")\n",
    "reg.score(X_val, y_val) "
   ]
  },
  {
   "cell_type": "code",
   "execution_count": null,
   "id": "dc7f9ffe",
   "metadata": {},
   "outputs": [],
   "source": [
    "from sklearn.metrics import mean_absolute_error\n",
    "\n",
    "print(\"MAE:\", mean_absolute_error(y_val, y_pred_test))"
   ]
  },
  {
   "cell_type": "markdown",
   "id": "2c79208c",
   "metadata": {},
   "source": [
    "### Lasso Regression"
   ]
  },
  {
   "cell_type": "code",
   "execution_count": 48,
   "id": "cdf699d4",
   "metadata": {
    "ExecuteTime": {
     "end_time": "2022-03-17T09:31:31.340369Z",
     "start_time": "2022-03-17T09:31:30.674003Z"
    }
   },
   "outputs": [],
   "source": [
    "from sklearn import linear_model\n",
    "\n",
    "#TODO: tune alpha param\n",
    "clf = linear_model.Lasso(alpha=0.1)\n",
    "clf = clf.fit(X_train, y_train)\n",
    "y_pred_test_lasso = clf.predict(X_test)"
   ]
  },
  {
   "cell_type": "code",
   "execution_count": 49,
   "id": "d41480ae",
   "metadata": {
    "ExecuteTime": {
     "end_time": "2022-03-17T09:31:31.349913Z",
     "start_time": "2022-03-17T09:31:31.343261Z"
    }
   },
   "outputs": [
    {
     "data": {
      "text/plain": [
       "array([47.42281675, 49.69967035, 51.55771194, ..., 59.03409913,\n",
       "       48.35470976, 54.94977272])"
      ]
     },
     "execution_count": 49,
     "metadata": {},
     "output_type": "execute_result"
    }
   ],
   "source": [
    "y_pred_test_lasso"
   ]
  },
  {
   "cell_type": "code",
   "execution_count": 50,
   "id": "5004dc35",
   "metadata": {
    "ExecuteTime": {
     "end_time": "2022-03-17T09:31:31.370194Z",
     "start_time": "2022-03-17T09:31:31.354189Z"
    }
   },
   "outputs": [
    {
     "data": {
      "text/plain": [
       "0.19312788498019484"
      ]
     },
     "execution_count": 50,
     "metadata": {},
     "output_type": "execute_result"
    }
   ],
   "source": [
    "reg.score(X_val, y_val) "
   ]
  },
  {
   "cell_type": "code",
   "execution_count": null,
   "id": "2cc6c10c",
   "metadata": {},
   "outputs": [],
   "source": [
    "from sklearn.metrics import mean_absolute_error\n",
    "\n",
    "print(\"MAE:\", mean_absolute_error(y_val, y_pred_test_lasso))"
   ]
  },
  {
   "cell_type": "markdown",
   "id": "dc65c773",
   "metadata": {},
   "source": [
    "### Ridge Regression"
   ]
  },
  {
   "cell_type": "code",
   "execution_count": 55,
   "id": "d7ad1665",
   "metadata": {
    "ExecuteTime": {
     "end_time": "2022-03-17T09:31:52.184439Z",
     "start_time": "2022-03-17T09:31:51.916259Z"
    }
   },
   "outputs": [],
   "source": [
    "from sklearn import linear_model\n",
    "\n",
    "#TODO: tune alpha param\n",
    "reg = linear_model.Ridge()\n",
    "reg = reg.fit(X_train, y_train)\n",
    "y_pred_test_ridge = reg.predict(X_test)\n"
   ]
  },
  {
   "cell_type": "code",
   "execution_count": 56,
   "id": "f001744e",
   "metadata": {
    "ExecuteTime": {
     "end_time": "2022-03-17T09:31:53.054954Z",
     "start_time": "2022-03-17T09:31:53.046171Z"
    }
   },
   "outputs": [
    {
     "data": {
      "text/plain": [
       "array([47.33810196, 49.61572779, 51.47373969, ..., 60.22478323,\n",
       "       47.89631093, 56.13247672])"
      ]
     },
     "execution_count": 56,
     "metadata": {},
     "output_type": "execute_result"
    }
   ],
   "source": [
    "y_pred_test_ridge"
   ]
  },
  {
   "cell_type": "code",
   "execution_count": 57,
   "id": "1ad2fdde",
   "metadata": {
    "ExecuteTime": {
     "end_time": "2022-03-17T09:31:53.994718Z",
     "start_time": "2022-03-17T09:31:53.980274Z"
    }
   },
   "outputs": [
    {
     "data": {
      "text/plain": [
       "0.19312778314150358"
      ]
     },
     "execution_count": 57,
     "metadata": {},
     "output_type": "execute_result"
    }
   ],
   "source": [
    "reg.score(X_val, y_val) "
   ]
  },
  {
   "cell_type": "code",
   "execution_count": null,
   "id": "6df256d0",
   "metadata": {},
   "outputs": [],
   "source": [
    "from sklearn.metrics import mean_absolute_error\n",
    "\n",
    "print(\"MAE:\", mean_absolute_error(y_val, y_pred_test_ridge))"
   ]
  },
  {
   "cell_type": "markdown",
   "id": "f2da2968",
   "metadata": {},
   "source": [
    "### ElasticNet Regression"
   ]
  },
  {
   "cell_type": "code",
   "execution_count": 58,
   "id": "c6694c77",
   "metadata": {
    "ExecuteTime": {
     "end_time": "2022-03-17T09:32:03.494347Z",
     "start_time": "2022-03-17T09:32:02.224546Z"
    }
   },
   "outputs": [],
   "source": [
    "reg = linear_model.ElasticNet(alpha=.1)\n",
    "\n",
    "reg = reg.fit(X_train, y_train)\n",
    "y_pred_test_elasticnet = reg.predict(X_test)\n"
   ]
  },
  {
   "cell_type": "code",
   "execution_count": 59,
   "id": "67ca0649",
   "metadata": {
    "ExecuteTime": {
     "end_time": "2022-03-17T09:32:04.283176Z",
     "start_time": "2022-03-17T09:32:04.275317Z"
    }
   },
   "outputs": [
    {
     "data": {
      "text/plain": [
       "array([48.04039311, 49.83142253, 51.29322252, ..., 56.47904187,\n",
       "       48.0922889 , 53.30871014])"
      ]
     },
     "execution_count": 59,
     "metadata": {},
     "output_type": "execute_result"
    }
   ],
   "source": [
    "y_pred_test_elasticnet"
   ]
  },
  {
   "cell_type": "code",
   "execution_count": 60,
   "id": "7e64e608",
   "metadata": {
    "ExecuteTime": {
     "end_time": "2022-03-17T09:32:05.104455Z",
     "start_time": "2022-03-17T09:32:05.090753Z"
    }
   },
   "outputs": [
    {
     "data": {
      "text/plain": [
       "0.15126169200614725"
      ]
     },
     "execution_count": 60,
     "metadata": {},
     "output_type": "execute_result"
    }
   ],
   "source": [
    "reg.score(X_val, y_val) "
   ]
  },
  {
   "cell_type": "code",
   "execution_count": null,
   "id": "6d0cf9e5",
   "metadata": {},
   "outputs": [],
   "source": [
    "from sklearn.metrics import mean_absolute_error\n",
    "\n",
    "print(\"MAE:\", mean_absolute_error(y_val, y_pred_test_elasticnet))"
   ]
  },
  {
   "cell_type": "markdown",
   "id": "0bdddd29",
   "metadata": {},
   "source": [
    "### LARS"
   ]
  },
  {
   "cell_type": "code",
   "execution_count": 64,
   "id": "29c27de6",
   "metadata": {
    "ExecuteTime": {
     "end_time": "2022-03-17T09:32:50.732770Z",
     "start_time": "2022-03-17T09:32:50.728757Z"
    }
   },
   "outputs": [],
   "source": [
    "#TODO: adjust hyperparams, randomsearchCV~"
   ]
  },
  {
   "cell_type": "code",
   "execution_count": 61,
   "id": "b5a7120b",
   "metadata": {
    "ExecuteTime": {
     "end_time": "2022-03-17T09:32:16.618163Z",
     "start_time": "2022-03-17T09:32:16.391761Z"
    }
   },
   "outputs": [],
   "source": [
    "reg = linear_model.LassoLars(alpha=.1, normalize=False)\n",
    "\n",
    "reg = reg.fit(X_train, y_train)\n",
    "y_pred_test_lars = reg.predict(X_test)\n"
   ]
  },
  {
   "cell_type": "code",
   "execution_count": 62,
   "id": "48456e09",
   "metadata": {
    "ExecuteTime": {
     "end_time": "2022-03-17T09:32:17.511377Z",
     "start_time": "2022-03-17T09:32:17.503623Z"
    }
   },
   "outputs": [
    {
     "data": {
      "text/plain": [
       "array([47.42273919, 49.69955977, 51.55760507, ..., 59.03418588,\n",
       "       48.35479259, 54.94986065])"
      ]
     },
     "execution_count": 62,
     "metadata": {},
     "output_type": "execute_result"
    }
   ],
   "source": [
    "y_pred_test_lars"
   ]
  },
  {
   "cell_type": "code",
   "execution_count": 63,
   "id": "d76fd6f2",
   "metadata": {
    "ExecuteTime": {
     "end_time": "2022-03-17T09:32:19.746844Z",
     "start_time": "2022-03-17T09:32:19.730810Z"
    }
   },
   "outputs": [
    {
     "data": {
      "text/plain": [
       "0.1881049056005567"
      ]
     },
     "execution_count": 63,
     "metadata": {},
     "output_type": "execute_result"
    }
   ],
   "source": [
    "reg.score(X_val, y_val) "
   ]
  },
  {
   "cell_type": "code",
   "execution_count": null,
   "id": "264f50ce",
   "metadata": {},
   "outputs": [],
   "source": [
    "from sklearn.metrics import mean_absolute_error\n",
    "\n",
    "print(\"MAE:\", mean_absolute_error(y_val, y_pred_test_lars))"
   ]
  },
  {
   "cell_type": "markdown",
   "id": "6674b3a4",
   "metadata": {},
   "source": [
    "### More advanced model - CNN\n",
    "\n",
    "based on tutorial: https://www.tensorflow.org/tutorials/keras/regression"
   ]
  },
  {
   "cell_type": "code",
   "execution_count": 65,
   "id": "56377d38",
   "metadata": {
    "ExecuteTime": {
     "end_time": "2022-03-17T09:33:45.273674Z",
     "start_time": "2022-03-17T09:33:45.267714Z"
    }
   },
   "outputs": [],
   "source": [
    "import matplotlib.pyplot as plt\n",
    "import numpy as np\n",
    "import pandas as pd\n",
    "import seaborn as sns\n",
    "\n",
    "# Make NumPy printouts easier to read.\n",
    "np.set_printoptions(precision=3, suppress=True)"
   ]
  },
  {
   "cell_type": "code",
   "execution_count": 66,
   "id": "11b3cb96",
   "metadata": {
    "ExecuteTime": {
     "end_time": "2022-03-17T09:34:10.217488Z",
     "start_time": "2022-03-17T09:34:05.933277Z"
    }
   },
   "outputs": [
    {
     "name": "stdout",
     "output_type": "stream",
     "text": [
      "2.2.0\n"
     ]
    }
   ],
   "source": [
    "import tensorflow as tf\n",
    "\n",
    "from tensorflow import keras\n",
    "from tensorflow.keras import layers\n",
    "\n",
    "print(tf.__version__)"
   ]
  },
  {
   "cell_type": "code",
   "execution_count": null,
   "id": "deeb0e4a",
   "metadata": {},
   "outputs": [],
   "source": []
  },
  {
   "cell_type": "markdown",
   "id": "0590a892",
   "metadata": {},
   "source": [
    "## Submission of results"
   ]
  },
  {
   "cell_type": "markdown",
   "id": "994f74b3",
   "metadata": {},
   "source": [
    "### Linear regression - OLS"
   ]
  },
  {
   "cell_type": "code",
   "execution_count": 69,
   "id": "fd1be5bc",
   "metadata": {
    "ExecuteTime": {
     "end_time": "2022-03-16T18:46:54.729811Z",
     "start_time": "2022-03-16T18:46:54.725031Z"
    }
   },
   "outputs": [],
   "source": [
    "df_submit1 = df_submission_example\n",
    "df_submission_example['congestion'] = y_pred_test"
   ]
  },
  {
   "cell_type": "code",
   "execution_count": 70,
   "id": "19cc7ed9",
   "metadata": {
    "ExecuteTime": {
     "end_time": "2022-03-16T18:46:54.949560Z",
     "start_time": "2022-03-16T18:46:54.933655Z"
    }
   },
   "outputs": [
    {
     "data": {
      "text/html": [
       "<div>\n",
       "<style scoped>\n",
       "    .dataframe tbody tr th:only-of-type {\n",
       "        vertical-align: middle;\n",
       "    }\n",
       "\n",
       "    .dataframe tbody tr th {\n",
       "        vertical-align: top;\n",
       "    }\n",
       "\n",
       "    .dataframe thead th {\n",
       "        text-align: right;\n",
       "    }\n",
       "</style>\n",
       "<table border=\"1\" class=\"dataframe\">\n",
       "  <thead>\n",
       "    <tr style=\"text-align: right;\">\n",
       "      <th></th>\n",
       "      <th>row_id</th>\n",
       "      <th>congestion</th>\n",
       "    </tr>\n",
       "  </thead>\n",
       "  <tbody>\n",
       "    <tr>\n",
       "      <th>0</th>\n",
       "      <td>848835</td>\n",
       "      <td>38.804868</td>\n",
       "    </tr>\n",
       "    <tr>\n",
       "      <th>1</th>\n",
       "      <td>848836</td>\n",
       "      <td>41.087611</td>\n",
       "    </tr>\n",
       "    <tr>\n",
       "      <th>2</th>\n",
       "      <td>848837</td>\n",
       "      <td>42.950030</td>\n",
       "    </tr>\n",
       "    <tr>\n",
       "      <th>3</th>\n",
       "      <td>848838</td>\n",
       "      <td>38.074657</td>\n",
       "    </tr>\n",
       "    <tr>\n",
       "      <th>4</th>\n",
       "      <td>848839</td>\n",
       "      <td>40.357399</td>\n",
       "    </tr>\n",
       "    <tr>\n",
       "      <th>...</th>\n",
       "      <td>...</td>\n",
       "      <td>...</td>\n",
       "    </tr>\n",
       "    <tr>\n",
       "      <th>2335</th>\n",
       "      <td>851170</td>\n",
       "      <td>45.954933</td>\n",
       "    </tr>\n",
       "    <tr>\n",
       "      <th>2336</th>\n",
       "      <td>851171</td>\n",
       "      <td>33.429098</td>\n",
       "    </tr>\n",
       "    <tr>\n",
       "      <th>2337</th>\n",
       "      <td>851172</td>\n",
       "      <td>47.817353</td>\n",
       "    </tr>\n",
       "    <tr>\n",
       "      <th>2338</th>\n",
       "      <td>851173</td>\n",
       "      <td>35.477384</td>\n",
       "    </tr>\n",
       "    <tr>\n",
       "      <th>2339</th>\n",
       "      <td>851174</td>\n",
       "      <td>43.722068</td>\n",
       "    </tr>\n",
       "  </tbody>\n",
       "</table>\n",
       "<p>2340 rows × 2 columns</p>\n",
       "</div>"
      ],
      "text/plain": [
       "      row_id  congestion\n",
       "0     848835   38.804868\n",
       "1     848836   41.087611\n",
       "2     848837   42.950030\n",
       "3     848838   38.074657\n",
       "4     848839   40.357399\n",
       "...      ...         ...\n",
       "2335  851170   45.954933\n",
       "2336  851171   33.429098\n",
       "2337  851172   47.817353\n",
       "2338  851173   35.477384\n",
       "2339  851174   43.722068\n",
       "\n",
       "[2340 rows x 2 columns]"
      ]
     },
     "execution_count": 70,
     "metadata": {},
     "output_type": "execute_result"
    }
   ],
   "source": [
    "df_submission_example"
   ]
  },
  {
   "cell_type": "code",
   "execution_count": 71,
   "id": "2f36f2b4",
   "metadata": {
    "ExecuteTime": {
     "end_time": "2022-03-16T18:47:02.703446Z",
     "start_time": "2022-03-16T18:47:02.699680Z"
    }
   },
   "outputs": [],
   "source": [
    "# df_submit1['congestion'].astype('float')"
   ]
  },
  {
   "cell_type": "code",
   "execution_count": 72,
   "id": "310486a9",
   "metadata": {
    "ExecuteTime": {
     "end_time": "2022-03-16T18:47:02.912622Z",
     "start_time": "2022-03-16T18:47:02.908397Z"
    }
   },
   "outputs": [],
   "source": [
    "# df_submission_example['congestion'].map('{:,.2f}'.format)"
   ]
  },
  {
   "cell_type": "code",
   "execution_count": 73,
   "id": "fd524533",
   "metadata": {
    "ExecuteTime": {
     "end_time": "2022-03-16T18:47:03.178433Z",
     "start_time": "2022-03-16T18:47:03.152262Z"
    }
   },
   "outputs": [],
   "source": [
    "df_submit1.to_csv('submission2.csv', index=False)"
   ]
  },
  {
   "cell_type": "code",
   "execution_count": 74,
   "id": "2c6a8d9a",
   "metadata": {
    "ExecuteTime": {
     "end_time": "2022-03-17T09:36:49.382903Z",
     "start_time": "2022-03-17T09:36:49.379323Z"
    }
   },
   "outputs": [],
   "source": [
    "# # Normalize data:\n",
    "# normalizer = tf.keras.layers.Normalization(axis=-1)\n",
    "\n",
    "# normalizer.adapt(np.array(X_train))"
   ]
  },
  {
   "cell_type": "code",
   "execution_count": 79,
   "id": "e24a6ad4",
   "metadata": {
    "ExecuteTime": {
     "end_time": "2022-03-17T09:39:22.975746Z",
     "start_time": "2022-03-17T09:39:22.971470Z"
    }
   },
   "outputs": [],
   "source": [
    "# # keras sequential model:\n",
    "\n",
    "# model = tf.keras.Sequential([\n",
    "# #    normalizer,\n",
    "#     layers.Dense(units=1)\n",
    "# ])\n",
    "\n",
    "# # model.compile()\n",
    "# model.compile(\n",
    "#     optimizer=tf.optimizers.Adam(learning_rate=0.1),\n",
    "#     loss='mean_absolute_error')\n",
    "\n",
    "\n",
    "\n",
    "# model.summary()"
   ]
  },
  {
   "cell_type": "markdown",
   "id": "794a8bb1",
   "metadata": {
    "ExecuteTime": {
     "end_time": "2022-03-17T09:39:35.689265Z",
     "start_time": "2022-03-17T09:39:35.682172Z"
    }
   },
   "source": [
    "#### Another model:\n",
    "based on tutorial from https://towardsdatascience.com/building-a-convolutional-neural-network-cnn-in-keras-329fbbadc5f5"
   ]
  },
  {
   "cell_type": "code",
   "execution_count": 99,
   "id": "2083604b",
   "metadata": {
    "ExecuteTime": {
     "end_time": "2022-03-17T09:44:36.927253Z",
     "start_time": "2022-03-17T09:44:36.918912Z"
    }
   },
   "outputs": [
    {
     "data": {
      "text/plain": [
       "Index(['x', 'y', 'EB', 'NB', 'NE', 'NW', 'SB', 'SE', 'SW', 'WB', 'only_hour'], dtype='object')"
      ]
     },
     "execution_count": 99,
     "metadata": {},
     "output_type": "execute_result"
    }
   ],
   "source": [
    "df_train_selected.columns"
   ]
  },
  {
   "cell_type": "code",
   "execution_count": 103,
   "id": "b74d4174",
   "metadata": {
    "ExecuteTime": {
     "end_time": "2022-03-17T09:44:53.985352Z",
     "start_time": "2022-03-17T09:44:53.976026Z"
    }
   },
   "outputs": [
    {
     "data": {
      "text/plain": [
       "x            int64\n",
       "y            int64\n",
       "EB           uint8\n",
       "NB           uint8\n",
       "NE           uint8\n",
       "NW           uint8\n",
       "SB           uint8\n",
       "SE           uint8\n",
       "SW           uint8\n",
       "WB           uint8\n",
       "only_hour    int64\n",
       "dtype: object"
      ]
     },
     "execution_count": 103,
     "metadata": {},
     "output_type": "execute_result"
    }
   ],
   "source": [
    "df_train_selected.dtypes"
   ]
  },
  {
   "cell_type": "markdown",
   "id": "0664ba11",
   "metadata": {},
   "source": [
    "### CNNs & other DL with Keras, TF, Pytorch [Working, the best model so far]"
   ]
  },
  {
   "cell_type": "code",
   "execution_count": 286,
   "id": "5afed434",
   "metadata": {
    "ExecuteTime": {
     "end_time": "2022-03-17T10:56:31.986255Z",
     "start_time": "2022-03-17T10:56:31.980305Z"
    }
   },
   "outputs": [],
   "source": [
    "X_train_reshaped = X_train.reshape((X_train.shape[0], X_train.shape[1], 1))\n",
    "X_val_reshaped = X_val.reshape((X_val.shape[0], X_val.shape[1], 1))\n",
    "X_test_reshaped = X_test.reshape((X_test.shape[0], X_test.shape[1], 1))"
   ]
  },
  {
   "cell_type": "code",
   "execution_count": 255,
   "id": "625db039",
   "metadata": {
    "ExecuteTime": {
     "end_time": "2022-03-17T10:41:53.143239Z",
     "start_time": "2022-03-17T10:41:53.137237Z"
    }
   },
   "outputs": [
    {
     "data": {
      "text/plain": [
       "(848835, 11)"
      ]
     },
     "execution_count": 255,
     "metadata": {},
     "output_type": "execute_result"
    }
   ],
   "source": [
    "X_train.shape"
   ]
  },
  {
   "cell_type": "code",
   "execution_count": 291,
   "id": "59bc5725",
   "metadata": {
    "ExecuteTime": {
     "end_time": "2022-03-17T10:58:09.422002Z",
     "start_time": "2022-03-17T10:58:09.362431Z"
    }
   },
   "outputs": [],
   "source": [
    "from keras.models import Sequential\n",
    "from keras.layers import Dense, Conv2D, Flatten, Conv1D\n",
    "#create model\n",
    "model = Sequential()\n",
    "#add model layers\n",
    "\n",
    "\n",
    "input_shape = (11, 1)\n",
    "model.add(Conv1D(64, kernel_size=1, activation='relu', input_shape=input_shape))\n",
    "model.add(Conv1D(32, kernel_size=1, activation='relu'))\n",
    "model.add(Flatten())\n",
    "\n",
    "\n",
    "# model.add(Dense(10, activation=’softmax’))\n",
    "model.add(Dense(1)) #changed bc we need 1 value"
   ]
  },
  {
   "cell_type": "code",
   "execution_count": 267,
   "id": "7fb4afe0",
   "metadata": {
    "ExecuteTime": {
     "end_time": "2022-03-17T10:43:16.722213Z",
     "start_time": "2022-03-17T10:43:16.712547Z"
    }
   },
   "outputs": [
    {
     "name": "stdout",
     "output_type": "stream",
     "text": [
      "Model: \"sequential_36\"\n",
      "_________________________________________________________________\n",
      "Layer (type)                 Output Shape              Param #   \n",
      "=================================================================\n",
      "conv1d_27 (Conv1D)           (None, 11, 64)            128       \n",
      "_________________________________________________________________\n",
      "conv1d_28 (Conv1D)           (None, 11, 32)            2080      \n",
      "_________________________________________________________________\n",
      "flatten_12 (Flatten)         (None, 352)               0         \n",
      "_________________________________________________________________\n",
      "dense_16 (Dense)             (None, 1)                 353       \n",
      "=================================================================\n",
      "Total params: 2,561\n",
      "Trainable params: 2,561\n",
      "Non-trainable params: 0\n",
      "_________________________________________________________________\n"
     ]
    }
   ],
   "source": [
    "model.summary()"
   ]
  },
  {
   "cell_type": "code",
   "execution_count": 268,
   "id": "378f64d7",
   "metadata": {
    "ExecuteTime": {
     "end_time": "2022-03-17T10:43:17.776264Z",
     "start_time": "2022-03-17T10:43:17.769962Z"
    }
   },
   "outputs": [
    {
     "data": {
      "text/plain": [
       "(848835, 11)"
      ]
     },
     "execution_count": 268,
     "metadata": {},
     "output_type": "execute_result"
    }
   ],
   "source": [
    "input_shape = X_train[0].shape\n",
    "input_shape\n",
    "X_train.shape"
   ]
  },
  {
   "cell_type": "code",
   "execution_count": 139,
   "id": "89c783d7",
   "metadata": {
    "ExecuteTime": {
     "end_time": "2022-03-17T10:13:03.360576Z",
     "start_time": "2022-03-17T10:13:03.354496Z"
    }
   },
   "outputs": [
    {
     "data": {
      "text/plain": [
       "array([0, 0, 1, 0, 0, 0, 0, 0, 0, 0, 0])"
      ]
     },
     "execution_count": 139,
     "metadata": {},
     "output_type": "execute_result"
    }
   ],
   "source": [
    "X_train[0]"
   ]
  },
  {
   "cell_type": "code",
   "execution_count": 292,
   "id": "71870916",
   "metadata": {
    "ExecuteTime": {
     "end_time": "2022-03-17T10:58:37.775141Z",
     "start_time": "2022-03-17T10:58:37.755857Z"
    }
   },
   "outputs": [],
   "source": [
    "# model.compile(optimizer='adam', loss='mean_squared_error', metrics=['mean_squared_error', 'mean_absolute_error'])\n",
    "model.compile(optimizer='adam', loss='mean_absolute_error', metrics=['mean_squared_error', 'mean_absolute_error'])"
   ]
  },
  {
   "cell_type": "code",
   "execution_count": null,
   "id": "8092ce72",
   "metadata": {
    "ExecuteTime": {
     "start_time": "2022-03-17T10:58:43.184Z"
    }
   },
   "outputs": [
    {
     "name": "stdout",
     "output_type": "stream",
     "text": [
      "Epoch 1/10\n",
      "15326/26527 [================>.............] - ETA: 28s - loss: 12.5284 - mean_squared_error: 249.7315 - mean_absolute_error: 12.5284"
     ]
    }
   ],
   "source": [
    "NR_EPOCHS = 10\n",
    "# history = modelel.fit(X_train, y_train, epochs=NR_EPOCHS, validation_data=(X_val, y_val))\n",
    "\n",
    "history = model.fit(X_train_reshaped, y_train, epochs=NR_EPOCHS, validation_data=(X_val_reshaped, y_val))"
   ]
  },
  {
   "cell_type": "code",
   "execution_count": null,
   "id": "328e3a4a",
   "metadata": {
    "ExecuteTime": {
     "start_time": "2022-03-17T10:58:54.428Z"
    }
   },
   "outputs": [],
   "source": [
    "y_pred_CNN1 = model.predict(X_test_reshaped)"
   ]
  },
  {
   "cell_type": "code",
   "execution_count": null,
   "id": "c1d40d8d",
   "metadata": {
    "ExecuteTime": {
     "start_time": "2022-03-17T10:58:55.292Z"
    }
   },
   "outputs": [],
   "source": [
    "y_pred_CNN1"
   ]
  },
  {
   "cell_type": "markdown",
   "id": "24574c9a",
   "metadata": {},
   "source": [
    "### Model with PyTorch - Experimenting, not working yet"
   ]
  },
  {
   "cell_type": "code",
   "execution_count": 221,
   "id": "7deafccd",
   "metadata": {
    "ExecuteTime": {
     "end_time": "2022-03-17T10:32:23.220178Z",
     "start_time": "2022-03-17T10:32:23.216096Z"
    }
   },
   "outputs": [],
   "source": [
    "# import torch\n",
    "\n",
    "#works, but slow:\n",
    "# model = torch.nn.Sequential(\n",
    "#     torch.nn.BatchNorm1d(11, 1),\n",
    "#     torch.nn.Linear(11, 1),\n",
    "#     torch.nn.Flatten(0, 1)\n",
    "# )"
   ]
  },
  {
   "cell_type": "code",
   "execution_count": 227,
   "id": "f0829821",
   "metadata": {
    "ExecuteTime": {
     "end_time": "2022-03-17T10:35:03.104178Z",
     "start_time": "2022-03-17T10:35:03.054986Z"
    }
   },
   "outputs": [
    {
     "data": {
      "text/plain": [
       "torch.Size([848835, 11])"
      ]
     },
     "execution_count": 227,
     "metadata": {},
     "output_type": "execute_result"
    }
   ],
   "source": [
    "XX_train = torch.tensor(X_train).float()\n",
    "XX_train.shape"
   ]
  },
  {
   "cell_type": "code",
   "execution_count": 246,
   "id": "ea663364",
   "metadata": {
    "ExecuteTime": {
     "end_time": "2022-03-17T10:40:33.387564Z",
     "start_time": "2022-03-17T10:40:33.380357Z"
    }
   },
   "outputs": [],
   "source": [
    "import torch\n",
    "\n",
    "# expects 2D input:\n",
    "model = torch.nn.Sequential(\n",
    "    torch.nn.Conv1d(11, 22, kernel_size=1),\n",
    "#     torch.nn.Conv1d(22, 44, kernel_size=1),\n",
    "#     torch.nn.Conv1d(44, 11, kernel_size=1),\n",
    "    torch.nn.Flatten(0, 2),\n",
    "    \n",
    "\n",
    "    torch.nn.Linear(11, 1),\n",
    "    torch.nn.Flatten(0, 1)\n",
    ")"
   ]
  },
  {
   "cell_type": "code",
   "execution_count": 247,
   "id": "bf839a04",
   "metadata": {
    "ExecuteTime": {
     "end_time": "2022-03-17T10:40:34.762867Z",
     "start_time": "2022-03-17T10:40:34.705144Z"
    }
   },
   "outputs": [
    {
     "name": "stdout",
     "output_type": "stream",
     "text": [
      "(848835, 11, 1)\n"
     ]
    },
    {
     "data": {
      "text/plain": [
       "torch.Size([848835, 11, 1])"
      ]
     },
     "execution_count": 247,
     "metadata": {},
     "output_type": "execute_result"
    }
   ],
   "source": [
    "XX_train = X_train.reshape((X_train.shape[0], X_train.shape[1], 1))\n",
    "print(XX_train.shape)\n",
    "XX_train = torch.tensor(XX_train).float()\n",
    "XX_train.shape"
   ]
  },
  {
   "cell_type": "code",
   "execution_count": 244,
   "id": "80b2c72a",
   "metadata": {
    "ExecuteTime": {
     "end_time": "2022-03-17T10:38:54.597354Z",
     "start_time": "2022-03-17T10:38:54.590000Z"
    }
   },
   "outputs": [],
   "source": [
    "yy_train = torch.tensor(y_train).float()"
   ]
  },
  {
   "cell_type": "code",
   "execution_count": 231,
   "id": "9026774b",
   "metadata": {
    "ExecuteTime": {
     "end_time": "2022-03-17T10:35:20.345442Z",
     "start_time": "2022-03-17T10:35:20.339715Z"
    }
   },
   "outputs": [
    {
     "data": {
      "text/plain": [
       "torch.Size([2000, 3])"
      ]
     },
     "execution_count": 231,
     "metadata": {},
     "output_type": "execute_result"
    }
   ],
   "source": [
    "# import math\n",
    "# # Create Tensors to hold input and outputs.\n",
    "# x = torch.linspace(-math.pi, math.pi, 2000)\n",
    "# y = torch.sin(x)\n",
    "\n",
    "# # For this example, the output y is a linear function of (x, x^2, x^3), so\n",
    "# # we can consider it as a linear layer neural network. Let's prepare the\n",
    "# # tensor (x, x^2, x^3).\n",
    "# p = torch.tensor([1, 2, 3])\n",
    "# xx = x.unsqueeze(-1).pow(p)\n",
    "\n",
    "xx.shape"
   ]
  },
  {
   "cell_type": "code",
   "execution_count": 206,
   "id": "103b0801",
   "metadata": {
    "ExecuteTime": {
     "end_time": "2022-03-17T10:29:40.225066Z",
     "start_time": "2022-03-17T10:29:40.217031Z"
    }
   },
   "outputs": [
    {
     "data": {
      "text/plain": [
       "tensor(4.)"
      ]
     },
     "execution_count": 206,
     "metadata": {},
     "output_type": "execute_result"
    }
   ],
   "source": [
    "loss_fn(torch.tensor([1,2]).float(), torch.tensor([3, 4]).float())"
   ]
  },
  {
   "cell_type": "code",
   "execution_count": 248,
   "id": "1f6d228f",
   "metadata": {
    "ExecuteTime": {
     "end_time": "2022-03-17T10:40:36.088453Z",
     "start_time": "2022-03-17T10:40:35.885813Z"
    }
   },
   "outputs": [
    {
     "ename": "RuntimeError",
     "evalue": "size mismatch, m1: [1 x 18674370], m2: [11 x 1] at /pytorch/aten/src/TH/generic/THTensorMath.cpp:41",
     "output_type": "error",
     "traceback": [
      "\u001b[0;31m---------------------------------------------------------------------------\u001b[0m",
      "\u001b[0;31mRuntimeError\u001b[0m                              Traceback (most recent call last)",
      "\u001b[0;32m<ipython-input-248-939ff2e68871>\u001b[0m in \u001b[0;36m<module>\u001b[0;34m\u001b[0m\n\u001b[1;32m     12\u001b[0m     \u001b[0;31m# doing so you pass a Tensor of input data to the Module and it produces\u001b[0m\u001b[0;34m\u001b[0m\u001b[0;34m\u001b[0m\u001b[0;34m\u001b[0m\u001b[0m\n\u001b[1;32m     13\u001b[0m     \u001b[0;31m# a Tensor of output data.\u001b[0m\u001b[0;34m\u001b[0m\u001b[0;34m\u001b[0m\u001b[0;34m\u001b[0m\u001b[0m\n\u001b[0;32m---> 14\u001b[0;31m     \u001b[0myy_pred\u001b[0m \u001b[0;34m=\u001b[0m \u001b[0mmodel\u001b[0m\u001b[0;34m(\u001b[0m\u001b[0mXX_train\u001b[0m\u001b[0;34m)\u001b[0m\u001b[0;34m\u001b[0m\u001b[0;34m\u001b[0m\u001b[0m\n\u001b[0m\u001b[1;32m     15\u001b[0m \u001b[0;31m#     print(\"yy_pred:\", yy_pred)\u001b[0m\u001b[0;34m\u001b[0m\u001b[0;34m\u001b[0m\u001b[0;34m\u001b[0m\u001b[0m\n\u001b[1;32m     16\u001b[0m \u001b[0;34m\u001b[0m\u001b[0m\n",
      "\u001b[0;32m~/.local/lib/python3.8/site-packages/torch/nn/modules/module.py\u001b[0m in \u001b[0;36m__call__\u001b[0;34m(self, *input, **kwargs)\u001b[0m\n\u001b[1;32m    548\u001b[0m             \u001b[0mresult\u001b[0m \u001b[0;34m=\u001b[0m \u001b[0mself\u001b[0m\u001b[0;34m.\u001b[0m\u001b[0m_slow_forward\u001b[0m\u001b[0;34m(\u001b[0m\u001b[0;34m*\u001b[0m\u001b[0minput\u001b[0m\u001b[0;34m,\u001b[0m \u001b[0;34m**\u001b[0m\u001b[0mkwargs\u001b[0m\u001b[0;34m)\u001b[0m\u001b[0;34m\u001b[0m\u001b[0;34m\u001b[0m\u001b[0m\n\u001b[1;32m    549\u001b[0m         \u001b[0;32melse\u001b[0m\u001b[0;34m:\u001b[0m\u001b[0;34m\u001b[0m\u001b[0;34m\u001b[0m\u001b[0m\n\u001b[0;32m--> 550\u001b[0;31m             \u001b[0mresult\u001b[0m \u001b[0;34m=\u001b[0m \u001b[0mself\u001b[0m\u001b[0;34m.\u001b[0m\u001b[0mforward\u001b[0m\u001b[0;34m(\u001b[0m\u001b[0;34m*\u001b[0m\u001b[0minput\u001b[0m\u001b[0;34m,\u001b[0m \u001b[0;34m**\u001b[0m\u001b[0mkwargs\u001b[0m\u001b[0;34m)\u001b[0m\u001b[0;34m\u001b[0m\u001b[0;34m\u001b[0m\u001b[0m\n\u001b[0m\u001b[1;32m    551\u001b[0m         \u001b[0;32mfor\u001b[0m \u001b[0mhook\u001b[0m \u001b[0;32min\u001b[0m \u001b[0mself\u001b[0m\u001b[0;34m.\u001b[0m\u001b[0m_forward_hooks\u001b[0m\u001b[0;34m.\u001b[0m\u001b[0mvalues\u001b[0m\u001b[0;34m(\u001b[0m\u001b[0;34m)\u001b[0m\u001b[0;34m:\u001b[0m\u001b[0;34m\u001b[0m\u001b[0;34m\u001b[0m\u001b[0m\n\u001b[1;32m    552\u001b[0m             \u001b[0mhook_result\u001b[0m \u001b[0;34m=\u001b[0m \u001b[0mhook\u001b[0m\u001b[0;34m(\u001b[0m\u001b[0mself\u001b[0m\u001b[0;34m,\u001b[0m \u001b[0minput\u001b[0m\u001b[0;34m,\u001b[0m \u001b[0mresult\u001b[0m\u001b[0;34m)\u001b[0m\u001b[0;34m\u001b[0m\u001b[0;34m\u001b[0m\u001b[0m\n",
      "\u001b[0;32m~/.local/lib/python3.8/site-packages/torch/nn/modules/container.py\u001b[0m in \u001b[0;36mforward\u001b[0;34m(self, input)\u001b[0m\n\u001b[1;32m     98\u001b[0m     \u001b[0;32mdef\u001b[0m \u001b[0mforward\u001b[0m\u001b[0;34m(\u001b[0m\u001b[0mself\u001b[0m\u001b[0;34m,\u001b[0m \u001b[0minput\u001b[0m\u001b[0;34m)\u001b[0m\u001b[0;34m:\u001b[0m\u001b[0;34m\u001b[0m\u001b[0;34m\u001b[0m\u001b[0m\n\u001b[1;32m     99\u001b[0m         \u001b[0;32mfor\u001b[0m \u001b[0mmodule\u001b[0m \u001b[0;32min\u001b[0m \u001b[0mself\u001b[0m\u001b[0;34m:\u001b[0m\u001b[0;34m\u001b[0m\u001b[0;34m\u001b[0m\u001b[0m\n\u001b[0;32m--> 100\u001b[0;31m             \u001b[0minput\u001b[0m \u001b[0;34m=\u001b[0m \u001b[0mmodule\u001b[0m\u001b[0;34m(\u001b[0m\u001b[0minput\u001b[0m\u001b[0;34m)\u001b[0m\u001b[0;34m\u001b[0m\u001b[0;34m\u001b[0m\u001b[0m\n\u001b[0m\u001b[1;32m    101\u001b[0m         \u001b[0;32mreturn\u001b[0m \u001b[0minput\u001b[0m\u001b[0;34m\u001b[0m\u001b[0;34m\u001b[0m\u001b[0m\n\u001b[1;32m    102\u001b[0m \u001b[0;34m\u001b[0m\u001b[0m\n",
      "\u001b[0;32m~/.local/lib/python3.8/site-packages/torch/nn/modules/module.py\u001b[0m in \u001b[0;36m__call__\u001b[0;34m(self, *input, **kwargs)\u001b[0m\n\u001b[1;32m    548\u001b[0m             \u001b[0mresult\u001b[0m \u001b[0;34m=\u001b[0m \u001b[0mself\u001b[0m\u001b[0;34m.\u001b[0m\u001b[0m_slow_forward\u001b[0m\u001b[0;34m(\u001b[0m\u001b[0;34m*\u001b[0m\u001b[0minput\u001b[0m\u001b[0;34m,\u001b[0m \u001b[0;34m**\u001b[0m\u001b[0mkwargs\u001b[0m\u001b[0;34m)\u001b[0m\u001b[0;34m\u001b[0m\u001b[0;34m\u001b[0m\u001b[0m\n\u001b[1;32m    549\u001b[0m         \u001b[0;32melse\u001b[0m\u001b[0;34m:\u001b[0m\u001b[0;34m\u001b[0m\u001b[0;34m\u001b[0m\u001b[0m\n\u001b[0;32m--> 550\u001b[0;31m             \u001b[0mresult\u001b[0m \u001b[0;34m=\u001b[0m \u001b[0mself\u001b[0m\u001b[0;34m.\u001b[0m\u001b[0mforward\u001b[0m\u001b[0;34m(\u001b[0m\u001b[0;34m*\u001b[0m\u001b[0minput\u001b[0m\u001b[0;34m,\u001b[0m \u001b[0;34m**\u001b[0m\u001b[0mkwargs\u001b[0m\u001b[0;34m)\u001b[0m\u001b[0;34m\u001b[0m\u001b[0;34m\u001b[0m\u001b[0m\n\u001b[0m\u001b[1;32m    551\u001b[0m         \u001b[0;32mfor\u001b[0m \u001b[0mhook\u001b[0m \u001b[0;32min\u001b[0m \u001b[0mself\u001b[0m\u001b[0;34m.\u001b[0m\u001b[0m_forward_hooks\u001b[0m\u001b[0;34m.\u001b[0m\u001b[0mvalues\u001b[0m\u001b[0;34m(\u001b[0m\u001b[0;34m)\u001b[0m\u001b[0;34m:\u001b[0m\u001b[0;34m\u001b[0m\u001b[0;34m\u001b[0m\u001b[0m\n\u001b[1;32m    552\u001b[0m             \u001b[0mhook_result\u001b[0m \u001b[0;34m=\u001b[0m \u001b[0mhook\u001b[0m\u001b[0;34m(\u001b[0m\u001b[0mself\u001b[0m\u001b[0;34m,\u001b[0m \u001b[0minput\u001b[0m\u001b[0;34m,\u001b[0m \u001b[0mresult\u001b[0m\u001b[0;34m)\u001b[0m\u001b[0;34m\u001b[0m\u001b[0;34m\u001b[0m\u001b[0m\n",
      "\u001b[0;32m~/.local/lib/python3.8/site-packages/torch/nn/modules/linear.py\u001b[0m in \u001b[0;36mforward\u001b[0;34m(self, input)\u001b[0m\n\u001b[1;32m     85\u001b[0m \u001b[0;34m\u001b[0m\u001b[0m\n\u001b[1;32m     86\u001b[0m     \u001b[0;32mdef\u001b[0m \u001b[0mforward\u001b[0m\u001b[0;34m(\u001b[0m\u001b[0mself\u001b[0m\u001b[0;34m,\u001b[0m \u001b[0minput\u001b[0m\u001b[0;34m)\u001b[0m\u001b[0;34m:\u001b[0m\u001b[0;34m\u001b[0m\u001b[0;34m\u001b[0m\u001b[0m\n\u001b[0;32m---> 87\u001b[0;31m         \u001b[0;32mreturn\u001b[0m \u001b[0mF\u001b[0m\u001b[0;34m.\u001b[0m\u001b[0mlinear\u001b[0m\u001b[0;34m(\u001b[0m\u001b[0minput\u001b[0m\u001b[0;34m,\u001b[0m \u001b[0mself\u001b[0m\u001b[0;34m.\u001b[0m\u001b[0mweight\u001b[0m\u001b[0;34m,\u001b[0m \u001b[0mself\u001b[0m\u001b[0;34m.\u001b[0m\u001b[0mbias\u001b[0m\u001b[0;34m)\u001b[0m\u001b[0;34m\u001b[0m\u001b[0;34m\u001b[0m\u001b[0m\n\u001b[0m\u001b[1;32m     88\u001b[0m \u001b[0;34m\u001b[0m\u001b[0m\n\u001b[1;32m     89\u001b[0m     \u001b[0;32mdef\u001b[0m \u001b[0mextra_repr\u001b[0m\u001b[0;34m(\u001b[0m\u001b[0mself\u001b[0m\u001b[0;34m)\u001b[0m\u001b[0;34m:\u001b[0m\u001b[0;34m\u001b[0m\u001b[0;34m\u001b[0m\u001b[0m\n",
      "\u001b[0;32m~/.local/lib/python3.8/site-packages/torch/nn/functional.py\u001b[0m in \u001b[0;36mlinear\u001b[0;34m(input, weight, bias)\u001b[0m\n\u001b[1;32m   1610\u001b[0m         \u001b[0mret\u001b[0m \u001b[0;34m=\u001b[0m \u001b[0mtorch\u001b[0m\u001b[0;34m.\u001b[0m\u001b[0maddmm\u001b[0m\u001b[0;34m(\u001b[0m\u001b[0mbias\u001b[0m\u001b[0;34m,\u001b[0m \u001b[0minput\u001b[0m\u001b[0;34m,\u001b[0m \u001b[0mweight\u001b[0m\u001b[0;34m.\u001b[0m\u001b[0mt\u001b[0m\u001b[0;34m(\u001b[0m\u001b[0;34m)\u001b[0m\u001b[0;34m)\u001b[0m\u001b[0;34m\u001b[0m\u001b[0;34m\u001b[0m\u001b[0m\n\u001b[1;32m   1611\u001b[0m     \u001b[0;32melse\u001b[0m\u001b[0;34m:\u001b[0m\u001b[0;34m\u001b[0m\u001b[0;34m\u001b[0m\u001b[0m\n\u001b[0;32m-> 1612\u001b[0;31m         \u001b[0moutput\u001b[0m \u001b[0;34m=\u001b[0m \u001b[0minput\u001b[0m\u001b[0;34m.\u001b[0m\u001b[0mmatmul\u001b[0m\u001b[0;34m(\u001b[0m\u001b[0mweight\u001b[0m\u001b[0;34m.\u001b[0m\u001b[0mt\u001b[0m\u001b[0;34m(\u001b[0m\u001b[0;34m)\u001b[0m\u001b[0;34m)\u001b[0m\u001b[0;34m\u001b[0m\u001b[0;34m\u001b[0m\u001b[0m\n\u001b[0m\u001b[1;32m   1613\u001b[0m         \u001b[0;32mif\u001b[0m \u001b[0mbias\u001b[0m \u001b[0;32mis\u001b[0m \u001b[0;32mnot\u001b[0m \u001b[0;32mNone\u001b[0m\u001b[0;34m:\u001b[0m\u001b[0;34m\u001b[0m\u001b[0;34m\u001b[0m\u001b[0m\n\u001b[1;32m   1614\u001b[0m             \u001b[0moutput\u001b[0m \u001b[0;34m+=\u001b[0m \u001b[0mbias\u001b[0m\u001b[0;34m\u001b[0m\u001b[0;34m\u001b[0m\u001b[0m\n",
      "\u001b[0;31mRuntimeError\u001b[0m: size mismatch, m1: [1 x 18674370], m2: [11 x 1] at /pytorch/aten/src/TH/generic/THTensorMath.cpp:41"
     ]
    }
   ],
   "source": [
    "# loss_fn = torch.nn.MSELoss(reduction='sum')\n",
    "loss_fn = torch.nn.MSELoss()\n",
    "\n",
    "learning_rate = 1e-6\n",
    "\n",
    "\n",
    "for t in range(2000):\n",
    "# for t in range(200):\n",
    "\n",
    "    # Forward pass: compute predicted y by passing x to the model. Module objects\n",
    "    # override the __call__ operator so you can call them like functions. When\n",
    "    # doing so you pass a Tensor of input data to the Module and it produces\n",
    "    # a Tensor of output data.\n",
    "    yy_pred = model(XX_train)\n",
    "#     print(\"yy_pred:\", yy_pred)\n",
    "\n",
    "    # Compute and print loss. We pass Tensors containing the predicted and true\n",
    "    # values of y, and the loss function returns a Tensor containing the\n",
    "    # loss.\n",
    "    loss = loss_fn(yy_pred, yy_train)\n",
    "    if t % 100 == 99:\n",
    "        print(t, loss.item())\n",
    "\n",
    "    # Zero the gradients before running the backward pass.\n",
    "    model.zero_grad()\n",
    "\n",
    "    # Backward pass: compute gradient of the loss with respect to all the learnable\n",
    "    # parameters of the model. Internally, the parameters of each Module are stored\n",
    "    # in Tensors with requires_grad=True, so this call will compute gradients for\n",
    "    # all learnable parameters in the model.\n",
    "    loss.backward()\n",
    "\n",
    "    # Update the weights using gradient descent. Each parameter is a Tensor, so\n",
    "    # we can access its gradients like we did before.\n",
    "    with torch.no_grad():\n",
    "        for param in model.parameters():\n",
    "            param -= learning_rate * param.grad\n"
   ]
  },
  {
   "cell_type": "code",
   "execution_count": 218,
   "id": "ac266aae",
   "metadata": {
    "ExecuteTime": {
     "end_time": "2022-03-17T10:31:36.097001Z",
     "start_time": "2022-03-17T10:31:36.089281Z"
    }
   },
   "outputs": [
    {
     "data": {
      "text/plain": [
       "tensor([-0.4796, -0.1429, -0.4488,  ..., -0.3394, -0.1310, -0.0231],\n",
       "       grad_fn=<ViewBackward>)"
      ]
     },
     "execution_count": 218,
     "metadata": {},
     "output_type": "execute_result"
    }
   ],
   "source": [
    "yy_pred"
   ]
  },
  {
   "cell_type": "code",
   "execution_count": 213,
   "id": "e0089937",
   "metadata": {
    "ExecuteTime": {
     "end_time": "2022-03-17T10:30:46.826797Z",
     "start_time": "2022-03-17T10:30:46.807468Z"
    }
   },
   "outputs": [
    {
     "ename": "ValueError",
     "evalue": "only one element tensors can be converted to Python scalars",
     "output_type": "error",
     "traceback": [
      "\u001b[0;31m---------------------------------------------------------------------------\u001b[0m",
      "\u001b[0;31mValueError\u001b[0m                                Traceback (most recent call last)",
      "\u001b[0;32m<ipython-input-213-e0e813bdad5b>\u001b[0m in \u001b[0;36m<module>\u001b[0;34m\u001b[0m\n\u001b[1;32m      2\u001b[0m \u001b[0;34m\u001b[0m\u001b[0m\n\u001b[1;32m      3\u001b[0m \u001b[0;31m# For linear layer, its parameters are stored as `weight` and `bias`.\u001b[0m\u001b[0;34m\u001b[0m\u001b[0;34m\u001b[0m\u001b[0;34m\u001b[0m\u001b[0m\n\u001b[0;32m----> 4\u001b[0;31m \u001b[0mprint\u001b[0m\u001b[0;34m(\u001b[0m\u001b[0;34mf'Result: y = {linear_layer.bias.item()} + {linear_layer.weight[:, 0].item()} x + {linear_layer.weight[:, 1].item()} x^2 + {linear_layer.weight[:, 2].item()} x^3'\u001b[0m\u001b[0;34m)\u001b[0m\u001b[0;34m\u001b[0m\u001b[0;34m\u001b[0m\u001b[0m\n\u001b[0m",
      "\u001b[0;31mValueError\u001b[0m: only one element tensors can be converted to Python scalars"
     ]
    }
   ],
   "source": [
    "linear_layer = model[0]\n",
    "\n",
    "# For linear layer, its parameters are stored as `weight` and `bias`.\n",
    "print(f'Result: y = {linear_layer.bias.item()} + {linear_layer.weight[:, 0].item()} x + {linear_layer.weight[:, 1].item()} x^2 + {linear_layer.weight[:, 2].item()} x^3')"
   ]
  },
  {
   "cell_type": "markdown",
   "id": "fbb9ce5f",
   "metadata": {},
   "source": [
    "### Lasso"
   ]
  },
  {
   "cell_type": "code",
   "execution_count": 108,
   "id": "b7094cbe",
   "metadata": {
    "ExecuteTime": {
     "end_time": "2022-03-16T18:58:02.668745Z",
     "start_time": "2022-03-16T18:58:02.651170Z"
    }
   },
   "outputs": [],
   "source": [
    "df_submit1 = df_submission_example\n",
    "df_submission_example['congestion'] = y_pred_test_lasso\n",
    "df_submit1.to_csv('submission2_lasso.csv', index=False)"
   ]
  },
  {
   "cell_type": "markdown",
   "id": "285d9e3e",
   "metadata": {},
   "source": [
    "### Ridge"
   ]
  },
  {
   "cell_type": "code",
   "execution_count": 110,
   "id": "81a29d7e",
   "metadata": {
    "ExecuteTime": {
     "end_time": "2022-03-16T18:58:19.841672Z",
     "start_time": "2022-03-16T18:58:19.822849Z"
    }
   },
   "outputs": [],
   "source": [
    "df_submit1 = df_submission_example\n",
    "df_submission_example['congestion'] = y_pred_test_ridge\n",
    "df_submit1.to_csv('submission2_ridge.csv', index=False)"
   ]
  },
  {
   "cell_type": "markdown",
   "id": "121a6d68",
   "metadata": {},
   "source": [
    "### ElasticNet"
   ]
  },
  {
   "cell_type": "code",
   "execution_count": 111,
   "id": "d930d417",
   "metadata": {
    "ExecuteTime": {
     "end_time": "2022-03-16T18:58:35.070870Z",
     "start_time": "2022-03-16T18:58:35.052260Z"
    }
   },
   "outputs": [],
   "source": [
    "df_submit1 = df_submission_example\n",
    "df_submission_example['congestion'] = y_pred_test_elasticnet\n",
    "df_submit1.to_csv('submission2_elasticnet.csv', index=False)"
   ]
  },
  {
   "cell_type": "markdown",
   "id": "25121fa8",
   "metadata": {},
   "source": [
    "### LARS"
   ]
  },
  {
   "cell_type": "code",
   "execution_count": 112,
   "id": "e7463f52",
   "metadata": {
    "ExecuteTime": {
     "end_time": "2022-03-16T18:58:51.211253Z",
     "start_time": "2022-03-16T18:58:51.195463Z"
    }
   },
   "outputs": [],
   "source": [
    "df_submit1 = df_submission_example\n",
    "df_submission_example['congestion'] = y_pred_test_lars\n",
    "df_submit1.to_csv('submission2_lars.csv', index=False)"
   ]
  },
  {
   "cell_type": "markdown",
   "id": "39740b52",
   "metadata": {},
   "source": [
    "### CNN1 with tensorflow"
   ]
  },
  {
   "cell_type": "code",
   "execution_count": null,
   "id": "8bceb0e7",
   "metadata": {
    "ExecuteTime": {
     "start_time": "2022-03-17T10:59:01.294Z"
    }
   },
   "outputs": [],
   "source": [
    "df_submit1 = df_submission_example\n",
    "df_submission_example['congestion'] = y_pred_CNN1\n",
    "df_submit1.to_csv('submission3_CNN2_MAE.csv', index=False)"
   ]
  },
  {
   "cell_type": "code",
   "execution_count": null,
   "id": "d84fdec0",
   "metadata": {},
   "outputs": [],
   "source": []
  }
 ],
 "metadata": {
  "kernelspec": {
   "display_name": "Python 3",
   "language": "python",
   "name": "python3"
  },
  "language_info": {
   "codemirror_mode": {
    "name": "ipython",
    "version": 3
   },
   "file_extension": ".py",
   "mimetype": "text/x-python",
   "name": "python",
   "nbconvert_exporter": "python",
   "pygments_lexer": "ipython3",
   "version": "3.8.8"
  },
  "toc": {
   "base_numbering": 1,
   "nav_menu": {},
   "number_sections": true,
   "sideBar": true,
   "skip_h1_title": false,
   "title_cell": "Table of Contents",
   "title_sidebar": "Contents",
   "toc_cell": false,
   "toc_position": {},
   "toc_section_display": true,
   "toc_window_display": true
  }
 },
 "nbformat": 4,
 "nbformat_minor": 5
}
