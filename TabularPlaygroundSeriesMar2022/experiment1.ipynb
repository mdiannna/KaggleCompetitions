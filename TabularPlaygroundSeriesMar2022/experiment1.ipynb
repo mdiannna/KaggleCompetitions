{
 "cells": [
  {
   "cell_type": "code",
   "execution_count": 12,
   "id": "8db986d8",
   "metadata": {
    "ExecuteTime": {
     "end_time": "2022-03-16T18:40:29.517160Z",
     "start_time": "2022-03-16T18:40:29.512876Z"
    }
   },
   "outputs": [],
   "source": [
    "import pandas as pd\n",
    "import numpy as np\n",
    "import matplotlib.pyplot as plt"
   ]
  },
  {
   "cell_type": "markdown",
   "id": "a763cdf6",
   "metadata": {},
   "source": [
    "## Loading Data"
   ]
  },
  {
   "cell_type": "code",
   "execution_count": 13,
   "id": "71b98045",
   "metadata": {
    "ExecuteTime": {
     "end_time": "2022-03-16T18:40:29.888838Z",
     "start_time": "2022-03-16T18:40:29.520631Z"
    }
   },
   "outputs": [
    {
     "data": {
      "text/html": [
       "<div>\n",
       "<style scoped>\n",
       "    .dataframe tbody tr th:only-of-type {\n",
       "        vertical-align: middle;\n",
       "    }\n",
       "\n",
       "    .dataframe tbody tr th {\n",
       "        vertical-align: top;\n",
       "    }\n",
       "\n",
       "    .dataframe thead th {\n",
       "        text-align: right;\n",
       "    }\n",
       "</style>\n",
       "<table border=\"1\" class=\"dataframe\">\n",
       "  <thead>\n",
       "    <tr style=\"text-align: right;\">\n",
       "      <th></th>\n",
       "      <th>row_id</th>\n",
       "      <th>time</th>\n",
       "      <th>x</th>\n",
       "      <th>y</th>\n",
       "      <th>direction</th>\n",
       "      <th>congestion</th>\n",
       "    </tr>\n",
       "  </thead>\n",
       "  <tbody>\n",
       "    <tr>\n",
       "      <th>0</th>\n",
       "      <td>0</td>\n",
       "      <td>1991-04-01 00:00:00</td>\n",
       "      <td>0</td>\n",
       "      <td>0</td>\n",
       "      <td>EB</td>\n",
       "      <td>70</td>\n",
       "    </tr>\n",
       "    <tr>\n",
       "      <th>1</th>\n",
       "      <td>1</td>\n",
       "      <td>1991-04-01 00:00:00</td>\n",
       "      <td>0</td>\n",
       "      <td>0</td>\n",
       "      <td>NB</td>\n",
       "      <td>49</td>\n",
       "    </tr>\n",
       "    <tr>\n",
       "      <th>2</th>\n",
       "      <td>2</td>\n",
       "      <td>1991-04-01 00:00:00</td>\n",
       "      <td>0</td>\n",
       "      <td>0</td>\n",
       "      <td>SB</td>\n",
       "      <td>24</td>\n",
       "    </tr>\n",
       "    <tr>\n",
       "      <th>3</th>\n",
       "      <td>3</td>\n",
       "      <td>1991-04-01 00:00:00</td>\n",
       "      <td>0</td>\n",
       "      <td>1</td>\n",
       "      <td>EB</td>\n",
       "      <td>18</td>\n",
       "    </tr>\n",
       "    <tr>\n",
       "      <th>4</th>\n",
       "      <td>4</td>\n",
       "      <td>1991-04-01 00:00:00</td>\n",
       "      <td>0</td>\n",
       "      <td>1</td>\n",
       "      <td>NB</td>\n",
       "      <td>60</td>\n",
       "    </tr>\n",
       "  </tbody>\n",
       "</table>\n",
       "</div>"
      ],
      "text/plain": [
       "   row_id                 time  x  y direction  congestion\n",
       "0       0  1991-04-01 00:00:00  0  0        EB          70\n",
       "1       1  1991-04-01 00:00:00  0  0        NB          49\n",
       "2       2  1991-04-01 00:00:00  0  0        SB          24\n",
       "3       3  1991-04-01 00:00:00  0  1        EB          18\n",
       "4       4  1991-04-01 00:00:00  0  1        NB          60"
      ]
     },
     "execution_count": 13,
     "metadata": {},
     "output_type": "execute_result"
    }
   ],
   "source": [
    "df_train = pd.read_csv('dataset/train.csv')\n",
    "df_train.head()"
   ]
  },
  {
   "cell_type": "code",
   "execution_count": 14,
   "id": "091cefea",
   "metadata": {
    "ExecuteTime": {
     "end_time": "2022-03-16T18:40:29.916600Z",
     "start_time": "2022-03-16T18:40:29.892136Z"
    }
   },
   "outputs": [
    {
     "data": {
      "text/html": [
       "<div>\n",
       "<style scoped>\n",
       "    .dataframe tbody tr th:only-of-type {\n",
       "        vertical-align: middle;\n",
       "    }\n",
       "\n",
       "    .dataframe tbody tr th {\n",
       "        vertical-align: top;\n",
       "    }\n",
       "\n",
       "    .dataframe thead th {\n",
       "        text-align: right;\n",
       "    }\n",
       "</style>\n",
       "<table border=\"1\" class=\"dataframe\">\n",
       "  <thead>\n",
       "    <tr style=\"text-align: right;\">\n",
       "      <th></th>\n",
       "      <th>row_id</th>\n",
       "      <th>time</th>\n",
       "      <th>x</th>\n",
       "      <th>y</th>\n",
       "      <th>direction</th>\n",
       "      <th>congestion</th>\n",
       "    </tr>\n",
       "  </thead>\n",
       "  <tbody>\n",
       "    <tr>\n",
       "      <th>0</th>\n",
       "      <td>0</td>\n",
       "      <td>1991-04-01 00:00:00</td>\n",
       "      <td>0</td>\n",
       "      <td>0</td>\n",
       "      <td>EB</td>\n",
       "      <td>70</td>\n",
       "    </tr>\n",
       "    <tr>\n",
       "      <th>1</th>\n",
       "      <td>1</td>\n",
       "      <td>1991-04-01 00:00:00</td>\n",
       "      <td>0</td>\n",
       "      <td>0</td>\n",
       "      <td>NB</td>\n",
       "      <td>49</td>\n",
       "    </tr>\n",
       "    <tr>\n",
       "      <th>2</th>\n",
       "      <td>2</td>\n",
       "      <td>1991-04-01 00:00:00</td>\n",
       "      <td>0</td>\n",
       "      <td>0</td>\n",
       "      <td>SB</td>\n",
       "      <td>24</td>\n",
       "    </tr>\n",
       "    <tr>\n",
       "      <th>3</th>\n",
       "      <td>3</td>\n",
       "      <td>1991-04-01 00:00:00</td>\n",
       "      <td>0</td>\n",
       "      <td>1</td>\n",
       "      <td>EB</td>\n",
       "      <td>18</td>\n",
       "    </tr>\n",
       "    <tr>\n",
       "      <th>4</th>\n",
       "      <td>4</td>\n",
       "      <td>1991-04-01 00:00:00</td>\n",
       "      <td>0</td>\n",
       "      <td>1</td>\n",
       "      <td>NB</td>\n",
       "      <td>60</td>\n",
       "    </tr>\n",
       "    <tr>\n",
       "      <th>...</th>\n",
       "      <td>...</td>\n",
       "      <td>...</td>\n",
       "      <td>...</td>\n",
       "      <td>...</td>\n",
       "      <td>...</td>\n",
       "      <td>...</td>\n",
       "    </tr>\n",
       "    <tr>\n",
       "      <th>848830</th>\n",
       "      <td>848830</td>\n",
       "      <td>1991-09-30 11:40:00</td>\n",
       "      <td>2</td>\n",
       "      <td>3</td>\n",
       "      <td>NB</td>\n",
       "      <td>54</td>\n",
       "    </tr>\n",
       "    <tr>\n",
       "      <th>848831</th>\n",
       "      <td>848831</td>\n",
       "      <td>1991-09-30 11:40:00</td>\n",
       "      <td>2</td>\n",
       "      <td>3</td>\n",
       "      <td>NE</td>\n",
       "      <td>28</td>\n",
       "    </tr>\n",
       "    <tr>\n",
       "      <th>848832</th>\n",
       "      <td>848832</td>\n",
       "      <td>1991-09-30 11:40:00</td>\n",
       "      <td>2</td>\n",
       "      <td>3</td>\n",
       "      <td>SB</td>\n",
       "      <td>68</td>\n",
       "    </tr>\n",
       "    <tr>\n",
       "      <th>848833</th>\n",
       "      <td>848833</td>\n",
       "      <td>1991-09-30 11:40:00</td>\n",
       "      <td>2</td>\n",
       "      <td>3</td>\n",
       "      <td>SW</td>\n",
       "      <td>17</td>\n",
       "    </tr>\n",
       "    <tr>\n",
       "      <th>848834</th>\n",
       "      <td>848834</td>\n",
       "      <td>1991-09-30 11:40:00</td>\n",
       "      <td>2</td>\n",
       "      <td>3</td>\n",
       "      <td>WB</td>\n",
       "      <td>24</td>\n",
       "    </tr>\n",
       "  </tbody>\n",
       "</table>\n",
       "<p>848835 rows × 6 columns</p>\n",
       "</div>"
      ],
      "text/plain": [
       "        row_id                 time  x  y direction  congestion\n",
       "0            0  1991-04-01 00:00:00  0  0        EB          70\n",
       "1            1  1991-04-01 00:00:00  0  0        NB          49\n",
       "2            2  1991-04-01 00:00:00  0  0        SB          24\n",
       "3            3  1991-04-01 00:00:00  0  1        EB          18\n",
       "4            4  1991-04-01 00:00:00  0  1        NB          60\n",
       "...        ...                  ... .. ..       ...         ...\n",
       "848830  848830  1991-09-30 11:40:00  2  3        NB          54\n",
       "848831  848831  1991-09-30 11:40:00  2  3        NE          28\n",
       "848832  848832  1991-09-30 11:40:00  2  3        SB          68\n",
       "848833  848833  1991-09-30 11:40:00  2  3        SW          17\n",
       "848834  848834  1991-09-30 11:40:00  2  3        WB          24\n",
       "\n",
       "[848835 rows x 6 columns]"
      ]
     },
     "execution_count": 14,
     "metadata": {},
     "output_type": "execute_result"
    }
   ],
   "source": [
    "df_train"
   ]
  },
  {
   "cell_type": "code",
   "execution_count": 15,
   "id": "a4d48b2a",
   "metadata": {
    "ExecuteTime": {
     "end_time": "2022-03-16T18:40:29.937128Z",
     "start_time": "2022-03-16T18:40:29.920154Z"
    }
   },
   "outputs": [
    {
     "data": {
      "text/html": [
       "<div>\n",
       "<style scoped>\n",
       "    .dataframe tbody tr th:only-of-type {\n",
       "        vertical-align: middle;\n",
       "    }\n",
       "\n",
       "    .dataframe tbody tr th {\n",
       "        vertical-align: top;\n",
       "    }\n",
       "\n",
       "    .dataframe thead th {\n",
       "        text-align: right;\n",
       "    }\n",
       "</style>\n",
       "<table border=\"1\" class=\"dataframe\">\n",
       "  <thead>\n",
       "    <tr style=\"text-align: right;\">\n",
       "      <th></th>\n",
       "      <th>row_id</th>\n",
       "      <th>time</th>\n",
       "      <th>x</th>\n",
       "      <th>y</th>\n",
       "      <th>direction</th>\n",
       "    </tr>\n",
       "  </thead>\n",
       "  <tbody>\n",
       "    <tr>\n",
       "      <th>0</th>\n",
       "      <td>848835</td>\n",
       "      <td>1991-09-30 12:00:00</td>\n",
       "      <td>0</td>\n",
       "      <td>0</td>\n",
       "      <td>EB</td>\n",
       "    </tr>\n",
       "    <tr>\n",
       "      <th>1</th>\n",
       "      <td>848836</td>\n",
       "      <td>1991-09-30 12:00:00</td>\n",
       "      <td>0</td>\n",
       "      <td>0</td>\n",
       "      <td>NB</td>\n",
       "    </tr>\n",
       "    <tr>\n",
       "      <th>2</th>\n",
       "      <td>848837</td>\n",
       "      <td>1991-09-30 12:00:00</td>\n",
       "      <td>0</td>\n",
       "      <td>0</td>\n",
       "      <td>SB</td>\n",
       "    </tr>\n",
       "    <tr>\n",
       "      <th>3</th>\n",
       "      <td>848838</td>\n",
       "      <td>1991-09-30 12:00:00</td>\n",
       "      <td>0</td>\n",
       "      <td>1</td>\n",
       "      <td>EB</td>\n",
       "    </tr>\n",
       "    <tr>\n",
       "      <th>4</th>\n",
       "      <td>848839</td>\n",
       "      <td>1991-09-30 12:00:00</td>\n",
       "      <td>0</td>\n",
       "      <td>1</td>\n",
       "      <td>NB</td>\n",
       "    </tr>\n",
       "  </tbody>\n",
       "</table>\n",
       "</div>"
      ],
      "text/plain": [
       "   row_id                 time  x  y direction\n",
       "0  848835  1991-09-30 12:00:00  0  0        EB\n",
       "1  848836  1991-09-30 12:00:00  0  0        NB\n",
       "2  848837  1991-09-30 12:00:00  0  0        SB\n",
       "3  848838  1991-09-30 12:00:00  0  1        EB\n",
       "4  848839  1991-09-30 12:00:00  0  1        NB"
      ]
     },
     "execution_count": 15,
     "metadata": {},
     "output_type": "execute_result"
    }
   ],
   "source": [
    "df_test = pd.read_csv('dataset/test.csv')\n",
    "df_test.head()"
   ]
  },
  {
   "cell_type": "code",
   "execution_count": 16,
   "id": "335f9d44",
   "metadata": {
    "ExecuteTime": {
     "end_time": "2022-03-16T18:40:29.956391Z",
     "start_time": "2022-03-16T18:40:29.939006Z"
    }
   },
   "outputs": [
    {
     "data": {
      "text/html": [
       "<div>\n",
       "<style scoped>\n",
       "    .dataframe tbody tr th:only-of-type {\n",
       "        vertical-align: middle;\n",
       "    }\n",
       "\n",
       "    .dataframe tbody tr th {\n",
       "        vertical-align: top;\n",
       "    }\n",
       "\n",
       "    .dataframe thead th {\n",
       "        text-align: right;\n",
       "    }\n",
       "</style>\n",
       "<table border=\"1\" class=\"dataframe\">\n",
       "  <thead>\n",
       "    <tr style=\"text-align: right;\">\n",
       "      <th></th>\n",
       "      <th>row_id</th>\n",
       "      <th>congestion</th>\n",
       "    </tr>\n",
       "  </thead>\n",
       "  <tbody>\n",
       "    <tr>\n",
       "      <th>0</th>\n",
       "      <td>848835</td>\n",
       "      <td>0.0</td>\n",
       "    </tr>\n",
       "    <tr>\n",
       "      <th>1</th>\n",
       "      <td>848836</td>\n",
       "      <td>0.0</td>\n",
       "    </tr>\n",
       "    <tr>\n",
       "      <th>2</th>\n",
       "      <td>848837</td>\n",
       "      <td>0.0</td>\n",
       "    </tr>\n",
       "    <tr>\n",
       "      <th>3</th>\n",
       "      <td>848838</td>\n",
       "      <td>0.0</td>\n",
       "    </tr>\n",
       "    <tr>\n",
       "      <th>4</th>\n",
       "      <td>848839</td>\n",
       "      <td>0.0</td>\n",
       "    </tr>\n",
       "  </tbody>\n",
       "</table>\n",
       "</div>"
      ],
      "text/plain": [
       "   row_id  congestion\n",
       "0  848835         0.0\n",
       "1  848836         0.0\n",
       "2  848837         0.0\n",
       "3  848838         0.0\n",
       "4  848839         0.0"
      ]
     },
     "execution_count": 16,
     "metadata": {},
     "output_type": "execute_result"
    }
   ],
   "source": [
    "df_submission_example = pd.read_csv('dataset/sample_submission.csv')\n",
    "df_submission_example.head()"
   ]
  },
  {
   "cell_type": "markdown",
   "id": "036e13ce",
   "metadata": {},
   "source": [
    "## Data exploration"
   ]
  },
  {
   "cell_type": "markdown",
   "id": "74a62672",
   "metadata": {},
   "source": [
    "### Checking missing data:"
   ]
  },
  {
   "cell_type": "code",
   "execution_count": 17,
   "id": "080aedd7",
   "metadata": {
    "ExecuteTime": {
     "end_time": "2022-03-16T18:40:30.047241Z",
     "start_time": "2022-03-16T18:40:29.959639Z"
    }
   },
   "outputs": [
    {
     "data": {
      "text/plain": [
       "row_id        False\n",
       "time          False\n",
       "x             False\n",
       "y             False\n",
       "direction     False\n",
       "congestion    False\n",
       "dtype: bool"
      ]
     },
     "execution_count": 17,
     "metadata": {},
     "output_type": "execute_result"
    }
   ],
   "source": [
    "# checking missing data:\n",
    "df_train.isnull().any()"
   ]
  },
  {
   "cell_type": "code",
   "execution_count": 18,
   "id": "f0789d30",
   "metadata": {
    "ExecuteTime": {
     "end_time": "2022-03-16T18:40:30.055266Z",
     "start_time": "2022-03-16T18:40:30.048888Z"
    }
   },
   "outputs": [
    {
     "data": {
      "text/plain": [
       "row_id       False\n",
       "time         False\n",
       "x            False\n",
       "y            False\n",
       "direction    False\n",
       "dtype: bool"
      ]
     },
     "execution_count": 18,
     "metadata": {},
     "output_type": "execute_result"
    }
   ],
   "source": [
    "df_test.isnull().any()"
   ]
  },
  {
   "cell_type": "code",
   "execution_count": 19,
   "id": "66af226f",
   "metadata": {
    "ExecuteTime": {
     "end_time": "2022-03-16T18:40:30.266610Z",
     "start_time": "2022-03-16T18:40:30.061007Z"
    }
   },
   "outputs": [
    {
     "data": {
      "text/plain": [
       "(array([  3173.,  28562.,  95478., 156096., 176929., 163676., 130937.,\n",
       "         73880.,  17647.,   2457.]),\n",
       " array([  0.,  10.,  20.,  30.,  40.,  50.,  60.,  70.,  80.,  90., 100.]),\n",
       " <a list of 10 Patch objects>)"
      ]
     },
     "execution_count": 19,
     "metadata": {},
     "output_type": "execute_result"
    },
    {
     "data": {
      "image/png": "[encoded data removed]",
      "text/plain": [
       "<Figure size 432x288 with 1 Axes>"
      ]
     },
     "metadata": {
      "needs_background": "light"
     },
     "output_type": "display_data"
    }
   ],
   "source": [
    "plt.hist(df_train['congestion'])"
   ]
  },
  {
   "cell_type": "markdown",
   "id": "922c18d4",
   "metadata": {
    "ExecuteTime": {
     "end_time": "2022-03-14T18:42:30.768609Z",
     "start_time": "2022-03-14T18:42:30.669630Z"
    }
   },
   "source": [
    "it can be observed that the distribution is almost normal"
   ]
  },
  {
   "cell_type": "markdown",
   "id": "a1bd5a81",
   "metadata": {},
   "source": [
    "### Checking data types & converting"
   ]
  },
  {
   "cell_type": "code",
   "execution_count": 20,
   "id": "3dd2f193",
   "metadata": {
    "ExecuteTime": {
     "end_time": "2022-03-16T18:40:30.274418Z",
     "start_time": "2022-03-16T18:40:30.268630Z"
    }
   },
   "outputs": [
    {
     "data": {
      "text/plain": [
       "row_id         int64\n",
       "time          object\n",
       "x              int64\n",
       "y              int64\n",
       "direction     object\n",
       "congestion     int64\n",
       "dtype: object"
      ]
     },
     "execution_count": 20,
     "metadata": {},
     "output_type": "execute_result"
    }
   ],
   "source": [
    "df_train.dtypes"
   ]
  },
  {
   "cell_type": "markdown",
   "id": "7da84298",
   "metadata": {},
   "source": [
    "### Converting data types and encoding columns which are not numeric:"
   ]
  },
  {
   "cell_type": "code",
   "execution_count": 21,
   "id": "ac0d014c",
   "metadata": {
    "ExecuteTime": {
     "end_time": "2022-03-16T18:40:30.372830Z",
     "start_time": "2022-03-16T18:40:30.277231Z"
    }
   },
   "outputs": [
    {
     "data": {
      "text/html": [
       "<div>\n",
       "<style scoped>\n",
       "    .dataframe tbody tr th:only-of-type {\n",
       "        vertical-align: middle;\n",
       "    }\n",
       "\n",
       "    .dataframe tbody tr th {\n",
       "        vertical-align: top;\n",
       "    }\n",
       "\n",
       "    .dataframe thead th {\n",
       "        text-align: right;\n",
       "    }\n",
       "</style>\n",
       "<table border=\"1\" class=\"dataframe\">\n",
       "  <thead>\n",
       "    <tr style=\"text-align: right;\">\n",
       "      <th></th>\n",
       "      <th>row_id</th>\n",
       "      <th>time</th>\n",
       "      <th>x</th>\n",
       "      <th>y</th>\n",
       "      <th>direction</th>\n",
       "      <th>congestion</th>\n",
       "      <th>EB</th>\n",
       "      <th>NB</th>\n",
       "      <th>NE</th>\n",
       "      <th>NW</th>\n",
       "      <th>SB</th>\n",
       "      <th>SE</th>\n",
       "      <th>SW</th>\n",
       "      <th>WB</th>\n",
       "    </tr>\n",
       "  </thead>\n",
       "  <tbody>\n",
       "    <tr>\n",
       "      <th>0</th>\n",
       "      <td>0</td>\n",
       "      <td>1991-04-01 00:00:00</td>\n",
       "      <td>0</td>\n",
       "      <td>0</td>\n",
       "      <td>EB</td>\n",
       "      <td>70</td>\n",
       "      <td>1</td>\n",
       "      <td>0</td>\n",
       "      <td>0</td>\n",
       "      <td>0</td>\n",
       "      <td>0</td>\n",
       "      <td>0</td>\n",
       "      <td>0</td>\n",
       "      <td>0</td>\n",
       "    </tr>\n",
       "    <tr>\n",
       "      <th>1</th>\n",
       "      <td>1</td>\n",
       "      <td>1991-04-01 00:00:00</td>\n",
       "      <td>0</td>\n",
       "      <td>0</td>\n",
       "      <td>NB</td>\n",
       "      <td>49</td>\n",
       "      <td>0</td>\n",
       "      <td>1</td>\n",
       "      <td>0</td>\n",
       "      <td>0</td>\n",
       "      <td>0</td>\n",
       "      <td>0</td>\n",
       "      <td>0</td>\n",
       "      <td>0</td>\n",
       "    </tr>\n",
       "    <tr>\n",
       "      <th>2</th>\n",
       "      <td>2</td>\n",
       "      <td>1991-04-01 00:00:00</td>\n",
       "      <td>0</td>\n",
       "      <td>0</td>\n",
       "      <td>SB</td>\n",
       "      <td>24</td>\n",
       "      <td>0</td>\n",
       "      <td>0</td>\n",
       "      <td>0</td>\n",
       "      <td>0</td>\n",
       "      <td>1</td>\n",
       "      <td>0</td>\n",
       "      <td>0</td>\n",
       "      <td>0</td>\n",
       "    </tr>\n",
       "    <tr>\n",
       "      <th>3</th>\n",
       "      <td>3</td>\n",
       "      <td>1991-04-01 00:00:00</td>\n",
       "      <td>0</td>\n",
       "      <td>1</td>\n",
       "      <td>EB</td>\n",
       "      <td>18</td>\n",
       "      <td>1</td>\n",
       "      <td>0</td>\n",
       "      <td>0</td>\n",
       "      <td>0</td>\n",
       "      <td>0</td>\n",
       "      <td>0</td>\n",
       "      <td>0</td>\n",
       "      <td>0</td>\n",
       "    </tr>\n",
       "    <tr>\n",
       "      <th>4</th>\n",
       "      <td>4</td>\n",
       "      <td>1991-04-01 00:00:00</td>\n",
       "      <td>0</td>\n",
       "      <td>1</td>\n",
       "      <td>NB</td>\n",
       "      <td>60</td>\n",
       "      <td>0</td>\n",
       "      <td>1</td>\n",
       "      <td>0</td>\n",
       "      <td>0</td>\n",
       "      <td>0</td>\n",
       "      <td>0</td>\n",
       "      <td>0</td>\n",
       "      <td>0</td>\n",
       "    </tr>\n",
       "  </tbody>\n",
       "</table>\n",
       "</div>"
      ],
      "text/plain": [
       "   row_id                 time  x  y direction  congestion  EB  NB  NE  NW  \\\n",
       "0       0  1991-04-01 00:00:00  0  0        EB          70   1   0   0   0   \n",
       "1       1  1991-04-01 00:00:00  0  0        NB          49   0   1   0   0   \n",
       "2       2  1991-04-01 00:00:00  0  0        SB          24   0   0   0   0   \n",
       "3       3  1991-04-01 00:00:00  0  1        EB          18   1   0   0   0   \n",
       "4       4  1991-04-01 00:00:00  0  1        NB          60   0   1   0   0   \n",
       "\n",
       "   SB  SE  SW  WB  \n",
       "0   0   0   0   0  \n",
       "1   0   0   0   0  \n",
       "2   1   0   0   0  \n",
       "3   0   0   0   0  \n",
       "4   0   0   0   0  "
      ]
     },
     "execution_count": 21,
     "metadata": {},
     "output_type": "execute_result"
    }
   ],
   "source": [
    "df_train = pd.concat([df_train, pd.get_dummies(df_train['direction'])], axis=1)\n",
    "df_train.head()"
   ]
  },
  {
   "cell_type": "code",
   "execution_count": 22,
   "id": "7ad57b25",
   "metadata": {
    "ExecuteTime": {
     "end_time": "2022-03-16T18:40:30.472632Z",
     "start_time": "2022-03-16T18:40:30.375585Z"
    }
   },
   "outputs": [],
   "source": [
    "df_train = df_train.drop(columns='direction')"
   ]
  },
  {
   "cell_type": "code",
   "execution_count": 23,
   "id": "407a53a3",
   "metadata": {
    "ExecuteTime": {
     "end_time": "2022-03-16T18:40:30.494651Z",
     "start_time": "2022-03-16T18:40:30.474827Z"
    }
   },
   "outputs": [
    {
     "data": {
      "text/html": [
       "<div>\n",
       "<style scoped>\n",
       "    .dataframe tbody tr th:only-of-type {\n",
       "        vertical-align: middle;\n",
       "    }\n",
       "\n",
       "    .dataframe tbody tr th {\n",
       "        vertical-align: top;\n",
       "    }\n",
       "\n",
       "    .dataframe thead th {\n",
       "        text-align: right;\n",
       "    }\n",
       "</style>\n",
       "<table border=\"1\" class=\"dataframe\">\n",
       "  <thead>\n",
       "    <tr style=\"text-align: right;\">\n",
       "      <th></th>\n",
       "      <th>row_id</th>\n",
       "      <th>time</th>\n",
       "      <th>x</th>\n",
       "      <th>y</th>\n",
       "      <th>congestion</th>\n",
       "      <th>EB</th>\n",
       "      <th>NB</th>\n",
       "      <th>NE</th>\n",
       "      <th>NW</th>\n",
       "      <th>SB</th>\n",
       "      <th>SE</th>\n",
       "      <th>SW</th>\n",
       "      <th>WB</th>\n",
       "    </tr>\n",
       "  </thead>\n",
       "  <tbody>\n",
       "    <tr>\n",
       "      <th>0</th>\n",
       "      <td>0</td>\n",
       "      <td>1991-04-01 00:00:00</td>\n",
       "      <td>0</td>\n",
       "      <td>0</td>\n",
       "      <td>70</td>\n",
       "      <td>1</td>\n",
       "      <td>0</td>\n",
       "      <td>0</td>\n",
       "      <td>0</td>\n",
       "      <td>0</td>\n",
       "      <td>0</td>\n",
       "      <td>0</td>\n",
       "      <td>0</td>\n",
       "    </tr>\n",
       "    <tr>\n",
       "      <th>1</th>\n",
       "      <td>1</td>\n",
       "      <td>1991-04-01 00:00:00</td>\n",
       "      <td>0</td>\n",
       "      <td>0</td>\n",
       "      <td>49</td>\n",
       "      <td>0</td>\n",
       "      <td>1</td>\n",
       "      <td>0</td>\n",
       "      <td>0</td>\n",
       "      <td>0</td>\n",
       "      <td>0</td>\n",
       "      <td>0</td>\n",
       "      <td>0</td>\n",
       "    </tr>\n",
       "    <tr>\n",
       "      <th>2</th>\n",
       "      <td>2</td>\n",
       "      <td>1991-04-01 00:00:00</td>\n",
       "      <td>0</td>\n",
       "      <td>0</td>\n",
       "      <td>24</td>\n",
       "      <td>0</td>\n",
       "      <td>0</td>\n",
       "      <td>0</td>\n",
       "      <td>0</td>\n",
       "      <td>1</td>\n",
       "      <td>0</td>\n",
       "      <td>0</td>\n",
       "      <td>0</td>\n",
       "    </tr>\n",
       "    <tr>\n",
       "      <th>3</th>\n",
       "      <td>3</td>\n",
       "      <td>1991-04-01 00:00:00</td>\n",
       "      <td>0</td>\n",
       "      <td>1</td>\n",
       "      <td>18</td>\n",
       "      <td>1</td>\n",
       "      <td>0</td>\n",
       "      <td>0</td>\n",
       "      <td>0</td>\n",
       "      <td>0</td>\n",
       "      <td>0</td>\n",
       "      <td>0</td>\n",
       "      <td>0</td>\n",
       "    </tr>\n",
       "    <tr>\n",
       "      <th>4</th>\n",
       "      <td>4</td>\n",
       "      <td>1991-04-01 00:00:00</td>\n",
       "      <td>0</td>\n",
       "      <td>1</td>\n",
       "      <td>60</td>\n",
       "      <td>0</td>\n",
       "      <td>1</td>\n",
       "      <td>0</td>\n",
       "      <td>0</td>\n",
       "      <td>0</td>\n",
       "      <td>0</td>\n",
       "      <td>0</td>\n",
       "      <td>0</td>\n",
       "    </tr>\n",
       "    <tr>\n",
       "      <th>...</th>\n",
       "      <td>...</td>\n",
       "      <td>...</td>\n",
       "      <td>...</td>\n",
       "      <td>...</td>\n",
       "      <td>...</td>\n",
       "      <td>...</td>\n",
       "      <td>...</td>\n",
       "      <td>...</td>\n",
       "      <td>...</td>\n",
       "      <td>...</td>\n",
       "      <td>...</td>\n",
       "      <td>...</td>\n",
       "      <td>...</td>\n",
       "    </tr>\n",
       "    <tr>\n",
       "      <th>848830</th>\n",
       "      <td>848830</td>\n",
       "      <td>1991-09-30 11:40:00</td>\n",
       "      <td>2</td>\n",
       "      <td>3</td>\n",
       "      <td>54</td>\n",
       "      <td>0</td>\n",
       "      <td>1</td>\n",
       "      <td>0</td>\n",
       "      <td>0</td>\n",
       "      <td>0</td>\n",
       "      <td>0</td>\n",
       "      <td>0</td>\n",
       "      <td>0</td>\n",
       "    </tr>\n",
       "    <tr>\n",
       "      <th>848831</th>\n",
       "      <td>848831</td>\n",
       "      <td>1991-09-30 11:40:00</td>\n",
       "      <td>2</td>\n",
       "      <td>3</td>\n",
       "      <td>28</td>\n",
       "      <td>0</td>\n",
       "      <td>0</td>\n",
       "      <td>1</td>\n",
       "      <td>0</td>\n",
       "      <td>0</td>\n",
       "      <td>0</td>\n",
       "      <td>0</td>\n",
       "      <td>0</td>\n",
       "    </tr>\n",
       "    <tr>\n",
       "      <th>848832</th>\n",
       "      <td>848832</td>\n",
       "      <td>1991-09-30 11:40:00</td>\n",
       "      <td>2</td>\n",
       "      <td>3</td>\n",
       "      <td>68</td>\n",
       "      <td>0</td>\n",
       "      <td>0</td>\n",
       "      <td>0</td>\n",
       "      <td>0</td>\n",
       "      <td>1</td>\n",
       "      <td>0</td>\n",
       "      <td>0</td>\n",
       "      <td>0</td>\n",
       "    </tr>\n",
       "    <tr>\n",
       "      <th>848833</th>\n",
       "      <td>848833</td>\n",
       "      <td>1991-09-30 11:40:00</td>\n",
       "      <td>2</td>\n",
       "      <td>3</td>\n",
       "      <td>17</td>\n",
       "      <td>0</td>\n",
       "      <td>0</td>\n",
       "      <td>0</td>\n",
       "      <td>0</td>\n",
       "      <td>0</td>\n",
       "      <td>0</td>\n",
       "      <td>1</td>\n",
       "      <td>0</td>\n",
       "    </tr>\n",
       "    <tr>\n",
       "      <th>848834</th>\n",
       "      <td>848834</td>\n",
       "      <td>1991-09-30 11:40:00</td>\n",
       "      <td>2</td>\n",
       "      <td>3</td>\n",
       "      <td>24</td>\n",
       "      <td>0</td>\n",
       "      <td>0</td>\n",
       "      <td>0</td>\n",
       "      <td>0</td>\n",
       "      <td>0</td>\n",
       "      <td>0</td>\n",
       "      <td>0</td>\n",
       "      <td>1</td>\n",
       "    </tr>\n",
       "  </tbody>\n",
       "</table>\n",
       "<p>848835 rows × 13 columns</p>\n",
       "</div>"
      ],
      "text/plain": [
       "        row_id                 time  x  y  congestion  EB  NB  NE  NW  SB  SE  \\\n",
       "0            0  1991-04-01 00:00:00  0  0          70   1   0   0   0   0   0   \n",
       "1            1  1991-04-01 00:00:00  0  0          49   0   1   0   0   0   0   \n",
       "2            2  1991-04-01 00:00:00  0  0          24   0   0   0   0   1   0   \n",
       "3            3  1991-04-01 00:00:00  0  1          18   1   0   0   0   0   0   \n",
       "4            4  1991-04-01 00:00:00  0  1          60   0   1   0   0   0   0   \n",
       "...        ...                  ... .. ..         ...  ..  ..  ..  ..  ..  ..   \n",
       "848830  848830  1991-09-30 11:40:00  2  3          54   0   1   0   0   0   0   \n",
       "848831  848831  1991-09-30 11:40:00  2  3          28   0   0   1   0   0   0   \n",
       "848832  848832  1991-09-30 11:40:00  2  3          68   0   0   0   0   1   0   \n",
       "848833  848833  1991-09-30 11:40:00  2  3          17   0   0   0   0   0   0   \n",
       "848834  848834  1991-09-30 11:40:00  2  3          24   0   0   0   0   0   0   \n",
       "\n",
       "        SW  WB  \n",
       "0        0   0  \n",
       "1        0   0  \n",
       "2        0   0  \n",
       "3        0   0  \n",
       "4        0   0  \n",
       "...     ..  ..  \n",
       "848830   0   0  \n",
       "848831   0   0  \n",
       "848832   0   0  \n",
       "848833   1   0  \n",
       "848834   0   1  \n",
       "\n",
       "[848835 rows x 13 columns]"
      ]
     },
     "execution_count": 23,
     "metadata": {},
     "output_type": "execute_result"
    }
   ],
   "source": [
    "df_train"
   ]
  },
  {
   "cell_type": "code",
   "execution_count": 24,
   "id": "cdfbcdad",
   "metadata": {
    "ExecuteTime": {
     "end_time": "2022-03-16T18:40:30.521852Z",
     "start_time": "2022-03-16T18:40:30.496770Z"
    }
   },
   "outputs": [
    {
     "data": {
      "text/html": [
       "<div>\n",
       "<style scoped>\n",
       "    .dataframe tbody tr th:only-of-type {\n",
       "        vertical-align: middle;\n",
       "    }\n",
       "\n",
       "    .dataframe tbody tr th {\n",
       "        vertical-align: top;\n",
       "    }\n",
       "\n",
       "    .dataframe thead th {\n",
       "        text-align: right;\n",
       "    }\n",
       "</style>\n",
       "<table border=\"1\" class=\"dataframe\">\n",
       "  <thead>\n",
       "    <tr style=\"text-align: right;\">\n",
       "      <th></th>\n",
       "      <th>row_id</th>\n",
       "      <th>time</th>\n",
       "      <th>x</th>\n",
       "      <th>y</th>\n",
       "      <th>EB</th>\n",
       "      <th>NB</th>\n",
       "      <th>NE</th>\n",
       "      <th>NW</th>\n",
       "      <th>SB</th>\n",
       "      <th>SE</th>\n",
       "      <th>SW</th>\n",
       "      <th>WB</th>\n",
       "    </tr>\n",
       "  </thead>\n",
       "  <tbody>\n",
       "    <tr>\n",
       "      <th>0</th>\n",
       "      <td>848835</td>\n",
       "      <td>1991-09-30 12:00:00</td>\n",
       "      <td>0</td>\n",
       "      <td>0</td>\n",
       "      <td>1</td>\n",
       "      <td>0</td>\n",
       "      <td>0</td>\n",
       "      <td>0</td>\n",
       "      <td>0</td>\n",
       "      <td>0</td>\n",
       "      <td>0</td>\n",
       "      <td>0</td>\n",
       "    </tr>\n",
       "    <tr>\n",
       "      <th>1</th>\n",
       "      <td>848836</td>\n",
       "      <td>1991-09-30 12:00:00</td>\n",
       "      <td>0</td>\n",
       "      <td>0</td>\n",
       "      <td>0</td>\n",
       "      <td>1</td>\n",
       "      <td>0</td>\n",
       "      <td>0</td>\n",
       "      <td>0</td>\n",
       "      <td>0</td>\n",
       "      <td>0</td>\n",
       "      <td>0</td>\n",
       "    </tr>\n",
       "    <tr>\n",
       "      <th>2</th>\n",
       "      <td>848837</td>\n",
       "      <td>1991-09-30 12:00:00</td>\n",
       "      <td>0</td>\n",
       "      <td>0</td>\n",
       "      <td>0</td>\n",
       "      <td>0</td>\n",
       "      <td>0</td>\n",
       "      <td>0</td>\n",
       "      <td>1</td>\n",
       "      <td>0</td>\n",
       "      <td>0</td>\n",
       "      <td>0</td>\n",
       "    </tr>\n",
       "    <tr>\n",
       "      <th>3</th>\n",
       "      <td>848838</td>\n",
       "      <td>1991-09-30 12:00:00</td>\n",
       "      <td>0</td>\n",
       "      <td>1</td>\n",
       "      <td>1</td>\n",
       "      <td>0</td>\n",
       "      <td>0</td>\n",
       "      <td>0</td>\n",
       "      <td>0</td>\n",
       "      <td>0</td>\n",
       "      <td>0</td>\n",
       "      <td>0</td>\n",
       "    </tr>\n",
       "    <tr>\n",
       "      <th>4</th>\n",
       "      <td>848839</td>\n",
       "      <td>1991-09-30 12:00:00</td>\n",
       "      <td>0</td>\n",
       "      <td>1</td>\n",
       "      <td>0</td>\n",
       "      <td>1</td>\n",
       "      <td>0</td>\n",
       "      <td>0</td>\n",
       "      <td>0</td>\n",
       "      <td>0</td>\n",
       "      <td>0</td>\n",
       "      <td>0</td>\n",
       "    </tr>\n",
       "  </tbody>\n",
       "</table>\n",
       "</div>"
      ],
      "text/plain": [
       "   row_id                 time  x  y  EB  NB  NE  NW  SB  SE  SW  WB\n",
       "0  848835  1991-09-30 12:00:00  0  0   1   0   0   0   0   0   0   0\n",
       "1  848836  1991-09-30 12:00:00  0  0   0   1   0   0   0   0   0   0\n",
       "2  848837  1991-09-30 12:00:00  0  0   0   0   0   0   1   0   0   0\n",
       "3  848838  1991-09-30 12:00:00  0  1   1   0   0   0   0   0   0   0\n",
       "4  848839  1991-09-30 12:00:00  0  1   0   1   0   0   0   0   0   0"
      ]
     },
     "execution_count": 24,
     "metadata": {},
     "output_type": "execute_result"
    }
   ],
   "source": [
    "df_test = pd.concat([df_test, pd.get_dummies(df_test['direction'])], axis=1)\n",
    "df_test = df_test.drop(columns='direction')\n",
    "df_test.head()"
   ]
  },
  {
   "cell_type": "code",
   "execution_count": 25,
   "id": "2d422330",
   "metadata": {
    "ExecuteTime": {
     "end_time": "2022-03-16T18:40:30.525635Z",
     "start_time": "2022-03-16T18:40:30.523291Z"
    }
   },
   "outputs": [],
   "source": [
    "### TODO: split time in another columns"
   ]
  },
  {
   "cell_type": "code",
   "execution_count": 26,
   "id": "f56922bc",
   "metadata": {
    "ExecuteTime": {
     "end_time": "2022-03-16T18:40:30.657922Z",
     "start_time": "2022-03-16T18:40:30.527256Z"
    }
   },
   "outputs": [],
   "source": [
    "# convert str to datetime:\n",
    "df_train['time'] = pd.to_datetime(df_train['time'])\n",
    "df_test['time'] = pd.to_datetime(df_test['time'])"
   ]
  },
  {
   "cell_type": "code",
   "execution_count": 27,
   "id": "15a925fb",
   "metadata": {
    "ExecuteTime": {
     "end_time": "2022-03-16T18:40:32.492249Z",
     "start_time": "2022-03-16T18:40:30.659616Z"
    }
   },
   "outputs": [],
   "source": [
    "df_train['only_date'] = [d.date() for d in df_train['time']]\n",
    "df_test['only_date'] = [d.date() for d in df_test['time']]"
   ]
  },
  {
   "cell_type": "code",
   "execution_count": 28,
   "id": "886fca7e",
   "metadata": {
    "ExecuteTime": {
     "end_time": "2022-03-16T18:40:34.215633Z",
     "start_time": "2022-03-16T18:40:32.493552Z"
    }
   },
   "outputs": [],
   "source": [
    "df_train['only_time'] = [d.time() for d in df_train['time']]\n",
    "df_test['only_time'] = [d.time() for d in df_test['time']]"
   ]
  },
  {
   "cell_type": "code",
   "execution_count": 29,
   "id": "61341cbc",
   "metadata": {
    "ExecuteTime": {
     "end_time": "2022-03-16T18:40:34.242941Z",
     "start_time": "2022-03-16T18:40:34.216913Z"
    }
   },
   "outputs": [
    {
     "data": {
      "text/html": [
       "<div>\n",
       "<style scoped>\n",
       "    .dataframe tbody tr th:only-of-type {\n",
       "        vertical-align: middle;\n",
       "    }\n",
       "\n",
       "    .dataframe tbody tr th {\n",
       "        vertical-align: top;\n",
       "    }\n",
       "\n",
       "    .dataframe thead th {\n",
       "        text-align: right;\n",
       "    }\n",
       "</style>\n",
       "<table border=\"1\" class=\"dataframe\">\n",
       "  <thead>\n",
       "    <tr style=\"text-align: right;\">\n",
       "      <th></th>\n",
       "      <th>row_id</th>\n",
       "      <th>time</th>\n",
       "      <th>x</th>\n",
       "      <th>y</th>\n",
       "      <th>congestion</th>\n",
       "      <th>EB</th>\n",
       "      <th>NB</th>\n",
       "      <th>NE</th>\n",
       "      <th>NW</th>\n",
       "      <th>SB</th>\n",
       "      <th>SE</th>\n",
       "      <th>SW</th>\n",
       "      <th>WB</th>\n",
       "      <th>only_date</th>\n",
       "      <th>only_time</th>\n",
       "    </tr>\n",
       "  </thead>\n",
       "  <tbody>\n",
       "    <tr>\n",
       "      <th>0</th>\n",
       "      <td>0</td>\n",
       "      <td>1991-04-01 00:00:00</td>\n",
       "      <td>0</td>\n",
       "      <td>0</td>\n",
       "      <td>70</td>\n",
       "      <td>1</td>\n",
       "      <td>0</td>\n",
       "      <td>0</td>\n",
       "      <td>0</td>\n",
       "      <td>0</td>\n",
       "      <td>0</td>\n",
       "      <td>0</td>\n",
       "      <td>0</td>\n",
       "      <td>1991-04-01</td>\n",
       "      <td>00:00:00</td>\n",
       "    </tr>\n",
       "    <tr>\n",
       "      <th>1</th>\n",
       "      <td>1</td>\n",
       "      <td>1991-04-01 00:00:00</td>\n",
       "      <td>0</td>\n",
       "      <td>0</td>\n",
       "      <td>49</td>\n",
       "      <td>0</td>\n",
       "      <td>1</td>\n",
       "      <td>0</td>\n",
       "      <td>0</td>\n",
       "      <td>0</td>\n",
       "      <td>0</td>\n",
       "      <td>0</td>\n",
       "      <td>0</td>\n",
       "      <td>1991-04-01</td>\n",
       "      <td>00:00:00</td>\n",
       "    </tr>\n",
       "    <tr>\n",
       "      <th>2</th>\n",
       "      <td>2</td>\n",
       "      <td>1991-04-01 00:00:00</td>\n",
       "      <td>0</td>\n",
       "      <td>0</td>\n",
       "      <td>24</td>\n",
       "      <td>0</td>\n",
       "      <td>0</td>\n",
       "      <td>0</td>\n",
       "      <td>0</td>\n",
       "      <td>1</td>\n",
       "      <td>0</td>\n",
       "      <td>0</td>\n",
       "      <td>0</td>\n",
       "      <td>1991-04-01</td>\n",
       "      <td>00:00:00</td>\n",
       "    </tr>\n",
       "    <tr>\n",
       "      <th>3</th>\n",
       "      <td>3</td>\n",
       "      <td>1991-04-01 00:00:00</td>\n",
       "      <td>0</td>\n",
       "      <td>1</td>\n",
       "      <td>18</td>\n",
       "      <td>1</td>\n",
       "      <td>0</td>\n",
       "      <td>0</td>\n",
       "      <td>0</td>\n",
       "      <td>0</td>\n",
       "      <td>0</td>\n",
       "      <td>0</td>\n",
       "      <td>0</td>\n",
       "      <td>1991-04-01</td>\n",
       "      <td>00:00:00</td>\n",
       "    </tr>\n",
       "    <tr>\n",
       "      <th>4</th>\n",
       "      <td>4</td>\n",
       "      <td>1991-04-01 00:00:00</td>\n",
       "      <td>0</td>\n",
       "      <td>1</td>\n",
       "      <td>60</td>\n",
       "      <td>0</td>\n",
       "      <td>1</td>\n",
       "      <td>0</td>\n",
       "      <td>0</td>\n",
       "      <td>0</td>\n",
       "      <td>0</td>\n",
       "      <td>0</td>\n",
       "      <td>0</td>\n",
       "      <td>1991-04-01</td>\n",
       "      <td>00:00:00</td>\n",
       "    </tr>\n",
       "    <tr>\n",
       "      <th>...</th>\n",
       "      <td>...</td>\n",
       "      <td>...</td>\n",
       "      <td>...</td>\n",
       "      <td>...</td>\n",
       "      <td>...</td>\n",
       "      <td>...</td>\n",
       "      <td>...</td>\n",
       "      <td>...</td>\n",
       "      <td>...</td>\n",
       "      <td>...</td>\n",
       "      <td>...</td>\n",
       "      <td>...</td>\n",
       "      <td>...</td>\n",
       "      <td>...</td>\n",
       "      <td>...</td>\n",
       "    </tr>\n",
       "    <tr>\n",
       "      <th>848830</th>\n",
       "      <td>848830</td>\n",
       "      <td>1991-09-30 11:40:00</td>\n",
       "      <td>2</td>\n",
       "      <td>3</td>\n",
       "      <td>54</td>\n",
       "      <td>0</td>\n",
       "      <td>1</td>\n",
       "      <td>0</td>\n",
       "      <td>0</td>\n",
       "      <td>0</td>\n",
       "      <td>0</td>\n",
       "      <td>0</td>\n",
       "      <td>0</td>\n",
       "      <td>1991-09-30</td>\n",
       "      <td>11:40:00</td>\n",
       "    </tr>\n",
       "    <tr>\n",
       "      <th>848831</th>\n",
       "      <td>848831</td>\n",
       "      <td>1991-09-30 11:40:00</td>\n",
       "      <td>2</td>\n",
       "      <td>3</td>\n",
       "      <td>28</td>\n",
       "      <td>0</td>\n",
       "      <td>0</td>\n",
       "      <td>1</td>\n",
       "      <td>0</td>\n",
       "      <td>0</td>\n",
       "      <td>0</td>\n",
       "      <td>0</td>\n",
       "      <td>0</td>\n",
       "      <td>1991-09-30</td>\n",
       "      <td>11:40:00</td>\n",
       "    </tr>\n",
       "    <tr>\n",
       "      <th>848832</th>\n",
       "      <td>848832</td>\n",
       "      <td>1991-09-30 11:40:00</td>\n",
       "      <td>2</td>\n",
       "      <td>3</td>\n",
       "      <td>68</td>\n",
       "      <td>0</td>\n",
       "      <td>0</td>\n",
       "      <td>0</td>\n",
       "      <td>0</td>\n",
       "      <td>1</td>\n",
       "      <td>0</td>\n",
       "      <td>0</td>\n",
       "      <td>0</td>\n",
       "      <td>1991-09-30</td>\n",
       "      <td>11:40:00</td>\n",
       "    </tr>\n",
       "    <tr>\n",
       "      <th>848833</th>\n",
       "      <td>848833</td>\n",
       "      <td>1991-09-30 11:40:00</td>\n",
       "      <td>2</td>\n",
       "      <td>3</td>\n",
       "      <td>17</td>\n",
       "      <td>0</td>\n",
       "      <td>0</td>\n",
       "      <td>0</td>\n",
       "      <td>0</td>\n",
       "      <td>0</td>\n",
       "      <td>0</td>\n",
       "      <td>1</td>\n",
       "      <td>0</td>\n",
       "      <td>1991-09-30</td>\n",
       "      <td>11:40:00</td>\n",
       "    </tr>\n",
       "    <tr>\n",
       "      <th>848834</th>\n",
       "      <td>848834</td>\n",
       "      <td>1991-09-30 11:40:00</td>\n",
       "      <td>2</td>\n",
       "      <td>3</td>\n",
       "      <td>24</td>\n",
       "      <td>0</td>\n",
       "      <td>0</td>\n",
       "      <td>0</td>\n",
       "      <td>0</td>\n",
       "      <td>0</td>\n",
       "      <td>0</td>\n",
       "      <td>0</td>\n",
       "      <td>1</td>\n",
       "      <td>1991-09-30</td>\n",
       "      <td>11:40:00</td>\n",
       "    </tr>\n",
       "  </tbody>\n",
       "</table>\n",
       "<p>848835 rows × 15 columns</p>\n",
       "</div>"
      ],
      "text/plain": [
       "        row_id                time  x  y  congestion  EB  NB  NE  NW  SB  SE  \\\n",
       "0            0 1991-04-01 00:00:00  0  0          70   1   0   0   0   0   0   \n",
       "1            1 1991-04-01 00:00:00  0  0          49   0   1   0   0   0   0   \n",
       "2            2 1991-04-01 00:00:00  0  0          24   0   0   0   0   1   0   \n",
       "3            3 1991-04-01 00:00:00  0  1          18   1   0   0   0   0   0   \n",
       "4            4 1991-04-01 00:00:00  0  1          60   0   1   0   0   0   0   \n",
       "...        ...                 ... .. ..         ...  ..  ..  ..  ..  ..  ..   \n",
       "848830  848830 1991-09-30 11:40:00  2  3          54   0   1   0   0   0   0   \n",
       "848831  848831 1991-09-30 11:40:00  2  3          28   0   0   1   0   0   0   \n",
       "848832  848832 1991-09-30 11:40:00  2  3          68   0   0   0   0   1   0   \n",
       "848833  848833 1991-09-30 11:40:00  2  3          17   0   0   0   0   0   0   \n",
       "848834  848834 1991-09-30 11:40:00  2  3          24   0   0   0   0   0   0   \n",
       "\n",
       "        SW  WB   only_date only_time  \n",
       "0        0   0  1991-04-01  00:00:00  \n",
       "1        0   0  1991-04-01  00:00:00  \n",
       "2        0   0  1991-04-01  00:00:00  \n",
       "3        0   0  1991-04-01  00:00:00  \n",
       "4        0   0  1991-04-01  00:00:00  \n",
       "...     ..  ..         ...       ...  \n",
       "848830   0   0  1991-09-30  11:40:00  \n",
       "848831   0   0  1991-09-30  11:40:00  \n",
       "848832   0   0  1991-09-30  11:40:00  \n",
       "848833   1   0  1991-09-30  11:40:00  \n",
       "848834   0   1  1991-09-30  11:40:00  \n",
       "\n",
       "[848835 rows x 15 columns]"
      ]
     },
     "execution_count": 29,
     "metadata": {},
     "output_type": "execute_result"
    }
   ],
   "source": [
    "df_train"
   ]
  },
  {
   "cell_type": "code",
   "execution_count": 58,
   "id": "1ef8b6cf",
   "metadata": {
    "ExecuteTime": {
     "end_time": "2022-03-16T18:45:53.595570Z",
     "start_time": "2022-03-16T18:45:53.313615Z"
    }
   },
   "outputs": [],
   "source": [
    "df_train['only_hour'] = [x.hour for x in df_train['only_time']]\n",
    "df_test['only_hour'] = [x.hour for x in df_test['only_time']]"
   ]
  },
  {
   "cell_type": "code",
   "execution_count": 30,
   "id": "cdcd906e",
   "metadata": {
    "ExecuteTime": {
     "end_time": "2022-03-16T18:40:34.252622Z",
     "start_time": "2022-03-16T18:40:34.244810Z"
    }
   },
   "outputs": [],
   "source": [
    "## converting datetime to a numeric timestamp:\n"
   ]
  },
  {
   "cell_type": "code",
   "execution_count": 59,
   "id": "be0e3b75",
   "metadata": {
    "ExecuteTime": {
     "end_time": "2022-03-16T18:45:56.844380Z",
     "start_time": "2022-03-16T18:45:56.794156Z"
    }
   },
   "outputs": [
    {
     "data": {
      "text/html": [
       "<div>\n",
       "<style scoped>\n",
       "    .dataframe tbody tr th:only-of-type {\n",
       "        vertical-align: middle;\n",
       "    }\n",
       "\n",
       "    .dataframe tbody tr th {\n",
       "        vertical-align: top;\n",
       "    }\n",
       "\n",
       "    .dataframe thead th {\n",
       "        text-align: right;\n",
       "    }\n",
       "</style>\n",
       "<table border=\"1\" class=\"dataframe\">\n",
       "  <thead>\n",
       "    <tr style=\"text-align: right;\">\n",
       "      <th></th>\n",
       "      <th>row_id</th>\n",
       "      <th>time</th>\n",
       "      <th>x</th>\n",
       "      <th>y</th>\n",
       "      <th>congestion</th>\n",
       "      <th>EB</th>\n",
       "      <th>NB</th>\n",
       "      <th>NE</th>\n",
       "      <th>NW</th>\n",
       "      <th>SB</th>\n",
       "      <th>SE</th>\n",
       "      <th>SW</th>\n",
       "      <th>WB</th>\n",
       "      <th>only_date</th>\n",
       "      <th>only_time</th>\n",
       "      <th>timestamp</th>\n",
       "      <th>only_hour</th>\n",
       "    </tr>\n",
       "  </thead>\n",
       "  <tbody>\n",
       "    <tr>\n",
       "      <th>0</th>\n",
       "      <td>0</td>\n",
       "      <td>1991-04-01 00:00:00</td>\n",
       "      <td>0</td>\n",
       "      <td>0</td>\n",
       "      <td>70</td>\n",
       "      <td>1</td>\n",
       "      <td>0</td>\n",
       "      <td>0</td>\n",
       "      <td>0</td>\n",
       "      <td>0</td>\n",
       "      <td>0</td>\n",
       "      <td>0</td>\n",
       "      <td>0</td>\n",
       "      <td>1991-04-01</td>\n",
       "      <td>00:00:00</td>\n",
       "      <td>670464000</td>\n",
       "      <td>0</td>\n",
       "    </tr>\n",
       "    <tr>\n",
       "      <th>1</th>\n",
       "      <td>1</td>\n",
       "      <td>1991-04-01 00:00:00</td>\n",
       "      <td>0</td>\n",
       "      <td>0</td>\n",
       "      <td>49</td>\n",
       "      <td>0</td>\n",
       "      <td>1</td>\n",
       "      <td>0</td>\n",
       "      <td>0</td>\n",
       "      <td>0</td>\n",
       "      <td>0</td>\n",
       "      <td>0</td>\n",
       "      <td>0</td>\n",
       "      <td>1991-04-01</td>\n",
       "      <td>00:00:00</td>\n",
       "      <td>670464000</td>\n",
       "      <td>0</td>\n",
       "    </tr>\n",
       "    <tr>\n",
       "      <th>2</th>\n",
       "      <td>2</td>\n",
       "      <td>1991-04-01 00:00:00</td>\n",
       "      <td>0</td>\n",
       "      <td>0</td>\n",
       "      <td>24</td>\n",
       "      <td>0</td>\n",
       "      <td>0</td>\n",
       "      <td>0</td>\n",
       "      <td>0</td>\n",
       "      <td>1</td>\n",
       "      <td>0</td>\n",
       "      <td>0</td>\n",
       "      <td>0</td>\n",
       "      <td>1991-04-01</td>\n",
       "      <td>00:00:00</td>\n",
       "      <td>670464000</td>\n",
       "      <td>0</td>\n",
       "    </tr>\n",
       "    <tr>\n",
       "      <th>3</th>\n",
       "      <td>3</td>\n",
       "      <td>1991-04-01 00:00:00</td>\n",
       "      <td>0</td>\n",
       "      <td>1</td>\n",
       "      <td>18</td>\n",
       "      <td>1</td>\n",
       "      <td>0</td>\n",
       "      <td>0</td>\n",
       "      <td>0</td>\n",
       "      <td>0</td>\n",
       "      <td>0</td>\n",
       "      <td>0</td>\n",
       "      <td>0</td>\n",
       "      <td>1991-04-01</td>\n",
       "      <td>00:00:00</td>\n",
       "      <td>670464000</td>\n",
       "      <td>0</td>\n",
       "    </tr>\n",
       "    <tr>\n",
       "      <th>4</th>\n",
       "      <td>4</td>\n",
       "      <td>1991-04-01 00:00:00</td>\n",
       "      <td>0</td>\n",
       "      <td>1</td>\n",
       "      <td>60</td>\n",
       "      <td>0</td>\n",
       "      <td>1</td>\n",
       "      <td>0</td>\n",
       "      <td>0</td>\n",
       "      <td>0</td>\n",
       "      <td>0</td>\n",
       "      <td>0</td>\n",
       "      <td>0</td>\n",
       "      <td>1991-04-01</td>\n",
       "      <td>00:00:00</td>\n",
       "      <td>670464000</td>\n",
       "      <td>0</td>\n",
       "    </tr>\n",
       "    <tr>\n",
       "      <th>...</th>\n",
       "      <td>...</td>\n",
       "      <td>...</td>\n",
       "      <td>...</td>\n",
       "      <td>...</td>\n",
       "      <td>...</td>\n",
       "      <td>...</td>\n",
       "      <td>...</td>\n",
       "      <td>...</td>\n",
       "      <td>...</td>\n",
       "      <td>...</td>\n",
       "      <td>...</td>\n",
       "      <td>...</td>\n",
       "      <td>...</td>\n",
       "      <td>...</td>\n",
       "      <td>...</td>\n",
       "      <td>...</td>\n",
       "      <td>...</td>\n",
       "    </tr>\n",
       "    <tr>\n",
       "      <th>848830</th>\n",
       "      <td>848830</td>\n",
       "      <td>1991-09-30 11:40:00</td>\n",
       "      <td>2</td>\n",
       "      <td>3</td>\n",
       "      <td>54</td>\n",
       "      <td>0</td>\n",
       "      <td>1</td>\n",
       "      <td>0</td>\n",
       "      <td>0</td>\n",
       "      <td>0</td>\n",
       "      <td>0</td>\n",
       "      <td>0</td>\n",
       "      <td>0</td>\n",
       "      <td>1991-09-30</td>\n",
       "      <td>11:40:00</td>\n",
       "      <td>686230800</td>\n",
       "      <td>11</td>\n",
       "    </tr>\n",
       "    <tr>\n",
       "      <th>848831</th>\n",
       "      <td>848831</td>\n",
       "      <td>1991-09-30 11:40:00</td>\n",
       "      <td>2</td>\n",
       "      <td>3</td>\n",
       "      <td>28</td>\n",
       "      <td>0</td>\n",
       "      <td>0</td>\n",
       "      <td>1</td>\n",
       "      <td>0</td>\n",
       "      <td>0</td>\n",
       "      <td>0</td>\n",
       "      <td>0</td>\n",
       "      <td>0</td>\n",
       "      <td>1991-09-30</td>\n",
       "      <td>11:40:00</td>\n",
       "      <td>686230800</td>\n",
       "      <td>11</td>\n",
       "    </tr>\n",
       "    <tr>\n",
       "      <th>848832</th>\n",
       "      <td>848832</td>\n",
       "      <td>1991-09-30 11:40:00</td>\n",
       "      <td>2</td>\n",
       "      <td>3</td>\n",
       "      <td>68</td>\n",
       "      <td>0</td>\n",
       "      <td>0</td>\n",
       "      <td>0</td>\n",
       "      <td>0</td>\n",
       "      <td>1</td>\n",
       "      <td>0</td>\n",
       "      <td>0</td>\n",
       "      <td>0</td>\n",
       "      <td>1991-09-30</td>\n",
       "      <td>11:40:00</td>\n",
       "      <td>686230800</td>\n",
       "      <td>11</td>\n",
       "    </tr>\n",
       "    <tr>\n",
       "      <th>848833</th>\n",
       "      <td>848833</td>\n",
       "      <td>1991-09-30 11:40:00</td>\n",
       "      <td>2</td>\n",
       "      <td>3</td>\n",
       "      <td>17</td>\n",
       "      <td>0</td>\n",
       "      <td>0</td>\n",
       "      <td>0</td>\n",
       "      <td>0</td>\n",
       "      <td>0</td>\n",
       "      <td>0</td>\n",
       "      <td>1</td>\n",
       "      <td>0</td>\n",
       "      <td>1991-09-30</td>\n",
       "      <td>11:40:00</td>\n",
       "      <td>686230800</td>\n",
       "      <td>11</td>\n",
       "    </tr>\n",
       "    <tr>\n",
       "      <th>848834</th>\n",
       "      <td>848834</td>\n",
       "      <td>1991-09-30 11:40:00</td>\n",
       "      <td>2</td>\n",
       "      <td>3</td>\n",
       "      <td>24</td>\n",
       "      <td>0</td>\n",
       "      <td>0</td>\n",
       "      <td>0</td>\n",
       "      <td>0</td>\n",
       "      <td>0</td>\n",
       "      <td>0</td>\n",
       "      <td>0</td>\n",
       "      <td>1</td>\n",
       "      <td>1991-09-30</td>\n",
       "      <td>11:40:00</td>\n",
       "      <td>686230800</td>\n",
       "      <td>11</td>\n",
       "    </tr>\n",
       "  </tbody>\n",
       "</table>\n",
       "<p>848835 rows × 17 columns</p>\n",
       "</div>"
      ],
      "text/plain": [
       "        row_id                time  x  y  congestion  EB  NB  NE  NW  SB  SE  \\\n",
       "0            0 1991-04-01 00:00:00  0  0          70   1   0   0   0   0   0   \n",
       "1            1 1991-04-01 00:00:00  0  0          49   0   1   0   0   0   0   \n",
       "2            2 1991-04-01 00:00:00  0  0          24   0   0   0   0   1   0   \n",
       "3            3 1991-04-01 00:00:00  0  1          18   1   0   0   0   0   0   \n",
       "4            4 1991-04-01 00:00:00  0  1          60   0   1   0   0   0   0   \n",
       "...        ...                 ... .. ..         ...  ..  ..  ..  ..  ..  ..   \n",
       "848830  848830 1991-09-30 11:40:00  2  3          54   0   1   0   0   0   0   \n",
       "848831  848831 1991-09-30 11:40:00  2  3          28   0   0   1   0   0   0   \n",
       "848832  848832 1991-09-30 11:40:00  2  3          68   0   0   0   0   1   0   \n",
       "848833  848833 1991-09-30 11:40:00  2  3          17   0   0   0   0   0   0   \n",
       "848834  848834 1991-09-30 11:40:00  2  3          24   0   0   0   0   0   0   \n",
       "\n",
       "        SW  WB   only_date only_time  timestamp  only_hour  \n",
       "0        0   0  1991-04-01  00:00:00  670464000          0  \n",
       "1        0   0  1991-04-01  00:00:00  670464000          0  \n",
       "2        0   0  1991-04-01  00:00:00  670464000          0  \n",
       "3        0   0  1991-04-01  00:00:00  670464000          0  \n",
       "4        0   0  1991-04-01  00:00:00  670464000          0  \n",
       "...     ..  ..         ...       ...        ...        ...  \n",
       "848830   0   0  1991-09-30  11:40:00  686230800         11  \n",
       "848831   0   0  1991-09-30  11:40:00  686230800         11  \n",
       "848832   0   0  1991-09-30  11:40:00  686230800         11  \n",
       "848833   1   0  1991-09-30  11:40:00  686230800         11  \n",
       "848834   0   1  1991-09-30  11:40:00  686230800         11  \n",
       "\n",
       "[848835 rows x 17 columns]"
      ]
     },
     "execution_count": 59,
     "metadata": {},
     "output_type": "execute_result"
    }
   ],
   "source": [
    "df_train['timestamp'] = df_train.time.values.astype(np.int64) // 10 ** 9\n",
    "df_train"
   ]
  },
  {
   "cell_type": "code",
   "execution_count": 60,
   "id": "36f8f92b",
   "metadata": {
    "ExecuteTime": {
     "end_time": "2022-03-16T18:45:59.053376Z",
     "start_time": "2022-03-16T18:45:59.026078Z"
    }
   },
   "outputs": [
    {
     "data": {
      "text/html": [
       "<div>\n",
       "<style scoped>\n",
       "    .dataframe tbody tr th:only-of-type {\n",
       "        vertical-align: middle;\n",
       "    }\n",
       "\n",
       "    .dataframe tbody tr th {\n",
       "        vertical-align: top;\n",
       "    }\n",
       "\n",
       "    .dataframe thead th {\n",
       "        text-align: right;\n",
       "    }\n",
       "</style>\n",
       "<table border=\"1\" class=\"dataframe\">\n",
       "  <thead>\n",
       "    <tr style=\"text-align: right;\">\n",
       "      <th></th>\n",
       "      <th>row_id</th>\n",
       "      <th>time</th>\n",
       "      <th>x</th>\n",
       "      <th>y</th>\n",
       "      <th>EB</th>\n",
       "      <th>NB</th>\n",
       "      <th>NE</th>\n",
       "      <th>NW</th>\n",
       "      <th>SB</th>\n",
       "      <th>SE</th>\n",
       "      <th>SW</th>\n",
       "      <th>WB</th>\n",
       "      <th>only_date</th>\n",
       "      <th>only_time</th>\n",
       "      <th>timestamp</th>\n",
       "      <th>only_hour</th>\n",
       "    </tr>\n",
       "  </thead>\n",
       "  <tbody>\n",
       "    <tr>\n",
       "      <th>0</th>\n",
       "      <td>848835</td>\n",
       "      <td>1991-09-30 12:00:00</td>\n",
       "      <td>0</td>\n",
       "      <td>0</td>\n",
       "      <td>1</td>\n",
       "      <td>0</td>\n",
       "      <td>0</td>\n",
       "      <td>0</td>\n",
       "      <td>0</td>\n",
       "      <td>0</td>\n",
       "      <td>0</td>\n",
       "      <td>0</td>\n",
       "      <td>1991-09-30</td>\n",
       "      <td>12:00:00</td>\n",
       "      <td>686232000</td>\n",
       "      <td>12</td>\n",
       "    </tr>\n",
       "    <tr>\n",
       "      <th>1</th>\n",
       "      <td>848836</td>\n",
       "      <td>1991-09-30 12:00:00</td>\n",
       "      <td>0</td>\n",
       "      <td>0</td>\n",
       "      <td>0</td>\n",
       "      <td>1</td>\n",
       "      <td>0</td>\n",
       "      <td>0</td>\n",
       "      <td>0</td>\n",
       "      <td>0</td>\n",
       "      <td>0</td>\n",
       "      <td>0</td>\n",
       "      <td>1991-09-30</td>\n",
       "      <td>12:00:00</td>\n",
       "      <td>686232000</td>\n",
       "      <td>12</td>\n",
       "    </tr>\n",
       "    <tr>\n",
       "      <th>2</th>\n",
       "      <td>848837</td>\n",
       "      <td>1991-09-30 12:00:00</td>\n",
       "      <td>0</td>\n",
       "      <td>0</td>\n",
       "      <td>0</td>\n",
       "      <td>0</td>\n",
       "      <td>0</td>\n",
       "      <td>0</td>\n",
       "      <td>1</td>\n",
       "      <td>0</td>\n",
       "      <td>0</td>\n",
       "      <td>0</td>\n",
       "      <td>1991-09-30</td>\n",
       "      <td>12:00:00</td>\n",
       "      <td>686232000</td>\n",
       "      <td>12</td>\n",
       "    </tr>\n",
       "    <tr>\n",
       "      <th>3</th>\n",
       "      <td>848838</td>\n",
       "      <td>1991-09-30 12:00:00</td>\n",
       "      <td>0</td>\n",
       "      <td>1</td>\n",
       "      <td>1</td>\n",
       "      <td>0</td>\n",
       "      <td>0</td>\n",
       "      <td>0</td>\n",
       "      <td>0</td>\n",
       "      <td>0</td>\n",
       "      <td>0</td>\n",
       "      <td>0</td>\n",
       "      <td>1991-09-30</td>\n",
       "      <td>12:00:00</td>\n",
       "      <td>686232000</td>\n",
       "      <td>12</td>\n",
       "    </tr>\n",
       "    <tr>\n",
       "      <th>4</th>\n",
       "      <td>848839</td>\n",
       "      <td>1991-09-30 12:00:00</td>\n",
       "      <td>0</td>\n",
       "      <td>1</td>\n",
       "      <td>0</td>\n",
       "      <td>1</td>\n",
       "      <td>0</td>\n",
       "      <td>0</td>\n",
       "      <td>0</td>\n",
       "      <td>0</td>\n",
       "      <td>0</td>\n",
       "      <td>0</td>\n",
       "      <td>1991-09-30</td>\n",
       "      <td>12:00:00</td>\n",
       "      <td>686232000</td>\n",
       "      <td>12</td>\n",
       "    </tr>\n",
       "    <tr>\n",
       "      <th>...</th>\n",
       "      <td>...</td>\n",
       "      <td>...</td>\n",
       "      <td>...</td>\n",
       "      <td>...</td>\n",
       "      <td>...</td>\n",
       "      <td>...</td>\n",
       "      <td>...</td>\n",
       "      <td>...</td>\n",
       "      <td>...</td>\n",
       "      <td>...</td>\n",
       "      <td>...</td>\n",
       "      <td>...</td>\n",
       "      <td>...</td>\n",
       "      <td>...</td>\n",
       "      <td>...</td>\n",
       "      <td>...</td>\n",
       "    </tr>\n",
       "    <tr>\n",
       "      <th>2335</th>\n",
       "      <td>851170</td>\n",
       "      <td>1991-09-30 23:40:00</td>\n",
       "      <td>2</td>\n",
       "      <td>3</td>\n",
       "      <td>0</td>\n",
       "      <td>1</td>\n",
       "      <td>0</td>\n",
       "      <td>0</td>\n",
       "      <td>0</td>\n",
       "      <td>0</td>\n",
       "      <td>0</td>\n",
       "      <td>0</td>\n",
       "      <td>1991-09-30</td>\n",
       "      <td>23:40:00</td>\n",
       "      <td>686274000</td>\n",
       "      <td>23</td>\n",
       "    </tr>\n",
       "    <tr>\n",
       "      <th>2336</th>\n",
       "      <td>851171</td>\n",
       "      <td>1991-09-30 23:40:00</td>\n",
       "      <td>2</td>\n",
       "      <td>3</td>\n",
       "      <td>0</td>\n",
       "      <td>0</td>\n",
       "      <td>1</td>\n",
       "      <td>0</td>\n",
       "      <td>0</td>\n",
       "      <td>0</td>\n",
       "      <td>0</td>\n",
       "      <td>0</td>\n",
       "      <td>1991-09-30</td>\n",
       "      <td>23:40:00</td>\n",
       "      <td>686274000</td>\n",
       "      <td>23</td>\n",
       "    </tr>\n",
       "    <tr>\n",
       "      <th>2337</th>\n",
       "      <td>851172</td>\n",
       "      <td>1991-09-30 23:40:00</td>\n",
       "      <td>2</td>\n",
       "      <td>3</td>\n",
       "      <td>0</td>\n",
       "      <td>0</td>\n",
       "      <td>0</td>\n",
       "      <td>0</td>\n",
       "      <td>1</td>\n",
       "      <td>0</td>\n",
       "      <td>0</td>\n",
       "      <td>0</td>\n",
       "      <td>1991-09-30</td>\n",
       "      <td>23:40:00</td>\n",
       "      <td>686274000</td>\n",
       "      <td>23</td>\n",
       "    </tr>\n",
       "    <tr>\n",
       "      <th>2338</th>\n",
       "      <td>851173</td>\n",
       "      <td>1991-09-30 23:40:00</td>\n",
       "      <td>2</td>\n",
       "      <td>3</td>\n",
       "      <td>0</td>\n",
       "      <td>0</td>\n",
       "      <td>0</td>\n",
       "      <td>0</td>\n",
       "      <td>0</td>\n",
       "      <td>0</td>\n",
       "      <td>1</td>\n",
       "      <td>0</td>\n",
       "      <td>1991-09-30</td>\n",
       "      <td>23:40:00</td>\n",
       "      <td>686274000</td>\n",
       "      <td>23</td>\n",
       "    </tr>\n",
       "    <tr>\n",
       "      <th>2339</th>\n",
       "      <td>851174</td>\n",
       "      <td>1991-09-30 23:40:00</td>\n",
       "      <td>2</td>\n",
       "      <td>3</td>\n",
       "      <td>0</td>\n",
       "      <td>0</td>\n",
       "      <td>0</td>\n",
       "      <td>0</td>\n",
       "      <td>0</td>\n",
       "      <td>0</td>\n",
       "      <td>0</td>\n",
       "      <td>1</td>\n",
       "      <td>1991-09-30</td>\n",
       "      <td>23:40:00</td>\n",
       "      <td>686274000</td>\n",
       "      <td>23</td>\n",
       "    </tr>\n",
       "  </tbody>\n",
       "</table>\n",
       "<p>2340 rows × 16 columns</p>\n",
       "</div>"
      ],
      "text/plain": [
       "      row_id                time  x  y  EB  NB  NE  NW  SB  SE  SW  WB  \\\n",
       "0     848835 1991-09-30 12:00:00  0  0   1   0   0   0   0   0   0   0   \n",
       "1     848836 1991-09-30 12:00:00  0  0   0   1   0   0   0   0   0   0   \n",
       "2     848837 1991-09-30 12:00:00  0  0   0   0   0   0   1   0   0   0   \n",
       "3     848838 1991-09-30 12:00:00  0  1   1   0   0   0   0   0   0   0   \n",
       "4     848839 1991-09-30 12:00:00  0  1   0   1   0   0   0   0   0   0   \n",
       "...      ...                 ... .. ..  ..  ..  ..  ..  ..  ..  ..  ..   \n",
       "2335  851170 1991-09-30 23:40:00  2  3   0   1   0   0   0   0   0   0   \n",
       "2336  851171 1991-09-30 23:40:00  2  3   0   0   1   0   0   0   0   0   \n",
       "2337  851172 1991-09-30 23:40:00  2  3   0   0   0   0   1   0   0   0   \n",
       "2338  851173 1991-09-30 23:40:00  2  3   0   0   0   0   0   0   1   0   \n",
       "2339  851174 1991-09-30 23:40:00  2  3   0   0   0   0   0   0   0   1   \n",
       "\n",
       "       only_date only_time  timestamp  only_hour  \n",
       "0     1991-09-30  12:00:00  686232000         12  \n",
       "1     1991-09-30  12:00:00  686232000         12  \n",
       "2     1991-09-30  12:00:00  686232000         12  \n",
       "3     1991-09-30  12:00:00  686232000         12  \n",
       "4     1991-09-30  12:00:00  686232000         12  \n",
       "...          ...       ...        ...        ...  \n",
       "2335  1991-09-30  23:40:00  686274000         23  \n",
       "2336  1991-09-30  23:40:00  686274000         23  \n",
       "2337  1991-09-30  23:40:00  686274000         23  \n",
       "2338  1991-09-30  23:40:00  686274000         23  \n",
       "2339  1991-09-30  23:40:00  686274000         23  \n",
       "\n",
       "[2340 rows x 16 columns]"
      ]
     },
     "execution_count": 60,
     "metadata": {},
     "output_type": "execute_result"
    }
   ],
   "source": [
    "df_test['timestamp'] = df_test.time.values.astype(np.int64) // 10 ** 9\n",
    "df_test"
   ]
  },
  {
   "cell_type": "code",
   "execution_count": 33,
   "id": "cefd5e32",
   "metadata": {
    "ExecuteTime": {
     "end_time": "2022-03-16T18:40:34.344552Z",
     "start_time": "2022-03-16T18:40:34.332802Z"
    }
   },
   "outputs": [
    {
     "data": {
      "text/plain": [
       "13059"
      ]
     },
     "execution_count": 33,
     "metadata": {},
     "output_type": "execute_result"
    }
   ],
   "source": [
    "df_train['timestamp'].nunique()"
   ]
  },
  {
   "cell_type": "code",
   "execution_count": 34,
   "id": "68caf731",
   "metadata": {
    "ExecuteTime": {
     "end_time": "2022-03-16T18:40:34.351795Z",
     "start_time": "2022-03-16T18:40:34.347837Z"
    }
   },
   "outputs": [
    {
     "data": {
      "text/plain": [
       "36"
      ]
     },
     "execution_count": 34,
     "metadata": {},
     "output_type": "execute_result"
    }
   ],
   "source": [
    "df_test['timestamp'].nunique()"
   ]
  },
  {
   "cell_type": "markdown",
   "id": "3ed2dec4",
   "metadata": {},
   "source": [
    "### Checking column correlations"
   ]
  },
  {
   "cell_type": "code",
   "execution_count": 61,
   "id": "60dbdc8a",
   "metadata": {
    "ExecuteTime": {
     "end_time": "2022-03-16T18:46:02.145121Z",
     "start_time": "2022-03-16T18:46:01.358044Z"
    }
   },
   "outputs": [
    {
     "data": {
      "text/html": [
       "<div>\n",
       "<style scoped>\n",
       "    .dataframe tbody tr th:only-of-type {\n",
       "        vertical-align: middle;\n",
       "    }\n",
       "\n",
       "    .dataframe tbody tr th {\n",
       "        vertical-align: top;\n",
       "    }\n",
       "\n",
       "    .dataframe thead th {\n",
       "        text-align: right;\n",
       "    }\n",
       "</style>\n",
       "<table border=\"1\" class=\"dataframe\">\n",
       "  <thead>\n",
       "    <tr style=\"text-align: right;\">\n",
       "      <th></th>\n",
       "      <th>row_id</th>\n",
       "      <th>x</th>\n",
       "      <th>y</th>\n",
       "      <th>congestion</th>\n",
       "      <th>EB</th>\n",
       "      <th>NB</th>\n",
       "      <th>NE</th>\n",
       "      <th>NW</th>\n",
       "      <th>SB</th>\n",
       "      <th>SE</th>\n",
       "      <th>SW</th>\n",
       "      <th>WB</th>\n",
       "      <th>timestamp</th>\n",
       "      <th>only_hour</th>\n",
       "    </tr>\n",
       "  </thead>\n",
       "  <tbody>\n",
       "    <tr>\n",
       "      <th>row_id</th>\n",
       "      <td>1.000000</td>\n",
       "      <td>7.167761e-05</td>\n",
       "      <td>2.184311e-05</td>\n",
       "      <td>0.003324</td>\n",
       "      <td>-1.148939e-05</td>\n",
       "      <td>-9.547525e-06</td>\n",
       "      <td>6.278646e-06</td>\n",
       "      <td>1.308834e-05</td>\n",
       "      <td>-6.149253e-06</td>\n",
       "      <td>1.454260e-05</td>\n",
       "      <td>9.924312e-06</td>\n",
       "      <td>2.009349e-06</td>\n",
       "      <td>9.999970e-01</td>\n",
       "      <td>1.629942e-03</td>\n",
       "    </tr>\n",
       "    <tr>\n",
       "      <th>x</th>\n",
       "      <td>0.000072</td>\n",
       "      <td>1.000000e+00</td>\n",
       "      <td>-4.716851e-02</td>\n",
       "      <td>0.049721</td>\n",
       "      <td>-8.220349e-02</td>\n",
       "      <td>-8.220349e-02</td>\n",
       "      <td>6.382736e-02</td>\n",
       "      <td>1.915260e-01</td>\n",
       "      <td>-8.220349e-02</td>\n",
       "      <td>1.915260e-01</td>\n",
       "      <td>6.382736e-02</td>\n",
       "      <td>-2.677816e-02</td>\n",
       "      <td>1.018906e-18</td>\n",
       "      <td>1.512817e-17</td>\n",
       "    </tr>\n",
       "    <tr>\n",
       "      <th>y</th>\n",
       "      <td>0.000022</td>\n",
       "      <td>-4.716851e-02</td>\n",
       "      <td>1.000000e+00</td>\n",
       "      <td>-0.094124</td>\n",
       "      <td>-5.711885e-02</td>\n",
       "      <td>-5.711885e-02</td>\n",
       "      <td>1.177482e-01</td>\n",
       "      <td>-2.138806e-02</td>\n",
       "      <td>-5.711885e-02</td>\n",
       "      <td>-2.138806e-02</td>\n",
       "      <td>1.177482e-01</td>\n",
       "      <td>2.317793e-03</td>\n",
       "      <td>-8.866114e-20</td>\n",
       "      <td>3.860121e-17</td>\n",
       "    </tr>\n",
       "    <tr>\n",
       "      <th>congestion</th>\n",
       "      <td>0.003324</td>\n",
       "      <td>4.972085e-02</td>\n",
       "      <td>-9.412365e-02</td>\n",
       "      <td>1.000000</td>\n",
       "      <td>4.973370e-02</td>\n",
       "      <td>1.143908e-01</td>\n",
       "      <td>-1.622117e-01</td>\n",
       "      <td>-2.187634e-01</td>\n",
       "      <td>1.671426e-01</td>\n",
       "      <td>-1.374077e-01</td>\n",
       "      <td>-1.198540e-01</td>\n",
       "      <td>5.445736e-02</td>\n",
       "      <td>3.322576e-03</td>\n",
       "      <td>1.463255e-01</td>\n",
       "    </tr>\n",
       "    <tr>\n",
       "      <th>EB</th>\n",
       "      <td>-0.000011</td>\n",
       "      <td>-8.220349e-02</td>\n",
       "      <td>-5.711885e-02</td>\n",
       "      <td>0.049734</td>\n",
       "      <td>1.000000e+00</td>\n",
       "      <td>-2.264151e-01</td>\n",
       "      <td>-1.653057e-01</td>\n",
       "      <td>-8.478078e-02</td>\n",
       "      <td>-2.264151e-01</td>\n",
       "      <td>-8.478078e-02</td>\n",
       "      <td>-1.653057e-01</td>\n",
       "      <td>-2.147594e-01</td>\n",
       "      <td>-3.220678e-19</td>\n",
       "      <td>-8.940525e-18</td>\n",
       "    </tr>\n",
       "    <tr>\n",
       "      <th>NB</th>\n",
       "      <td>-0.000010</td>\n",
       "      <td>-8.220349e-02</td>\n",
       "      <td>-5.711885e-02</td>\n",
       "      <td>0.114391</td>\n",
       "      <td>-2.264151e-01</td>\n",
       "      <td>1.000000e+00</td>\n",
       "      <td>-1.653057e-01</td>\n",
       "      <td>-8.478078e-02</td>\n",
       "      <td>-2.264151e-01</td>\n",
       "      <td>-8.478078e-02</td>\n",
       "      <td>-1.653057e-01</td>\n",
       "      <td>-2.147594e-01</td>\n",
       "      <td>2.977960e-19</td>\n",
       "      <td>-1.236155e-17</td>\n",
       "    </tr>\n",
       "    <tr>\n",
       "      <th>NE</th>\n",
       "      <td>0.000006</td>\n",
       "      <td>6.382736e-02</td>\n",
       "      <td>1.177482e-01</td>\n",
       "      <td>-0.162212</td>\n",
       "      <td>-1.653057e-01</td>\n",
       "      <td>-1.653057e-01</td>\n",
       "      <td>1.000000e+00</td>\n",
       "      <td>-6.189845e-02</td>\n",
       "      <td>-1.653057e-01</td>\n",
       "      <td>-6.189845e-02</td>\n",
       "      <td>-1.206897e-01</td>\n",
       "      <td>-1.567958e-01</td>\n",
       "      <td>7.263590e-20</td>\n",
       "      <td>1.393841e-17</td>\n",
       "    </tr>\n",
       "    <tr>\n",
       "      <th>NW</th>\n",
       "      <td>0.000013</td>\n",
       "      <td>1.915260e-01</td>\n",
       "      <td>-2.138806e-02</td>\n",
       "      <td>-0.218763</td>\n",
       "      <td>-8.478078e-02</td>\n",
       "      <td>-8.478078e-02</td>\n",
       "      <td>-6.189845e-02</td>\n",
       "      <td>1.000000e+00</td>\n",
       "      <td>-8.478078e-02</td>\n",
       "      <td>-3.174603e-02</td>\n",
       "      <td>-6.189845e-02</td>\n",
       "      <td>-8.041632e-02</td>\n",
       "      <td>-1.409596e-19</td>\n",
       "      <td>1.887935e-17</td>\n",
       "    </tr>\n",
       "    <tr>\n",
       "      <th>SB</th>\n",
       "      <td>-0.000006</td>\n",
       "      <td>-8.220349e-02</td>\n",
       "      <td>-5.711885e-02</td>\n",
       "      <td>0.167143</td>\n",
       "      <td>-2.264151e-01</td>\n",
       "      <td>-2.264151e-01</td>\n",
       "      <td>-1.653057e-01</td>\n",
       "      <td>-8.478078e-02</td>\n",
       "      <td>1.000000e+00</td>\n",
       "      <td>-8.478078e-02</td>\n",
       "      <td>-1.653057e-01</td>\n",
       "      <td>-2.147594e-01</td>\n",
       "      <td>-1.366065e-19</td>\n",
       "      <td>-7.197731e-18</td>\n",
       "    </tr>\n",
       "    <tr>\n",
       "      <th>SE</th>\n",
       "      <td>0.000015</td>\n",
       "      <td>1.915260e-01</td>\n",
       "      <td>-2.138806e-02</td>\n",
       "      <td>-0.137408</td>\n",
       "      <td>-8.478078e-02</td>\n",
       "      <td>-8.478078e-02</td>\n",
       "      <td>-6.189845e-02</td>\n",
       "      <td>-3.174603e-02</td>\n",
       "      <td>-8.478078e-02</td>\n",
       "      <td>1.000000e+00</td>\n",
       "      <td>-6.189845e-02</td>\n",
       "      <td>-8.041632e-02</td>\n",
       "      <td>1.107227e-19</td>\n",
       "      <td>1.826799e-17</td>\n",
       "    </tr>\n",
       "    <tr>\n",
       "      <th>SW</th>\n",
       "      <td>0.000010</td>\n",
       "      <td>6.382736e-02</td>\n",
       "      <td>1.177482e-01</td>\n",
       "      <td>-0.119854</td>\n",
       "      <td>-1.653057e-01</td>\n",
       "      <td>-1.653057e-01</td>\n",
       "      <td>-1.206897e-01</td>\n",
       "      <td>-6.189845e-02</td>\n",
       "      <td>-1.653057e-01</td>\n",
       "      <td>-6.189845e-02</td>\n",
       "      <td>1.000000e+00</td>\n",
       "      <td>-1.567958e-01</td>\n",
       "      <td>1.384561e-19</td>\n",
       "      <td>2.247839e-17</td>\n",
       "    </tr>\n",
       "    <tr>\n",
       "      <th>WB</th>\n",
       "      <td>0.000002</td>\n",
       "      <td>-2.677816e-02</td>\n",
       "      <td>2.317793e-03</td>\n",
       "      <td>0.054457</td>\n",
       "      <td>-2.147594e-01</td>\n",
       "      <td>-2.147594e-01</td>\n",
       "      <td>-1.567958e-01</td>\n",
       "      <td>-8.041632e-02</td>\n",
       "      <td>-2.147594e-01</td>\n",
       "      <td>-8.041632e-02</td>\n",
       "      <td>-1.567958e-01</td>\n",
       "      <td>1.000000e+00</td>\n",
       "      <td>3.348695e-20</td>\n",
       "      <td>-1.455929e-19</td>\n",
       "    </tr>\n",
       "    <tr>\n",
       "      <th>timestamp</th>\n",
       "      <td>0.999997</td>\n",
       "      <td>1.018906e-18</td>\n",
       "      <td>-8.866114e-20</td>\n",
       "      <td>0.003323</td>\n",
       "      <td>-3.220678e-19</td>\n",
       "      <td>2.977960e-19</td>\n",
       "      <td>7.263590e-20</td>\n",
       "      <td>-1.409596e-19</td>\n",
       "      <td>-1.366065e-19</td>\n",
       "      <td>1.107227e-19</td>\n",
       "      <td>1.384561e-19</td>\n",
       "      <td>3.348695e-20</td>\n",
       "      <td>1.000000e+00</td>\n",
       "      <td>1.622604e-03</td>\n",
       "    </tr>\n",
       "    <tr>\n",
       "      <th>only_hour</th>\n",
       "      <td>0.001630</td>\n",
       "      <td>1.512817e-17</td>\n",
       "      <td>3.860121e-17</td>\n",
       "      <td>0.146326</td>\n",
       "      <td>-8.940525e-18</td>\n",
       "      <td>-1.236155e-17</td>\n",
       "      <td>1.393841e-17</td>\n",
       "      <td>1.887935e-17</td>\n",
       "      <td>-7.197731e-18</td>\n",
       "      <td>1.826799e-17</td>\n",
       "      <td>2.247839e-17</td>\n",
       "      <td>-1.455929e-19</td>\n",
       "      <td>1.622604e-03</td>\n",
       "      <td>1.000000e+00</td>\n",
       "    </tr>\n",
       "  </tbody>\n",
       "</table>\n",
       "</div>"
      ],
      "text/plain": [
       "              row_id             x             y  congestion            EB  \\\n",
       "row_id      1.000000  7.167761e-05  2.184311e-05    0.003324 -1.148939e-05   \n",
       "x           0.000072  1.000000e+00 -4.716851e-02    0.049721 -8.220349e-02   \n",
       "y           0.000022 -4.716851e-02  1.000000e+00   -0.094124 -5.711885e-02   \n",
       "congestion  0.003324  4.972085e-02 -9.412365e-02    1.000000  4.973370e-02   \n",
       "EB         -0.000011 -8.220349e-02 -5.711885e-02    0.049734  1.000000e+00   \n",
       "NB         -0.000010 -8.220349e-02 -5.711885e-02    0.114391 -2.264151e-01   \n",
       "NE          0.000006  6.382736e-02  1.177482e-01   -0.162212 -1.653057e-01   \n",
       "NW          0.000013  1.915260e-01 -2.138806e-02   -0.218763 -8.478078e-02   \n",
       "SB         -0.000006 -8.220349e-02 -5.711885e-02    0.167143 -2.264151e-01   \n",
       "SE          0.000015  1.915260e-01 -2.138806e-02   -0.137408 -8.478078e-02   \n",
       "SW          0.000010  6.382736e-02  1.177482e-01   -0.119854 -1.653057e-01   \n",
       "WB          0.000002 -2.677816e-02  2.317793e-03    0.054457 -2.147594e-01   \n",
       "timestamp   0.999997  1.018906e-18 -8.866114e-20    0.003323 -3.220678e-19   \n",
       "only_hour   0.001630  1.512817e-17  3.860121e-17    0.146326 -8.940525e-18   \n",
       "\n",
       "                      NB            NE            NW            SB  \\\n",
       "row_id     -9.547525e-06  6.278646e-06  1.308834e-05 -6.149253e-06   \n",
       "x          -8.220349e-02  6.382736e-02  1.915260e-01 -8.220349e-02   \n",
       "y          -5.711885e-02  1.177482e-01 -2.138806e-02 -5.711885e-02   \n",
       "congestion  1.143908e-01 -1.622117e-01 -2.187634e-01  1.671426e-01   \n",
       "EB         -2.264151e-01 -1.653057e-01 -8.478078e-02 -2.264151e-01   \n",
       "NB          1.000000e+00 -1.653057e-01 -8.478078e-02 -2.264151e-01   \n",
       "NE         -1.653057e-01  1.000000e+00 -6.189845e-02 -1.653057e-01   \n",
       "NW         -8.478078e-02 -6.189845e-02  1.000000e+00 -8.478078e-02   \n",
       "SB         -2.264151e-01 -1.653057e-01 -8.478078e-02  1.000000e+00   \n",
       "SE         -8.478078e-02 -6.189845e-02 -3.174603e-02 -8.478078e-02   \n",
       "SW         -1.653057e-01 -1.206897e-01 -6.189845e-02 -1.653057e-01   \n",
       "WB         -2.147594e-01 -1.567958e-01 -8.041632e-02 -2.147594e-01   \n",
       "timestamp   2.977960e-19  7.263590e-20 -1.409596e-19 -1.366065e-19   \n",
       "only_hour  -1.236155e-17  1.393841e-17  1.887935e-17 -7.197731e-18   \n",
       "\n",
       "                      SE            SW            WB     timestamp  \\\n",
       "row_id      1.454260e-05  9.924312e-06  2.009349e-06  9.999970e-01   \n",
       "x           1.915260e-01  6.382736e-02 -2.677816e-02  1.018906e-18   \n",
       "y          -2.138806e-02  1.177482e-01  2.317793e-03 -8.866114e-20   \n",
       "congestion -1.374077e-01 -1.198540e-01  5.445736e-02  3.322576e-03   \n",
       "EB         -8.478078e-02 -1.653057e-01 -2.147594e-01 -3.220678e-19   \n",
       "NB         -8.478078e-02 -1.653057e-01 -2.147594e-01  2.977960e-19   \n",
       "NE         -6.189845e-02 -1.206897e-01 -1.567958e-01  7.263590e-20   \n",
       "NW         -3.174603e-02 -6.189845e-02 -8.041632e-02 -1.409596e-19   \n",
       "SB         -8.478078e-02 -1.653057e-01 -2.147594e-01 -1.366065e-19   \n",
       "SE          1.000000e+00 -6.189845e-02 -8.041632e-02  1.107227e-19   \n",
       "SW         -6.189845e-02  1.000000e+00 -1.567958e-01  1.384561e-19   \n",
       "WB         -8.041632e-02 -1.567958e-01  1.000000e+00  3.348695e-20   \n",
       "timestamp   1.107227e-19  1.384561e-19  3.348695e-20  1.000000e+00   \n",
       "only_hour   1.826799e-17  2.247839e-17 -1.455929e-19  1.622604e-03   \n",
       "\n",
       "               only_hour  \n",
       "row_id      1.629942e-03  \n",
       "x           1.512817e-17  \n",
       "y           3.860121e-17  \n",
       "congestion  1.463255e-01  \n",
       "EB         -8.940525e-18  \n",
       "NB         -1.236155e-17  \n",
       "NE          1.393841e-17  \n",
       "NW          1.887935e-17  \n",
       "SB         -7.197731e-18  \n",
       "SE          1.826799e-17  \n",
       "SW          2.247839e-17  \n",
       "WB         -1.455929e-19  \n",
       "timestamp   1.622604e-03  \n",
       "only_hour   1.000000e+00  "
      ]
     },
     "execution_count": 61,
     "metadata": {},
     "output_type": "execute_result"
    }
   ],
   "source": [
    "df_train.corr()"
   ]
  },
  {
   "cell_type": "code",
   "execution_count": 36,
   "id": "f0159826",
   "metadata": {
    "ExecuteTime": {
     "end_time": "2022-03-16T18:40:34.965091Z",
     "start_time": "2022-03-16T18:40:34.962972Z"
    }
   },
   "outputs": [],
   "source": [
    "#TODO: more conversions, work with time columns later"
   ]
  },
  {
   "cell_type": "code",
   "execution_count": 45,
   "id": "81f85939",
   "metadata": {
    "ExecuteTime": {
     "end_time": "2022-03-16T18:40:59.117755Z",
     "start_time": "2022-03-16T18:40:59.007419Z"
    }
   },
   "outputs": [],
   "source": [
    "import seaborn as sns\n"
   ]
  },
  {
   "cell_type": "code",
   "execution_count": null,
   "id": "7dead555",
   "metadata": {
    "ExecuteTime": {
     "end_time": "2022-03-16T18:42:54.429967Z",
     "start_time": "2022-03-16T18:42:52.712Z"
    }
   },
   "outputs": [],
   "source": [
    "# sns.pairplot(df_train, hue='congestion')"
   ]
  },
  {
   "cell_type": "code",
   "execution_count": 50,
   "id": "81384c22",
   "metadata": {
    "ExecuteTime": {
     "end_time": "2022-03-16T18:43:39.629309Z",
     "start_time": "2022-03-16T18:43:18.791558Z"
    }
   },
   "outputs": [
    {
     "data": {
      "text/plain": [
       "<seaborn.axisgrid.PairGrid at 0x7f8b0ce33e50>"
      ]
     },
     "execution_count": 50,
     "metadata": {},
     "output_type": "execute_result"
    },
    {
     "data": {
      "image/png": "[encoded data removed]",
      "text/plain": [
       "<Figure size 422.75x360 with 6 Axes>"
      ]
     },
     "metadata": {
      "needs_background": "light"
     },
     "output_type": "display_data"
    }
   ],
   "source": [
    "sns.pairplot(df_train[['x', 'y', 'congestion']], hue='congestion')"
   ]
  },
  {
   "cell_type": "markdown",
   "id": "b8f429c5",
   "metadata": {},
   "source": [
    "## Selecting columns"
   ]
  },
  {
   "cell_type": "code",
   "execution_count": 37,
   "id": "5024f6bc",
   "metadata": {
    "ExecuteTime": {
     "end_time": "2022-03-16T18:40:34.976333Z",
     "start_time": "2022-03-16T18:40:34.967673Z"
    }
   },
   "outputs": [],
   "source": [
    "#selecting columns, excluding the time column at first:"
   ]
  },
  {
   "cell_type": "code",
   "execution_count": 38,
   "id": "06ddbd2f",
   "metadata": {
    "ExecuteTime": {
     "end_time": "2022-03-16T18:40:35.055254Z",
     "start_time": "2022-03-16T18:40:34.979229Z"
    }
   },
   "outputs": [],
   "source": [
    "y_train = df_train['congestion'].to_numpy()\n",
    "# X_train = df_train.drop(columns=['row_id', 'only_date', 'only_time', 'time', 'congestion']).to_numpy()\n",
    "X_train = df_train.drop(columns=['row_id', 'only_date', 'only_time', 'time', 'congestion', 'timestamp']).to_numpy()"
   ]
  },
  {
   "cell_type": "code",
   "execution_count": 62,
   "id": "4ffd95e6",
   "metadata": {
    "ExecuteTime": {
     "end_time": "2022-03-16T18:46:50.081843Z",
     "start_time": "2022-03-16T18:46:50.074303Z"
    }
   },
   "outputs": [],
   "source": [
    "# X_test = df_test.drop(columns=['row_id', 'only_date', 'only_time', 'time']).to_numpy()\n",
    "X_test = df_test.drop(columns=['row_id', 'only_date', 'only_time', 'time', 'timestamp']).to_numpy()"
   ]
  },
  {
   "cell_type": "code",
   "execution_count": 64,
   "id": "e8f52ec4",
   "metadata": {
    "ExecuteTime": {
     "end_time": "2022-03-16T18:46:53.338824Z",
     "start_time": "2022-03-16T18:46:53.332887Z"
    }
   },
   "outputs": [
    {
     "name": "stdout",
     "output_type": "stream",
     "text": [
      "train shapes: (848835, 11) (848835,)\n",
      "test shapes: (2340, 11)\n"
     ]
    }
   ],
   "source": [
    "print(\"train shapes:\", X_train.shape, y_train.shape)\n",
    "print(\"test shapes:\", X_test.shape)"
   ]
  },
  {
   "cell_type": "markdown",
   "id": "2b456929",
   "metadata": {},
   "source": [
    "## Model training"
   ]
  },
  {
   "cell_type": "markdown",
   "id": "9b8836dc",
   "metadata": {},
   "source": [
    "### Linear regression"
   ]
  },
  {
   "cell_type": "code",
   "execution_count": 94,
   "id": "97a7ae81",
   "metadata": {
    "ExecuteTime": {
     "end_time": "2022-03-16T18:56:46.531147Z",
     "start_time": "2022-03-16T18:56:46.527601Z"
    }
   },
   "outputs": [],
   "source": [
    "# TODO later: train validation split"
   ]
  },
  {
   "cell_type": "code",
   "execution_count": 95,
   "id": "fa50fd7b",
   "metadata": {
    "ExecuteTime": {
     "end_time": "2022-03-16T18:56:47.164885Z",
     "start_time": "2022-03-16T18:56:46.695385Z"
    }
   },
   "outputs": [],
   "source": [
    "from sklearn.linear_model import LinearRegression\n",
    "\n",
    "reg = LinearRegression().fit(X_train, y_train)"
   ]
  },
  {
   "cell_type": "code",
   "execution_count": 96,
   "id": "372685ba",
   "metadata": {
    "ExecuteTime": {
     "end_time": "2022-03-16T18:56:47.173456Z",
     "start_time": "2022-03-16T18:56:47.167892Z"
    }
   },
   "outputs": [],
   "source": [
    "y_pred_test = reg.predict(X_test)"
   ]
  },
  {
   "cell_type": "code",
   "execution_count": 97,
   "id": "1289ebb6",
   "metadata": {
    "ExecuteTime": {
     "end_time": "2022-03-16T18:56:47.183807Z",
     "start_time": "2022-03-16T18:56:47.177647Z"
    }
   },
   "outputs": [
    {
     "data": {
      "text/plain": [
       "array([38.80486838, 41.08761081, 42.95003009, ..., 47.81735261,\n",
       "       35.47738423, 43.72206759])"
      ]
     },
     "execution_count": 97,
     "metadata": {},
     "output_type": "execute_result"
    }
   ],
   "source": [
    "y_pred_test"
   ]
  },
  {
   "cell_type": "markdown",
   "id": "2c79208c",
   "metadata": {},
   "source": [
    "### Lasso Regression"
   ]
  },
  {
   "cell_type": "code",
   "execution_count": 98,
   "id": "cdf699d4",
   "metadata": {
    "ExecuteTime": {
     "end_time": "2022-03-16T18:56:47.888702Z",
     "start_time": "2022-03-16T18:56:47.450317Z"
    }
   },
   "outputs": [],
   "source": [
    "from sklearn import linear_model\n",
    "\n",
    "#TODO: tune alpha param\n",
    "clf = linear_model.Lasso(alpha=0.1)\n",
    "clf = clf.fit(X_train, y_train)\n",
    "y_pred_test_lasso = clf.predict(X_test)"
   ]
  },
  {
   "cell_type": "code",
   "execution_count": 99,
   "id": "d41480ae",
   "metadata": {
    "ExecuteTime": {
     "end_time": "2022-03-16T18:56:47.920304Z",
     "start_time": "2022-03-16T18:56:47.908259Z"
    }
   },
   "outputs": [
    {
     "data": {
      "text/plain": [
       "array([38.89011529, 41.17289117, 43.03530752, ..., 46.64876931,\n",
       "       35.95938126, 42.56122492])"
      ]
     },
     "execution_count": 99,
     "metadata": {},
     "output_type": "execute_result"
    }
   ],
   "source": [
    "y_pred_test_lasso"
   ]
  },
  {
   "cell_type": "code",
   "execution_count": null,
   "id": "5004dc35",
   "metadata": {},
   "outputs": [],
   "source": []
  },
  {
   "cell_type": "markdown",
   "id": "dc65c773",
   "metadata": {},
   "source": [
    "### Ridge Regression"
   ]
  },
  {
   "cell_type": "code",
   "execution_count": 100,
   "id": "d7ad1665",
   "metadata": {
    "ExecuteTime": {
     "end_time": "2022-03-16T18:56:48.909379Z",
     "start_time": "2022-03-16T18:56:48.665905Z"
    }
   },
   "outputs": [
    {
     "name": "stderr",
     "output_type": "stream",
     "text": [
      "/home/mdiannna/.local/lib/python3.8/site-packages/sklearn/linear_model/_ridge.py:147: LinAlgWarning: Ill-conditioned matrix (rcond=5.70594e-20): result may not be accurate.\n",
      "  return linalg.solve(A, Xy, sym_pos=True,\n"
     ]
    }
   ],
   "source": [
    "from sklearn import linear_model\n",
    "\n",
    "#TODO: tune alpha param\n",
    "clf = linear_model.Ridge()\n",
    "clf = clf.fit(X_train, y_train)\n",
    "y_pred_test_ridge = clf.predict(X_test)\n"
   ]
  },
  {
   "cell_type": "code",
   "execution_count": 101,
   "id": "f001744e",
   "metadata": {
    "ExecuteTime": {
     "end_time": "2022-03-16T18:56:48.916101Z",
     "start_time": "2022-03-16T18:56:48.911513Z"
    }
   },
   "outputs": [
    {
     "data": {
      "text/plain": [
       "array([38.80489923, 41.08762709, 42.95003448, ..., 47.81720548,\n",
       "       35.47734316, 43.72194938])"
      ]
     },
     "execution_count": 101,
     "metadata": {},
     "output_type": "execute_result"
    }
   ],
   "source": [
    "y_pred_test_ridge"
   ]
  },
  {
   "cell_type": "markdown",
   "id": "f2da2968",
   "metadata": {},
   "source": [
    "### ElasticNet Regression"
   ]
  },
  {
   "cell_type": "code",
   "execution_count": 102,
   "id": "c6694c77",
   "metadata": {
    "ExecuteTime": {
     "end_time": "2022-03-16T18:56:50.102377Z",
     "start_time": "2022-03-16T18:56:49.285844Z"
    }
   },
   "outputs": [],
   "source": [
    "reg = linear_model.ElasticNet(alpha=.1)\n",
    "\n",
    "reg = reg.fit(X_train, y_train)\n",
    "y_pred_test_elasticnet = reg.predict(X_test)\n"
   ]
  },
  {
   "cell_type": "code",
   "execution_count": 103,
   "id": "67ca0649",
   "metadata": {
    "ExecuteTime": {
     "end_time": "2022-03-16T18:56:50.108545Z",
     "start_time": "2022-03-16T18:56:50.103885Z"
    }
   },
   "outputs": [
    {
     "data": {
      "text/plain": [
       "array([39.50949604, 41.30584281, 42.7714735 , ..., 44.07867862,\n",
       "       35.68432391, 40.90497305])"
      ]
     },
     "execution_count": 103,
     "metadata": {},
     "output_type": "execute_result"
    }
   ],
   "source": [
    "y_pred_test_elasticnet"
   ]
  },
  {
   "cell_type": "markdown",
   "id": "0bdddd29",
   "metadata": {},
   "source": [
    "### LARS"
   ]
  },
  {
   "cell_type": "code",
   "execution_count": 104,
   "id": "b5a7120b",
   "metadata": {
    "ExecuteTime": {
     "end_time": "2022-03-16T18:56:50.594679Z",
     "start_time": "2022-03-16T18:56:50.440822Z"
    }
   },
   "outputs": [],
   "source": [
    "reg = linear_model.LassoLars(alpha=.1, normalize=False)\n",
    "\n",
    "reg = reg.fit(X_train, y_train)\n",
    "y_pred_test_lars = reg.predict(X_test)\n"
   ]
  },
  {
   "cell_type": "code",
   "execution_count": 105,
   "id": "48456e09",
   "metadata": {
    "ExecuteTime": {
     "end_time": "2022-03-16T18:56:50.812298Z",
     "start_time": "2022-03-16T18:56:50.805938Z"
    }
   },
   "outputs": [
    {
     "data": {
      "text/plain": [
       "array([38.8900379 , 41.17278032, 43.0351996 , ..., 46.64885601,\n",
       "       35.95946467, 42.56131339])"
      ]
     },
     "execution_count": 105,
     "metadata": {},
     "output_type": "execute_result"
    }
   ],
   "source": [
    "y_pred_test_lars"
   ]
  },
  {
   "cell_type": "markdown",
   "id": "b331c923",
   "metadata": {},
   "source": [
    "## Evaluate model"
   ]
  },
  {
   "cell_type": "code",
   "execution_count": 77,
   "id": "8d34d0fb",
   "metadata": {
    "ExecuteTime": {
     "end_time": "2022-03-16T18:49:13.038552Z",
     "start_time": "2022-03-16T18:49:13.035077Z"
    }
   },
   "outputs": [],
   "source": [
    "#TODO: train val split first\n",
    "# reg.score(X_val, y_val) "
   ]
  },
  {
   "cell_type": "code",
   "execution_count": null,
   "id": "3c73a5ca",
   "metadata": {},
   "outputs": [],
   "source": [
    "#TODO"
   ]
  },
  {
   "cell_type": "code",
   "execution_count": null,
   "id": "5e905ee1",
   "metadata": {},
   "outputs": [],
   "source": []
  },
  {
   "cell_type": "markdown",
   "id": "0590a892",
   "metadata": {},
   "source": [
    "## Submission of results"
   ]
  },
  {
   "cell_type": "markdown",
   "id": "994f74b3",
   "metadata": {},
   "source": [
    "### Linear regression - OLS"
   ]
  },
  {
   "cell_type": "code",
   "execution_count": 69,
   "id": "fd1be5bc",
   "metadata": {
    "ExecuteTime": {
     "end_time": "2022-03-16T18:46:54.729811Z",
     "start_time": "2022-03-16T18:46:54.725031Z"
    }
   },
   "outputs": [],
   "source": [
    "df_submit1 = df_submission_example\n",
    "df_submission_example['congestion'] = y_pred_test"
   ]
  },
  {
   "cell_type": "code",
   "execution_count": 70,
   "id": "19cc7ed9",
   "metadata": {
    "ExecuteTime": {
     "end_time": "2022-03-16T18:46:54.949560Z",
     "start_time": "2022-03-16T18:46:54.933655Z"
    }
   },
   "outputs": [
    {
     "data": {
      "text/html": [
       "<div>\n",
       "<style scoped>\n",
       "    .dataframe tbody tr th:only-of-type {\n",
       "        vertical-align: middle;\n",
       "    }\n",
       "\n",
       "    .dataframe tbody tr th {\n",
       "        vertical-align: top;\n",
       "    }\n",
       "\n",
       "    .dataframe thead th {\n",
       "        text-align: right;\n",
       "    }\n",
       "</style>\n",
       "<table border=\"1\" class=\"dataframe\">\n",
       "  <thead>\n",
       "    <tr style=\"text-align: right;\">\n",
       "      <th></th>\n",
       "      <th>row_id</th>\n",
       "      <th>congestion</th>\n",
       "    </tr>\n",
       "  </thead>\n",
       "  <tbody>\n",
       "    <tr>\n",
       "      <th>0</th>\n",
       "      <td>848835</td>\n",
       "      <td>38.804868</td>\n",
       "    </tr>\n",
       "    <tr>\n",
       "      <th>1</th>\n",
       "      <td>848836</td>\n",
       "      <td>41.087611</td>\n",
       "    </tr>\n",
       "    <tr>\n",
       "      <th>2</th>\n",
       "      <td>848837</td>\n",
       "      <td>42.950030</td>\n",
       "    </tr>\n",
       "    <tr>\n",
       "      <th>3</th>\n",
       "      <td>848838</td>\n",
       "      <td>38.074657</td>\n",
       "    </tr>\n",
       "    <tr>\n",
       "      <th>4</th>\n",
       "      <td>848839</td>\n",
       "      <td>40.357399</td>\n",
       "    </tr>\n",
       "    <tr>\n",
       "      <th>...</th>\n",
       "      <td>...</td>\n",
       "      <td>...</td>\n",
       "    </tr>\n",
       "    <tr>\n",
       "      <th>2335</th>\n",
       "      <td>851170</td>\n",
       "      <td>45.954933</td>\n",
       "    </tr>\n",
       "    <tr>\n",
       "      <th>2336</th>\n",
       "      <td>851171</td>\n",
       "      <td>33.429098</td>\n",
       "    </tr>\n",
       "    <tr>\n",
       "      <th>2337</th>\n",
       "      <td>851172</td>\n",
       "      <td>47.817353</td>\n",
       "    </tr>\n",
       "    <tr>\n",
       "      <th>2338</th>\n",
       "      <td>851173</td>\n",
       "      <td>35.477384</td>\n",
       "    </tr>\n",
       "    <tr>\n",
       "      <th>2339</th>\n",
       "      <td>851174</td>\n",
       "      <td>43.722068</td>\n",
       "    </tr>\n",
       "  </tbody>\n",
       "</table>\n",
       "<p>2340 rows × 2 columns</p>\n",
       "</div>"
      ],
      "text/plain": [
       "      row_id  congestion\n",
       "0     848835   38.804868\n",
       "1     848836   41.087611\n",
       "2     848837   42.950030\n",
       "3     848838   38.074657\n",
       "4     848839   40.357399\n",
       "...      ...         ...\n",
       "2335  851170   45.954933\n",
       "2336  851171   33.429098\n",
       "2337  851172   47.817353\n",
       "2338  851173   35.477384\n",
       "2339  851174   43.722068\n",
       "\n",
       "[2340 rows x 2 columns]"
      ]
     },
     "execution_count": 70,
     "metadata": {},
     "output_type": "execute_result"
    }
   ],
   "source": [
    "df_submission_example"
   ]
  },
  {
   "cell_type": "code",
   "execution_count": 71,
   "id": "2f36f2b4",
   "metadata": {
    "ExecuteTime": {
     "end_time": "2022-03-16T18:47:02.703446Z",
     "start_time": "2022-03-16T18:47:02.699680Z"
    }
   },
   "outputs": [],
   "source": [
    "# df_submit1['congestion'].astype('float')"
   ]
  },
  {
   "cell_type": "code",
   "execution_count": 72,
   "id": "310486a9",
   "metadata": {
    "ExecuteTime": {
     "end_time": "2022-03-16T18:47:02.912622Z",
     "start_time": "2022-03-16T18:47:02.908397Z"
    }
   },
   "outputs": [],
   "source": [
    "# df_submission_example['congestion'].map('{:,.2f}'.format)"
   ]
  },
  {
   "cell_type": "code",
   "execution_count": 73,
   "id": "fd524533",
   "metadata": {
    "ExecuteTime": {
     "end_time": "2022-03-16T18:47:03.178433Z",
     "start_time": "2022-03-16T18:47:03.152262Z"
    }
   },
   "outputs": [],
   "source": [
    "df_submit1.to_csv('submission2.csv', index=False)"
   ]
  },
  {
   "cell_type": "code",
   "execution_count": null,
   "id": "2c6a8d9a",
   "metadata": {},
   "outputs": [],
   "source": []
  },
  {
   "cell_type": "markdown",
   "id": "fbb9ce5f",
   "metadata": {},
   "source": [
    "### Lasso"
   ]
  },
  {
   "cell_type": "code",
   "execution_count": 108,
   "id": "b7094cbe",
   "metadata": {
    "ExecuteTime": {
     "end_time": "2022-03-16T18:58:02.668745Z",
     "start_time": "2022-03-16T18:58:02.651170Z"
    }
   },
   "outputs": [],
   "source": [
    "df_submit1 = df_submission_example\n",
    "df_submission_example['congestion'] = y_pred_test_lasso\n",
    "df_submit1.to_csv('submission2_lasso.csv', index=False)"
   ]
  },
  {
   "cell_type": "markdown",
   "id": "285d9e3e",
   "metadata": {},
   "source": [
    "### Ridge"
   ]
  },
  {
   "cell_type": "code",
   "execution_count": 110,
   "id": "81a29d7e",
   "metadata": {
    "ExecuteTime": {
     "end_time": "2022-03-16T18:58:19.841672Z",
     "start_time": "2022-03-16T18:58:19.822849Z"
    }
   },
   "outputs": [],
   "source": [
    "df_submit1 = df_submission_example\n",
    "df_submission_example['congestion'] = y_pred_test_ridge\n",
    "df_submit1.to_csv('submission2_ridge.csv', index=False)"
   ]
  },
  {
   "cell_type": "markdown",
   "id": "121a6d68",
   "metadata": {},
   "source": [
    "### ElasticNet"
   ]
  },
  {
   "cell_type": "code",
   "execution_count": 111,
   "id": "d930d417",
   "metadata": {
    "ExecuteTime": {
     "end_time": "2022-03-16T18:58:35.070870Z",
     "start_time": "2022-03-16T18:58:35.052260Z"
    }
   },
   "outputs": [],
   "source": [
    "df_submit1 = df_submission_example\n",
    "df_submission_example['congestion'] = y_pred_test_elasticnet\n",
    "df_submit1.to_csv('submission2_elasticnet.csv', index=False)"
   ]
  },
  {
   "cell_type": "markdown",
   "id": "25121fa8",
   "metadata": {},
   "source": [
    "### LARS"
   ]
  },
  {
   "cell_type": "code",
   "execution_count": 112,
   "id": "e7463f52",
   "metadata": {
    "ExecuteTime": {
     "end_time": "2022-03-16T18:58:51.211253Z",
     "start_time": "2022-03-16T18:58:51.195463Z"
    }
   },
   "outputs": [],
   "source": [
    "df_submit1 = df_submission_example\n",
    "df_submission_example['congestion'] = y_pred_test_lars\n",
    "df_submit1.to_csv('submission2_lars.csv', index=False)"
   ]
  }
 ],
 "metadata": {
  "kernelspec": {
   "display_name": "Python 3",
   "language": "python",
   "name": "python3"
  },
  "language_info": {
   "codemirror_mode": {
    "name": "ipython",
    "version": 3
   },
   "file_extension": ".py",
   "mimetype": "text/x-python",
   "name": "python",
   "nbconvert_exporter": "python",
   "pygments_lexer": "ipython3",
   "version": "3.8.8"
  },
  "toc": {
   "base_numbering": 1,
   "nav_menu": {},
   "number_sections": true,
   "sideBar": true,
   "skip_h1_title": false,
   "title_cell": "Table of Contents",
   "title_sidebar": "Contents",
   "toc_cell": false,
   "toc_position": {},
   "toc_section_display": true,
   "toc_window_display": false
  }
 },
 "nbformat": 4,
 "nbformat_minor": 5
}
